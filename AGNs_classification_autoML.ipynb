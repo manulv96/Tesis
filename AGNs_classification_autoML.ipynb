{
 "cells": [
  {
   "cell_type": "code",
   "execution_count": 1,
   "id": "61da2906-d5eb-4f81-b229-7364180ef914",
   "metadata": {},
   "outputs": [],
   "source": [
    "from scipy.integrate import odeint\n",
    "import numpy as np\n",
    "from scipy.stats import skew, kurtosis\n",
    "from scipy.signal import lombscargle\n",
    "import pandas as pd\n",
    "import matplotlib.pyplot as plt\n",
    "from sklearn.ensemble import RandomForestClassifier\n",
    "from sklearn.model_selection import train_test_split\n",
    "\n",
    "from sklearn.metrics import mean_squared_error\n",
    "import itertools\n",
    "from numpy import *\n",
    "import seaborn as sns\n",
    "from sklearn.metrics import accuracy_score\n",
    "#from mlxtend.feature_selection import SequentialFeatureSelector as SFS\n",
    "from sklearn.model_selection import StratifiedShuffleSplit\n",
    "from sklearn import metrics\n",
    "import os\n",
    "from sklearn.metrics import confusion_matrix, precision_score\n",
    "from sklearn.metrics import precision_score \n",
    "from imblearn.metrics import specificity_score\n",
    "from sklearn.model_selection import cross_val_score\n",
    "from sklearn.metrics import roc_auc_score\n",
    "from sklearn.linear_model import LogisticRegression\n",
    "from sklearn.metrics import r2_score\n",
    "from sklearn.metrics import recall_score\n",
    "from sklearn.metrics import f1_score\n",
    "from sklearn.metrics import classification_report\n",
    "from imblearn.over_sampling import RandomOverSampler\n",
    "#import xgboost as xgb\n",
    "from sklearn.preprocessing import MinMaxScaler\n",
    "import warnings"
   ]
  },
  {
   "cell_type": "code",
   "execution_count": 2,
   "id": "2e2b9ee1",
   "metadata": {},
   "outputs": [],
   "source": [
    "# If run locally true then use the path Curvassinteticas if not run from Manu path.\n",
    "run_locally = True\n",
    "dff = []\n",
    "if run_locally:\n",
    "    dir = 'obs/AGNs/'\n",
    "    path = 'obs/AGNs/'\n",
    "    for i in range(1, 26):\n",
    "        filename = f\"Curvassinteticas/orig{'0' if i < 10 else ''}{i}.dat\"\n",
    "        dff.append(np.loadtxt(filename))\n",
    "else:\n",
    "    dir = '/home/anakin/Documents/Tesis/Codigo/AGNs/'\n",
    "    path = '/home/anakin/Documents/Tesis/Codigo/AGNs/' #path to main directory\n",
    "    for i in range(1, 26):\n",
    "        filename = f\"/home/anakin/Documents/Tesis/Codigo/Curvassinteticas/orig{'0' if i < 10 else ''}{i}.dat\"\n",
    "        dff.append(np.loadtxt(filename))"
   ]
  },
  {
   "cell_type": "code",
   "execution_count": 3,
   "id": "4aeda318-9cb5-408c-84a1-c793e20cd9a5",
   "metadata": {},
   "outputs": [],
   "source": [
    "#Function to read the files and separate each AGN and its errors.\n",
    "\n",
    "def agns(data):\n",
    "    \n",
    "    #Read the first column which is the Julian days.\n",
    "    t = data[:,0]\n",
    "    \n",
    "    agn=[] #AGNs\n",
    "    err_agn=[] #AGNs errors\n",
    "    star=[] #Calibration Stars\n",
    "    err_star=[] #Calibration Stars errors\n",
    "    agn_p=[] #Periodic AGNs\n",
    "    err_agn_p=[] #Periodic AGNs errors\n",
    "\n",
    "    for i in range(1, 544, 2):\n",
    "\n",
    "        if i <  400: \n",
    " \n",
    "            agns = data[:,i]\n",
    "            err_agns = data[:,i+1]\n",
    "            agn.append(agns)\n",
    "            err_agn.append(err_agns)\n",
    "            \n",
    "        elif i > 400 and i < 526:\n",
    "   \n",
    "            stars = data[:,i]\n",
    "            err_stars = data[:,i+1]\n",
    "            star.append(stars)\n",
    "            err_star.append(err_stars)\n",
    "            \n",
    "        elif i > 526: \n",
    "\n",
    "            agn_ps = data[:,i]\n",
    "            err_agn_ps = data[:,i+1]\n",
    "            agn_p.append(agn_ps)\n",
    "            err_agn_p.append(err_agn_ps)\n",
    "            \n",
    "    return agn, err_agn, star, err_star, agn_p, err_agn_p, t\n",
    "                                       \n",
    "    "
   ]
  },
  {
   "cell_type": "code",
   "execution_count": 4,
   "id": "e7e2de75-19f3-4672-b359-96991da057de",
   "metadata": {},
   "outputs": [],
   "source": [
    "#We calibrate the observed fluxes of the AGNs using the calibration stars.\n",
    "\n",
    "#For this, we choose for each AGN the star that has the magnitude most similar to that of the AGN.\n",
    "\n",
    "\n",
    "#We use the mean of each star and AGN for comparison. \n",
    "\n",
    "\n",
    "#We define a function that calculates the star with mean magnitude most similar to the AGN and then subtracts those magnitudes and this is what we will use to determine\n",
    "\n",
    "#whether an AGN is variable or not.\n",
    "\n",
    "def calibration(agn, star, err_agn, err_star):\n",
    "\n",
    "    rest = []\n",
    "    \n",
    "    for i in range(63):\n",
    "\n",
    "        resta = abs (np.mean(star[i])-np.mean(agn))\n",
    "\n",
    "        rest.append(resta)\n",
    "    \n",
    "        ind_min = np.argmin(rest)\n",
    "\n",
    "        cal = agn - star[ind_min] #Calibrated magnitude\n",
    "\n",
    "        err_cal = err_agn + err_star[ind_min]#Error calibrated magnitude \n",
    "        \n",
    "    return cal, err_cal"
   ]
  },
  {
   "cell_type": "code",
   "execution_count": 5,
   "id": "12c947ff-2a78-4e03-97e2-eef47b9f188e",
   "metadata": {},
   "outputs": [],
   "source": [
    "def extract_features(mag, mag_w_err):\n",
    "    \"\"\"\n",
    "    Extract features from the time series data for use in machine learning models.\n",
    "\n",
    "    :param mag: Magnitude data array.\n",
    "    :return: Extracted features.\n",
    "    \"\"\"\n",
    "    features = {\n",
    "        'mag_mean': np.mean(mag),\n",
    "        'mag_var': np.var(mag),\n",
    "        'mag_skew': skew(mag),\n",
    "        'mag_kurt': kurtosis(mag),\n",
    "        'mag_w_e_mean': np.mean(mag_w_err),\n",
    "        'mag_w_e_var': np.var(mag_w_err),\n",
    "        'mag_w_e_skew': skew(mag_w_err),\n",
    "        'mag_w_e_kurt': kurtosis(mag_w_err),\n",
    "    }\n",
    "    \n",
    "    return features"
   ]
  },
  {
   "cell_type": "code",
   "execution_count": 6,
   "id": "04e166a9-1099-475a-92af-014a84036c29",
   "metadata": {},
   "outputs": [],
   "source": [
    "def remove_outliers(df, column_names):\n",
    "    \"\"\"\n",
    "    Remove outliers from a pandas DataFrame based on the interquartile range.\n",
    "\n",
    "    :param df: Pandas DataFrame.\n",
    "    :param column_names: List of column names to check for outliers.\n",
    "    :return: DataFrame with outliers removed.\n",
    "    \"\"\"\n",
    "    clean_df = df.copy()\n",
    "    \n",
    "    for column in column_names:\n",
    "        Q1 = clean_df[column].quantile(0.10)\n",
    "        Q3 = clean_df[column].quantile(0.90)\n",
    "        IQR = Q3 - Q1\n",
    "        lower_bound = Q1 - 1.5 * IQR\n",
    "        upper_bound = Q3 + 1.5 * IQR\n",
    "        \n",
    "        # Filter out the outliers\n",
    "        clean_df = clean_df[(clean_df[column] >= lower_bound) & (clean_df[column] <= upper_bound)]\n",
    "    \n",
    "    return clean_df"
   ]
  },
  {
   "cell_type": "code",
   "execution_count": 7,
   "id": "aac73cc5-4579-4d88-b8bf-967676f5a038",
   "metadata": {},
   "outputs": [],
   "source": [
    "#Create an save the dataframe to a CSV file\n",
    "\n",
    "def dataframe(df, N, p, star, err_star, c, x): # p is the value of the target variable. 1 for variable AGNs and 0 for non-viarable AGNs\n",
    "                               # df and star must have the same subindex\n",
    "\n",
    "    for i in range(N): # N: number of AGNs in the dataset\n",
    "\n",
    "        agn_a = agns(df)[c]\n",
    "        agn = agn_a[i]\n",
    "\n",
    "        err_a = agns(df)[x]\n",
    "        err_agn = err_a[i]\n",
    "\n",
    "        #Calculates the calibrated magnitude of the AGN\n",
    "        mag = calibration(agn, star, err_agn, err_star)[0]\n",
    "        err_mag = calibration(agn, star, err_agn, err_star)[1]\n",
    "\n",
    "        rng = np.random.default_rng()\n",
    "        t = rng.uniform(0, 2, N)\n",
    "\n",
    "        if t[i] <= 1:\n",
    "\n",
    "            mag_w_err = mag + err_mag\n",
    "\n",
    "        else:\n",
    "\n",
    "            mag_w_err = mag - err_mag\n",
    "\n",
    "        # Extract features from the time series data\n",
    "        features = extract_features(mag, mag_w_err)\n",
    "        \n",
    "        # Store the features and the target variable\n",
    "        data_features.append(features)\n",
    "\n",
    "        if p == 1:\n",
    "            variability.append(1)\n",
    "        else:\n",
    "            variability.append(0)\n",
    "\n",
    "    return data_features"
   ]
  },
  {
   "cell_type": "code",
   "execution_count": 8,
   "id": "bb55cf47-9d55-45cc-893d-81bcadbe6b87",
   "metadata": {},
   "outputs": [],
   "source": [
    "#First whit the non-variable AGNs\n",
    "\n",
    "data_features = []\n",
    "data_features_p = []\n",
    "variability = []\n",
    "\n",
    "for i in range(len(dff)):\n",
    "\n",
    "    dt = dff[i]\n",
    "    star = agns(dt)[2]\n",
    "    err_star = agns(dt)[3]\n",
    "    data_features = dataframe(dt, 200, 0, star, err_star, 0, 1)\n",
    "\n",
    "    # Convert lists to a DataFrame\n",
    "    features_df = pd.DataFrame(data_features)\n",
    "    features_df['Variability'] = variability       \n",
    "\n",
    " # Save the DataFrame to a CSV file\n",
    "#features_df.to_csv('simulated_time_series_data_agns.csv', index=False)"
   ]
  },
  {
   "cell_type": "code",
   "execution_count": 9,
   "id": "9098aff0-7f32-486e-9fc3-73d2e09daca6",
   "metadata": {},
   "outputs": [],
   "source": [
    "#Then with the variable AGNs\n",
    "\n",
    "for i in range(len(dff)):\n",
    "\n",
    "    dt = dff[i]\n",
    "    star = agns(dt)[2]\n",
    "    err_star = agns(dt)[3]\n",
    "    data_features = dataframe(dt, 9, 1, star, err_star, 4, 5)\n",
    "\n",
    "    # Convert lists to a DataFrame\n",
    "    features_df = pd.DataFrame(data_features)\n",
    "    features_df['Variability'] = variability       \n",
    "\n",
    " # Save the DataFrame to a CSV file\n",
    "features_df.to_csv('simulated_time_series_data_agns.csv', index=False)"
   ]
  },
  {
   "cell_type": "code",
   "execution_count": 10,
   "id": "fb7536dc-362b-4b72-b6fb-8610d0ea8a04",
   "metadata": {},
   "outputs": [
    {
     "data": {
      "text/html": [
       "<div>\n",
       "<style scoped>\n",
       "    .dataframe tbody tr th:only-of-type {\n",
       "        vertical-align: middle;\n",
       "    }\n",
       "\n",
       "    .dataframe tbody tr th {\n",
       "        vertical-align: top;\n",
       "    }\n",
       "\n",
       "    .dataframe thead th {\n",
       "        text-align: right;\n",
       "    }\n",
       "</style>\n",
       "<table border=\"1\" class=\"dataframe\">\n",
       "  <thead>\n",
       "    <tr style=\"text-align: right;\">\n",
       "      <th></th>\n",
       "      <th>mag_mean</th>\n",
       "      <th>mag_var</th>\n",
       "      <th>mag_skew</th>\n",
       "      <th>mag_kurt</th>\n",
       "      <th>mag_w_e_mean</th>\n",
       "      <th>mag_w_e_var</th>\n",
       "      <th>mag_w_e_skew</th>\n",
       "      <th>mag_w_e_kurt</th>\n",
       "      <th>Variability</th>\n",
       "    </tr>\n",
       "  </thead>\n",
       "  <tbody>\n",
       "    <tr>\n",
       "      <th>0</th>\n",
       "      <td>0.010450</td>\n",
       "      <td>0.000020</td>\n",
       "      <td>-0.233428</td>\n",
       "      <td>-0.543255</td>\n",
       "      <td>0.004450</td>\n",
       "      <td>0.000020</td>\n",
       "      <td>-0.233428</td>\n",
       "      <td>-0.543255</td>\n",
       "      <td>0</td>\n",
       "    </tr>\n",
       "    <tr>\n",
       "      <th>1</th>\n",
       "      <td>-0.014100</td>\n",
       "      <td>0.000017</td>\n",
       "      <td>-0.209839</td>\n",
       "      <td>0.418627</td>\n",
       "      <td>-0.008100</td>\n",
       "      <td>0.000017</td>\n",
       "      <td>-0.209839</td>\n",
       "      <td>0.418627</td>\n",
       "      <td>0</td>\n",
       "    </tr>\n",
       "    <tr>\n",
       "      <th>2</th>\n",
       "      <td>-0.009125</td>\n",
       "      <td>0.000016</td>\n",
       "      <td>0.335852</td>\n",
       "      <td>-0.078736</td>\n",
       "      <td>-0.003125</td>\n",
       "      <td>0.000016</td>\n",
       "      <td>0.335852</td>\n",
       "      <td>-0.078736</td>\n",
       "      <td>0</td>\n",
       "    </tr>\n",
       "    <tr>\n",
       "      <th>3</th>\n",
       "      <td>-0.004100</td>\n",
       "      <td>0.000017</td>\n",
       "      <td>-0.199723</td>\n",
       "      <td>-0.703788</td>\n",
       "      <td>-0.010100</td>\n",
       "      <td>0.000017</td>\n",
       "      <td>-0.199723</td>\n",
       "      <td>-0.703788</td>\n",
       "      <td>0</td>\n",
       "    </tr>\n",
       "    <tr>\n",
       "      <th>4</th>\n",
       "      <td>0.000325</td>\n",
       "      <td>0.000013</td>\n",
       "      <td>-0.097803</td>\n",
       "      <td>-0.743768</td>\n",
       "      <td>-0.005675</td>\n",
       "      <td>0.000013</td>\n",
       "      <td>-0.097803</td>\n",
       "      <td>-0.743768</td>\n",
       "      <td>0</td>\n",
       "    </tr>\n",
       "    <tr>\n",
       "      <th>...</th>\n",
       "      <td>...</td>\n",
       "      <td>...</td>\n",
       "      <td>...</td>\n",
       "      <td>...</td>\n",
       "      <td>...</td>\n",
       "      <td>...</td>\n",
       "      <td>...</td>\n",
       "      <td>...</td>\n",
       "      <td>...</td>\n",
       "    </tr>\n",
       "    <tr>\n",
       "      <th>5220</th>\n",
       "      <td>0.013825</td>\n",
       "      <td>0.006252</td>\n",
       "      <td>-0.131830</td>\n",
       "      <td>-1.091343</td>\n",
       "      <td>-0.002375</td>\n",
       "      <td>0.006280</td>\n",
       "      <td>-0.118861</td>\n",
       "      <td>-1.075591</td>\n",
       "      <td>1</td>\n",
       "    </tr>\n",
       "    <tr>\n",
       "      <th>5221</th>\n",
       "      <td>-0.012100</td>\n",
       "      <td>0.004425</td>\n",
       "      <td>-0.281331</td>\n",
       "      <td>-1.361673</td>\n",
       "      <td>-0.028300</td>\n",
       "      <td>0.004399</td>\n",
       "      <td>-0.264609</td>\n",
       "      <td>-1.367214</td>\n",
       "      <td>1</td>\n",
       "    </tr>\n",
       "    <tr>\n",
       "      <th>5222</th>\n",
       "      <td>0.011225</td>\n",
       "      <td>0.001518</td>\n",
       "      <td>-0.197547</td>\n",
       "      <td>0.424307</td>\n",
       "      <td>0.026825</td>\n",
       "      <td>0.001507</td>\n",
       "      <td>-0.204807</td>\n",
       "      <td>0.346040</td>\n",
       "      <td>1</td>\n",
       "    </tr>\n",
       "    <tr>\n",
       "      <th>5223</th>\n",
       "      <td>-0.015050</td>\n",
       "      <td>0.001099</td>\n",
       "      <td>-0.067906</td>\n",
       "      <td>-1.155384</td>\n",
       "      <td>-0.030650</td>\n",
       "      <td>0.001103</td>\n",
       "      <td>-0.060833</td>\n",
       "      <td>-1.125633</td>\n",
       "      <td>1</td>\n",
       "    </tr>\n",
       "    <tr>\n",
       "      <th>5224</th>\n",
       "      <td>-0.008750</td>\n",
       "      <td>0.000337</td>\n",
       "      <td>-0.102621</td>\n",
       "      <td>-0.517691</td>\n",
       "      <td>0.006675</td>\n",
       "      <td>0.000357</td>\n",
       "      <td>-0.230105</td>\n",
       "      <td>-0.787388</td>\n",
       "      <td>1</td>\n",
       "    </tr>\n",
       "  </tbody>\n",
       "</table>\n",
       "<p>5225 rows × 9 columns</p>\n",
       "</div>"
      ],
      "text/plain": [
       "      mag_mean   mag_var  mag_skew  mag_kurt  mag_w_e_mean  mag_w_e_var  \\\n",
       "0     0.010450  0.000020 -0.233428 -0.543255      0.004450     0.000020   \n",
       "1    -0.014100  0.000017 -0.209839  0.418627     -0.008100     0.000017   \n",
       "2    -0.009125  0.000016  0.335852 -0.078736     -0.003125     0.000016   \n",
       "3    -0.004100  0.000017 -0.199723 -0.703788     -0.010100     0.000017   \n",
       "4     0.000325  0.000013 -0.097803 -0.743768     -0.005675     0.000013   \n",
       "...        ...       ...       ...       ...           ...          ...   \n",
       "5220  0.013825  0.006252 -0.131830 -1.091343     -0.002375     0.006280   \n",
       "5221 -0.012100  0.004425 -0.281331 -1.361673     -0.028300     0.004399   \n",
       "5222  0.011225  0.001518 -0.197547  0.424307      0.026825     0.001507   \n",
       "5223 -0.015050  0.001099 -0.067906 -1.155384     -0.030650     0.001103   \n",
       "5224 -0.008750  0.000337 -0.102621 -0.517691      0.006675     0.000357   \n",
       "\n",
       "      mag_w_e_skew  mag_w_e_kurt  Variability  \n",
       "0        -0.233428     -0.543255            0  \n",
       "1        -0.209839      0.418627            0  \n",
       "2         0.335852     -0.078736            0  \n",
       "3        -0.199723     -0.703788            0  \n",
       "4        -0.097803     -0.743768            0  \n",
       "...            ...           ...          ...  \n",
       "5220     -0.118861     -1.075591            1  \n",
       "5221     -0.264609     -1.367214            1  \n",
       "5222     -0.204807      0.346040            1  \n",
       "5223     -0.060833     -1.125633            1  \n",
       "5224     -0.230105     -0.787388            1  \n",
       "\n",
       "[5225 rows x 9 columns]"
      ]
     },
     "execution_count": 10,
     "metadata": {},
     "output_type": "execute_result"
    }
   ],
   "source": [
    "features_df"
   ]
  },
  {
   "cell_type": "code",
   "execution_count": 11,
   "id": "c46d583e-48c0-48eb-9ce0-b3ee1bd4f152",
   "metadata": {},
   "outputs": [
    {
     "data": {
      "text/plain": [
       "mag_mean        0\n",
       "mag_var         0\n",
       "mag_skew        0\n",
       "mag_kurt        0\n",
       "mag_w_e_mean    0\n",
       "mag_w_e_var     0\n",
       "mag_w_e_skew    0\n",
       "mag_w_e_kurt    0\n",
       "Variability     0\n",
       "dtype: int64"
      ]
     },
     "execution_count": 11,
     "metadata": {},
     "output_type": "execute_result"
    }
   ],
   "source": [
    "features_df.isna().sum()"
   ]
  },
  {
   "cell_type": "code",
   "execution_count": 12,
   "id": "65c49842-6004-49ca-8427-18fa7b3fc634",
   "metadata": {},
   "outputs": [],
   "source": [
    "features_df.fillna(0, inplace=True)\n",
    "features_df.dropna(inplace=True)"
   ]
  },
  {
   "cell_type": "code",
   "execution_count": 13,
   "id": "f447f003-2090-4e69-8e89-a4d078896f41",
   "metadata": {},
   "outputs": [
    {
     "data": {
      "text/html": [
       "<div>\n",
       "<style scoped>\n",
       "    .dataframe tbody tr th:only-of-type {\n",
       "        vertical-align: middle;\n",
       "    }\n",
       "\n",
       "    .dataframe tbody tr th {\n",
       "        vertical-align: top;\n",
       "    }\n",
       "\n",
       "    .dataframe thead th {\n",
       "        text-align: right;\n",
       "    }\n",
       "</style>\n",
       "<table border=\"1\" class=\"dataframe\">\n",
       "  <thead>\n",
       "    <tr style=\"text-align: right;\">\n",
       "      <th></th>\n",
       "      <th>mag_mean</th>\n",
       "      <th>mag_var</th>\n",
       "      <th>mag_skew</th>\n",
       "      <th>mag_kurt</th>\n",
       "      <th>mag_w_e_mean</th>\n",
       "      <th>mag_w_e_var</th>\n",
       "      <th>mag_w_e_skew</th>\n",
       "      <th>mag_w_e_kurt</th>\n",
       "      <th>Variability</th>\n",
       "    </tr>\n",
       "  </thead>\n",
       "  <tbody>\n",
       "    <tr>\n",
       "      <th>mag_mean</th>\n",
       "      <td>1.000000</td>\n",
       "      <td>-0.041650</td>\n",
       "      <td>0.026497</td>\n",
       "      <td>0.028460</td>\n",
       "      <td>0.912950</td>\n",
       "      <td>-0.037718</td>\n",
       "      <td>0.035683</td>\n",
       "      <td>0.036083</td>\n",
       "      <td>-0.100698</td>\n",
       "    </tr>\n",
       "    <tr>\n",
       "      <th>mag_var</th>\n",
       "      <td>-0.041650</td>\n",
       "      <td>1.000000</td>\n",
       "      <td>-0.059936</td>\n",
       "      <td>-0.158785</td>\n",
       "      <td>-0.039884</td>\n",
       "      <td>0.998902</td>\n",
       "      <td>-0.052041</td>\n",
       "      <td>-0.159265</td>\n",
       "      <td>0.756343</td>\n",
       "    </tr>\n",
       "    <tr>\n",
       "      <th>mag_skew</th>\n",
       "      <td>0.026497</td>\n",
       "      <td>-0.059936</td>\n",
       "      <td>1.000000</td>\n",
       "      <td>0.043838</td>\n",
       "      <td>0.028986</td>\n",
       "      <td>-0.061224</td>\n",
       "      <td>0.808046</td>\n",
       "      <td>0.038896</td>\n",
       "      <td>-0.094039</td>\n",
       "    </tr>\n",
       "    <tr>\n",
       "      <th>mag_kurt</th>\n",
       "      <td>0.028460</td>\n",
       "      <td>-0.158785</td>\n",
       "      <td>0.043838</td>\n",
       "      <td>1.000000</td>\n",
       "      <td>0.019271</td>\n",
       "      <td>-0.150991</td>\n",
       "      <td>0.022822</td>\n",
       "      <td>0.892988</td>\n",
       "      <td>-0.218651</td>\n",
       "    </tr>\n",
       "    <tr>\n",
       "      <th>mag_w_e_mean</th>\n",
       "      <td>0.912950</td>\n",
       "      <td>-0.039884</td>\n",
       "      <td>0.028986</td>\n",
       "      <td>0.019271</td>\n",
       "      <td>1.000000</td>\n",
       "      <td>-0.037675</td>\n",
       "      <td>0.187494</td>\n",
       "      <td>0.028183</td>\n",
       "      <td>-0.091886</td>\n",
       "    </tr>\n",
       "    <tr>\n",
       "      <th>mag_w_e_var</th>\n",
       "      <td>-0.037718</td>\n",
       "      <td>0.998902</td>\n",
       "      <td>-0.061224</td>\n",
       "      <td>-0.150991</td>\n",
       "      <td>-0.037675</td>\n",
       "      <td>1.000000</td>\n",
       "      <td>-0.053927</td>\n",
       "      <td>-0.151783</td>\n",
       "      <td>0.751576</td>\n",
       "    </tr>\n",
       "    <tr>\n",
       "      <th>mag_w_e_skew</th>\n",
       "      <td>0.035683</td>\n",
       "      <td>-0.052041</td>\n",
       "      <td>0.808046</td>\n",
       "      <td>0.022822</td>\n",
       "      <td>0.187494</td>\n",
       "      <td>-0.053927</td>\n",
       "      <td>1.000000</td>\n",
       "      <td>0.028370</td>\n",
       "      <td>-0.085703</td>\n",
       "    </tr>\n",
       "    <tr>\n",
       "      <th>mag_w_e_kurt</th>\n",
       "      <td>0.036083</td>\n",
       "      <td>-0.159265</td>\n",
       "      <td>0.038896</td>\n",
       "      <td>0.892988</td>\n",
       "      <td>0.028183</td>\n",
       "      <td>-0.151783</td>\n",
       "      <td>0.028370</td>\n",
       "      <td>1.000000</td>\n",
       "      <td>-0.217122</td>\n",
       "    </tr>\n",
       "    <tr>\n",
       "      <th>Variability</th>\n",
       "      <td>-0.100698</td>\n",
       "      <td>0.756343</td>\n",
       "      <td>-0.094039</td>\n",
       "      <td>-0.218651</td>\n",
       "      <td>-0.091886</td>\n",
       "      <td>0.751576</td>\n",
       "      <td>-0.085703</td>\n",
       "      <td>-0.217122</td>\n",
       "      <td>1.000000</td>\n",
       "    </tr>\n",
       "  </tbody>\n",
       "</table>\n",
       "</div>"
      ],
      "text/plain": [
       "              mag_mean   mag_var  mag_skew  mag_kurt  mag_w_e_mean  \\\n",
       "mag_mean      1.000000 -0.041650  0.026497  0.028460      0.912950   \n",
       "mag_var      -0.041650  1.000000 -0.059936 -0.158785     -0.039884   \n",
       "mag_skew      0.026497 -0.059936  1.000000  0.043838      0.028986   \n",
       "mag_kurt      0.028460 -0.158785  0.043838  1.000000      0.019271   \n",
       "mag_w_e_mean  0.912950 -0.039884  0.028986  0.019271      1.000000   \n",
       "mag_w_e_var  -0.037718  0.998902 -0.061224 -0.150991     -0.037675   \n",
       "mag_w_e_skew  0.035683 -0.052041  0.808046  0.022822      0.187494   \n",
       "mag_w_e_kurt  0.036083 -0.159265  0.038896  0.892988      0.028183   \n",
       "Variability  -0.100698  0.756343 -0.094039 -0.218651     -0.091886   \n",
       "\n",
       "              mag_w_e_var  mag_w_e_skew  mag_w_e_kurt  Variability  \n",
       "mag_mean        -0.037718      0.035683      0.036083    -0.100698  \n",
       "mag_var          0.998902     -0.052041     -0.159265     0.756343  \n",
       "mag_skew        -0.061224      0.808046      0.038896    -0.094039  \n",
       "mag_kurt        -0.150991      0.022822      0.892988    -0.218651  \n",
       "mag_w_e_mean    -0.037675      0.187494      0.028183    -0.091886  \n",
       "mag_w_e_var      1.000000     -0.053927     -0.151783     0.751576  \n",
       "mag_w_e_skew    -0.053927      1.000000      0.028370    -0.085703  \n",
       "mag_w_e_kurt    -0.151783      0.028370      1.000000    -0.217122  \n",
       "Variability      0.751576     -0.085703     -0.217122     1.000000  "
      ]
     },
     "execution_count": 13,
     "metadata": {},
     "output_type": "execute_result"
    }
   ],
   "source": [
    "features_df.corr()"
   ]
  },
  {
   "cell_type": "code",
   "execution_count": 14,
   "id": "fcde129c-0c50-4533-9baa-16ffcba20e63",
   "metadata": {},
   "outputs": [
    {
     "data": {
      "image/png": "[encoded data removed]",
      "text/plain": [
       "<Figure size 640x480 with 1 Axes>"
      ]
     },
     "metadata": {},
     "output_type": "display_data"
    }
   ],
   "source": [
    "pie_x, pie_y = np.unique(features_df['Variability'], return_counts=True)\n",
    "plt.pie(pie_y, labels=pie_x, autopct = '%1.1f%%') \n",
    "plt.title('AGNs Variability Rate')\n",
    "plt.show()"
   ]
  },
  {
   "cell_type": "markdown",
   "id": "23026d0a",
   "metadata": {},
   "source": [
    "# Pycaret AutoML"
   ]
  },
  {
   "cell_type": "code",
   "execution_count": 15,
   "id": "40446484",
   "metadata": {},
   "outputs": [
    {
     "data": {
      "text/plain": [
       "Index(['mag_mean', 'mag_var', 'mag_skew', 'mag_kurt', 'mag_w_e_mean',\n",
       "       'mag_w_e_var', 'mag_w_e_skew', 'mag_w_e_kurt', 'Variability'],\n",
       "      dtype='object')"
      ]
     },
     "execution_count": 15,
     "metadata": {},
     "output_type": "execute_result"
    }
   ],
   "source": [
    "features_df.columns"
   ]
  },
  {
   "cell_type": "code",
   "execution_count": 37,
   "id": "ef2a187d",
   "metadata": {},
   "outputs": [
    {
     "data": {
      "text/html": [
       "<style type=\"text/css\">\n",
       "#T_444c0_row8_col1, #T_444c0_row12_col1 {\n",
       "  background-color: lightgreen;\n",
       "}\n",
       "</style>\n",
       "<table id=\"T_444c0\">\n",
       "  <thead>\n",
       "    <tr>\n",
       "      <th class=\"blank level0\" >&nbsp;</th>\n",
       "      <th id=\"T_444c0_level0_col0\" class=\"col_heading level0 col0\" >Description</th>\n",
       "      <th id=\"T_444c0_level0_col1\" class=\"col_heading level0 col1\" >Value</th>\n",
       "    </tr>\n",
       "  </thead>\n",
       "  <tbody>\n",
       "    <tr>\n",
       "      <th id=\"T_444c0_level0_row0\" class=\"row_heading level0 row0\" >0</th>\n",
       "      <td id=\"T_444c0_row0_col0\" class=\"data row0 col0\" >Session id</td>\n",
       "      <td id=\"T_444c0_row0_col1\" class=\"data row0 col1\" >8948</td>\n",
       "    </tr>\n",
       "    <tr>\n",
       "      <th id=\"T_444c0_level0_row1\" class=\"row_heading level0 row1\" >1</th>\n",
       "      <td id=\"T_444c0_row1_col0\" class=\"data row1 col0\" >Target</td>\n",
       "      <td id=\"T_444c0_row1_col1\" class=\"data row1 col1\" >Variability</td>\n",
       "    </tr>\n",
       "    <tr>\n",
       "      <th id=\"T_444c0_level0_row2\" class=\"row_heading level0 row2\" >2</th>\n",
       "      <td id=\"T_444c0_row2_col0\" class=\"data row2 col0\" >Target type</td>\n",
       "      <td id=\"T_444c0_row2_col1\" class=\"data row2 col1\" >Binary</td>\n",
       "    </tr>\n",
       "    <tr>\n",
       "      <th id=\"T_444c0_level0_row3\" class=\"row_heading level0 row3\" >3</th>\n",
       "      <td id=\"T_444c0_row3_col0\" class=\"data row3 col0\" >Original data shape</td>\n",
       "      <td id=\"T_444c0_row3_col1\" class=\"data row3 col1\" >(5225, 5)</td>\n",
       "    </tr>\n",
       "    <tr>\n",
       "      <th id=\"T_444c0_level0_row4\" class=\"row_heading level0 row4\" >4</th>\n",
       "      <td id=\"T_444c0_row4_col0\" class=\"data row4 col0\" >Transformed data shape</td>\n",
       "      <td id=\"T_444c0_row4_col1\" class=\"data row4 col1\" >(8568, 5)</td>\n",
       "    </tr>\n",
       "    <tr>\n",
       "      <th id=\"T_444c0_level0_row5\" class=\"row_heading level0 row5\" >5</th>\n",
       "      <td id=\"T_444c0_row5_col0\" class=\"data row5 col0\" >Transformed train set shape</td>\n",
       "      <td id=\"T_444c0_row5_col1\" class=\"data row5 col1\" >(7000, 5)</td>\n",
       "    </tr>\n",
       "    <tr>\n",
       "      <th id=\"T_444c0_level0_row6\" class=\"row_heading level0 row6\" >6</th>\n",
       "      <td id=\"T_444c0_row6_col0\" class=\"data row6 col0\" >Transformed test set shape</td>\n",
       "      <td id=\"T_444c0_row6_col1\" class=\"data row6 col1\" >(1568, 5)</td>\n",
       "    </tr>\n",
       "    <tr>\n",
       "      <th id=\"T_444c0_level0_row7\" class=\"row_heading level0 row7\" >7</th>\n",
       "      <td id=\"T_444c0_row7_col0\" class=\"data row7 col0\" >Numeric features</td>\n",
       "      <td id=\"T_444c0_row7_col1\" class=\"data row7 col1\" >4</td>\n",
       "    </tr>\n",
       "    <tr>\n",
       "      <th id=\"T_444c0_level0_row8\" class=\"row_heading level0 row8\" >8</th>\n",
       "      <td id=\"T_444c0_row8_col0\" class=\"data row8 col0\" >Preprocess</td>\n",
       "      <td id=\"T_444c0_row8_col1\" class=\"data row8 col1\" >True</td>\n",
       "    </tr>\n",
       "    <tr>\n",
       "      <th id=\"T_444c0_level0_row9\" class=\"row_heading level0 row9\" >9</th>\n",
       "      <td id=\"T_444c0_row9_col0\" class=\"data row9 col0\" >Imputation type</td>\n",
       "      <td id=\"T_444c0_row9_col1\" class=\"data row9 col1\" >simple</td>\n",
       "    </tr>\n",
       "    <tr>\n",
       "      <th id=\"T_444c0_level0_row10\" class=\"row_heading level0 row10\" >10</th>\n",
       "      <td id=\"T_444c0_row10_col0\" class=\"data row10 col0\" >Numeric imputation</td>\n",
       "      <td id=\"T_444c0_row10_col1\" class=\"data row10 col1\" >mean</td>\n",
       "    </tr>\n",
       "    <tr>\n",
       "      <th id=\"T_444c0_level0_row11\" class=\"row_heading level0 row11\" >11</th>\n",
       "      <td id=\"T_444c0_row11_col0\" class=\"data row11 col0\" >Categorical imputation</td>\n",
       "      <td id=\"T_444c0_row11_col1\" class=\"data row11 col1\" >mode</td>\n",
       "    </tr>\n",
       "    <tr>\n",
       "      <th id=\"T_444c0_level0_row12\" class=\"row_heading level0 row12\" >12</th>\n",
       "      <td id=\"T_444c0_row12_col0\" class=\"data row12 col0\" >Fix imbalance</td>\n",
       "      <td id=\"T_444c0_row12_col1\" class=\"data row12 col1\" >True</td>\n",
       "    </tr>\n",
       "    <tr>\n",
       "      <th id=\"T_444c0_level0_row13\" class=\"row_heading level0 row13\" >13</th>\n",
       "      <td id=\"T_444c0_row13_col0\" class=\"data row13 col0\" >Fix imbalance method</td>\n",
       "      <td id=\"T_444c0_row13_col1\" class=\"data row13 col1\" >SMOTE</td>\n",
       "    </tr>\n",
       "    <tr>\n",
       "      <th id=\"T_444c0_level0_row14\" class=\"row_heading level0 row14\" >14</th>\n",
       "      <td id=\"T_444c0_row14_col0\" class=\"data row14 col0\" >Fold Generator</td>\n",
       "      <td id=\"T_444c0_row14_col1\" class=\"data row14 col1\" >StratifiedKFold</td>\n",
       "    </tr>\n",
       "    <tr>\n",
       "      <th id=\"T_444c0_level0_row15\" class=\"row_heading level0 row15\" >15</th>\n",
       "      <td id=\"T_444c0_row15_col0\" class=\"data row15 col0\" >Fold Number</td>\n",
       "      <td id=\"T_444c0_row15_col1\" class=\"data row15 col1\" >10</td>\n",
       "    </tr>\n",
       "    <tr>\n",
       "      <th id=\"T_444c0_level0_row16\" class=\"row_heading level0 row16\" >16</th>\n",
       "      <td id=\"T_444c0_row16_col0\" class=\"data row16 col0\" >CPU Jobs</td>\n",
       "      <td id=\"T_444c0_row16_col1\" class=\"data row16 col1\" >-1</td>\n",
       "    </tr>\n",
       "    <tr>\n",
       "      <th id=\"T_444c0_level0_row17\" class=\"row_heading level0 row17\" >17</th>\n",
       "      <td id=\"T_444c0_row17_col0\" class=\"data row17 col0\" >Use GPU</td>\n",
       "      <td id=\"T_444c0_row17_col1\" class=\"data row17 col1\" >False</td>\n",
       "    </tr>\n",
       "    <tr>\n",
       "      <th id=\"T_444c0_level0_row18\" class=\"row_heading level0 row18\" >18</th>\n",
       "      <td id=\"T_444c0_row18_col0\" class=\"data row18 col0\" >Log Experiment</td>\n",
       "      <td id=\"T_444c0_row18_col1\" class=\"data row18 col1\" >False</td>\n",
       "    </tr>\n",
       "    <tr>\n",
       "      <th id=\"T_444c0_level0_row19\" class=\"row_heading level0 row19\" >19</th>\n",
       "      <td id=\"T_444c0_row19_col0\" class=\"data row19 col0\" >Experiment Name</td>\n",
       "      <td id=\"T_444c0_row19_col1\" class=\"data row19 col1\" >clf-default-name</td>\n",
       "    </tr>\n",
       "    <tr>\n",
       "      <th id=\"T_444c0_level0_row20\" class=\"row_heading level0 row20\" >20</th>\n",
       "      <td id=\"T_444c0_row20_col0\" class=\"data row20 col0\" >USI</td>\n",
       "      <td id=\"T_444c0_row20_col1\" class=\"data row20 col1\" >2372</td>\n",
       "    </tr>\n",
       "  </tbody>\n",
       "</table>\n"
      ],
      "text/plain": [
       "<pandas.io.formats.style.Styler at 0x2c4476320>"
      ]
     },
     "metadata": {},
     "output_type": "display_data"
    }
   ],
   "source": [
    "# import pycaret for clasiification, the dataset is features_df and the target variable is Variability is very desbalanced\n",
    "# we will use the SMOTE method to balance the dataset.\n",
    "import pycaret\n",
    "from pycaret.classification import *\n",
    "\n",
    "# Setup the classification model\n",
    "clf1 = setup(data=features_df[['mag_mean', 'mag_var', 'mag_skew', 'mag_kurt','Variability']], target='Variability',fix_imbalance=True)\n"
   ]
  },
  {
   "cell_type": "code",
   "execution_count": 38,
   "id": "edec8ec9",
   "metadata": {},
   "outputs": [
    {
     "data": {
      "text/html": [],
      "text/plain": [
       "<IPython.core.display.HTML object>"
      ]
     },
     "metadata": {},
     "output_type": "display_data"
    },
    {
     "data": {
      "text/html": [
       "<style type=\"text/css\">\n",
       "#T_1be78 th {\n",
       "  text-align: left;\n",
       "}\n",
       "#T_1be78_row0_col0, #T_1be78_row0_col2, #T_1be78_row0_col3, #T_1be78_row0_col5, #T_1be78_row0_col6, #T_1be78_row0_col7, #T_1be78_row1_col0, #T_1be78_row1_col3, #T_1be78_row1_col4, #T_1be78_row2_col0, #T_1be78_row2_col2, #T_1be78_row2_col3, #T_1be78_row2_col4, #T_1be78_row2_col5, #T_1be78_row2_col6, #T_1be78_row2_col7, #T_1be78_row3_col0, #T_1be78_row3_col1, #T_1be78_row3_col2, #T_1be78_row3_col4, #T_1be78_row3_col5, #T_1be78_row3_col6, #T_1be78_row3_col7, #T_1be78_row4_col0, #T_1be78_row4_col1, #T_1be78_row4_col2, #T_1be78_row4_col3, #T_1be78_row4_col4, #T_1be78_row4_col5, #T_1be78_row4_col6, #T_1be78_row4_col7, #T_1be78_row5_col0, #T_1be78_row5_col1, #T_1be78_row5_col2, #T_1be78_row5_col3, #T_1be78_row5_col4, #T_1be78_row5_col5, #T_1be78_row5_col6, #T_1be78_row5_col7, #T_1be78_row6_col0, #T_1be78_row6_col1, #T_1be78_row6_col2, #T_1be78_row6_col3, #T_1be78_row6_col4, #T_1be78_row6_col5, #T_1be78_row6_col6, #T_1be78_row6_col7, #T_1be78_row7_col0, #T_1be78_row7_col1, #T_1be78_row7_col2, #T_1be78_row7_col3, #T_1be78_row7_col4, #T_1be78_row7_col5, #T_1be78_row7_col6, #T_1be78_row7_col7, #T_1be78_row8_col0, #T_1be78_row8_col1, #T_1be78_row8_col2, #T_1be78_row8_col3, #T_1be78_row8_col4, #T_1be78_row8_col5, #T_1be78_row8_col6, #T_1be78_row8_col7, #T_1be78_row9_col0, #T_1be78_row9_col1, #T_1be78_row9_col2, #T_1be78_row9_col3, #T_1be78_row9_col4, #T_1be78_row9_col5, #T_1be78_row9_col6, #T_1be78_row9_col7, #T_1be78_row10_col0, #T_1be78_row10_col1, #T_1be78_row10_col2, #T_1be78_row10_col3, #T_1be78_row10_col4, #T_1be78_row10_col5, #T_1be78_row10_col6, #T_1be78_row10_col7, #T_1be78_row11_col0, #T_1be78_row11_col1, #T_1be78_row11_col2, #T_1be78_row11_col3, #T_1be78_row11_col4, #T_1be78_row11_col5, #T_1be78_row11_col6, #T_1be78_row11_col7, #T_1be78_row12_col0, #T_1be78_row12_col1, #T_1be78_row12_col2, #T_1be78_row12_col3, #T_1be78_row12_col4, #T_1be78_row12_col5, #T_1be78_row12_col6, #T_1be78_row12_col7, #T_1be78_row13_col0, #T_1be78_row13_col1, #T_1be78_row13_col2, #T_1be78_row13_col3, #T_1be78_row13_col4, #T_1be78_row13_col5, #T_1be78_row13_col6, #T_1be78_row13_col7 {\n",
       "  text-align: left;\n",
       "}\n",
       "#T_1be78_row0_col1, #T_1be78_row0_col4, #T_1be78_row1_col1, #T_1be78_row1_col2, #T_1be78_row1_col5, #T_1be78_row1_col6, #T_1be78_row1_col7, #T_1be78_row2_col1, #T_1be78_row3_col3 {\n",
       "  text-align: left;\n",
       "  background-color: yellow;\n",
       "}\n",
       "#T_1be78_row0_col8, #T_1be78_row1_col8, #T_1be78_row2_col8, #T_1be78_row3_col8, #T_1be78_row4_col8, #T_1be78_row5_col8, #T_1be78_row6_col8, #T_1be78_row7_col8, #T_1be78_row9_col8, #T_1be78_row10_col8, #T_1be78_row11_col8 {\n",
       "  text-align: left;\n",
       "  background-color: lightgrey;\n",
       "}\n",
       "#T_1be78_row8_col8, #T_1be78_row12_col8, #T_1be78_row13_col8 {\n",
       "  text-align: left;\n",
       "  background-color: yellow;\n",
       "  background-color: lightgrey;\n",
       "}\n",
       "</style>\n",
       "<table id=\"T_1be78\">\n",
       "  <thead>\n",
       "    <tr>\n",
       "      <th class=\"blank level0\" >&nbsp;</th>\n",
       "      <th id=\"T_1be78_level0_col0\" class=\"col_heading level0 col0\" >Model</th>\n",
       "      <th id=\"T_1be78_level0_col1\" class=\"col_heading level0 col1\" >Accuracy</th>\n",
       "      <th id=\"T_1be78_level0_col2\" class=\"col_heading level0 col2\" >AUC</th>\n",
       "      <th id=\"T_1be78_level0_col3\" class=\"col_heading level0 col3\" >Recall</th>\n",
       "      <th id=\"T_1be78_level0_col4\" class=\"col_heading level0 col4\" >Prec.</th>\n",
       "      <th id=\"T_1be78_level0_col5\" class=\"col_heading level0 col5\" >F1</th>\n",
       "      <th id=\"T_1be78_level0_col6\" class=\"col_heading level0 col6\" >Kappa</th>\n",
       "      <th id=\"T_1be78_level0_col7\" class=\"col_heading level0 col7\" >MCC</th>\n",
       "      <th id=\"T_1be78_level0_col8\" class=\"col_heading level0 col8\" >TT (Sec)</th>\n",
       "    </tr>\n",
       "  </thead>\n",
       "  <tbody>\n",
       "    <tr>\n",
       "      <th id=\"T_1be78_level0_row0\" class=\"row_heading level0 row0\" >lda</th>\n",
       "      <td id=\"T_1be78_row0_col0\" class=\"data row0 col0\" >Linear Discriminant Analysis</td>\n",
       "      <td id=\"T_1be78_row0_col1\" class=\"data row0 col1\" >0.9934</td>\n",
       "      <td id=\"T_1be78_row0_col2\" class=\"data row0 col2\" >0.9726</td>\n",
       "      <td id=\"T_1be78_row0_col3\" class=\"data row0 col3\" >0.8467</td>\n",
       "      <td id=\"T_1be78_row0_col4\" class=\"data row0 col4\" >1.0000</td>\n",
       "      <td id=\"T_1be78_row0_col5\" class=\"data row0 col5\" >0.9139</td>\n",
       "      <td id=\"T_1be78_row0_col6\" class=\"data row0 col6\" >0.9106</td>\n",
       "      <td id=\"T_1be78_row0_col7\" class=\"data row0 col7\" >0.9156</td>\n",
       "      <td id=\"T_1be78_row0_col8\" class=\"data row0 col8\" >0.0090</td>\n",
       "    </tr>\n",
       "    <tr>\n",
       "      <th id=\"T_1be78_level0_row1\" class=\"row_heading level0 row1\" >et</th>\n",
       "      <td id=\"T_1be78_row1_col0\" class=\"data row1 col0\" >Extra Trees Classifier</td>\n",
       "      <td id=\"T_1be78_row1_col1\" class=\"data row1 col1\" >0.9934</td>\n",
       "      <td id=\"T_1be78_row1_col2\" class=\"data row1 col2\" >0.9983</td>\n",
       "      <td id=\"T_1be78_row1_col3\" class=\"data row1 col3\" >0.9292</td>\n",
       "      <td id=\"T_1be78_row1_col4\" class=\"data row1 col4\" >0.9252</td>\n",
       "      <td id=\"T_1be78_row1_col5\" class=\"data row1 col5\" >0.9253</td>\n",
       "      <td id=\"T_1be78_row1_col6\" class=\"data row1 col6\" >0.9219</td>\n",
       "      <td id=\"T_1be78_row1_col7\" class=\"data row1 col7\" >0.9229</td>\n",
       "      <td id=\"T_1be78_row1_col8\" class=\"data row1 col8\" >0.0390</td>\n",
       "    </tr>\n",
       "    <tr>\n",
       "      <th id=\"T_1be78_level0_row2\" class=\"row_heading level0 row2\" >lightgbm</th>\n",
       "      <td id=\"T_1be78_row2_col0\" class=\"data row2 col0\" >Light Gradient Boosting Machine</td>\n",
       "      <td id=\"T_1be78_row2_col1\" class=\"data row2 col1\" >0.9934</td>\n",
       "      <td id=\"T_1be78_row2_col2\" class=\"data row2 col2\" >0.9933</td>\n",
       "      <td id=\"T_1be78_row2_col3\" class=\"data row2 col3\" >0.9292</td>\n",
       "      <td id=\"T_1be78_row2_col4\" class=\"data row2 col4\" >0.9230</td>\n",
       "      <td id=\"T_1be78_row2_col5\" class=\"data row2 col5\" >0.9247</td>\n",
       "      <td id=\"T_1be78_row2_col6\" class=\"data row2 col6\" >0.9212</td>\n",
       "      <td id=\"T_1be78_row2_col7\" class=\"data row2 col7\" >0.9220</td>\n",
       "      <td id=\"T_1be78_row2_col8\" class=\"data row2 col8\" >0.4430</td>\n",
       "    </tr>\n",
       "    <tr>\n",
       "      <th id=\"T_1be78_level0_row3\" class=\"row_heading level0 row3\" >rf</th>\n",
       "      <td id=\"T_1be78_row3_col0\" class=\"data row3 col0\" >Random Forest Classifier</td>\n",
       "      <td id=\"T_1be78_row3_col1\" class=\"data row3 col1\" >0.9923</td>\n",
       "      <td id=\"T_1be78_row3_col2\" class=\"data row3 col2\" >0.9953</td>\n",
       "      <td id=\"T_1be78_row3_col3\" class=\"data row3 col3\" >0.9550</td>\n",
       "      <td id=\"T_1be78_row3_col4\" class=\"data row3 col4\" >0.8864</td>\n",
       "      <td id=\"T_1be78_row3_col5\" class=\"data row3 col5\" >0.9172</td>\n",
       "      <td id=\"T_1be78_row3_col6\" class=\"data row3 col6\" >0.9132</td>\n",
       "      <td id=\"T_1be78_row3_col7\" class=\"data row3 col7\" >0.9151</td>\n",
       "      <td id=\"T_1be78_row3_col8\" class=\"data row3 col8\" >0.0590</td>\n",
       "    </tr>\n",
       "    <tr>\n",
       "      <th id=\"T_1be78_level0_row4\" class=\"row_heading level0 row4\" >ada</th>\n",
       "      <td id=\"T_1be78_row4_col0\" class=\"data row4 col0\" >Ada Boost Classifier</td>\n",
       "      <td id=\"T_1be78_row4_col1\" class=\"data row4 col1\" >0.9915</td>\n",
       "      <td id=\"T_1be78_row4_col2\" class=\"data row4 col2\" >0.9977</td>\n",
       "      <td id=\"T_1be78_row4_col3\" class=\"data row4 col3\" >0.9488</td>\n",
       "      <td id=\"T_1be78_row4_col4\" class=\"data row4 col4\" >0.8748</td>\n",
       "      <td id=\"T_1be78_row4_col5\" class=\"data row4 col5\" >0.9083</td>\n",
       "      <td id=\"T_1be78_row4_col6\" class=\"data row4 col6\" >0.9039</td>\n",
       "      <td id=\"T_1be78_row4_col7\" class=\"data row4 col7\" >0.9058</td>\n",
       "      <td id=\"T_1be78_row4_col8\" class=\"data row4 col8\" >0.0290</td>\n",
       "    </tr>\n",
       "    <tr>\n",
       "      <th id=\"T_1be78_level0_row5\" class=\"row_heading level0 row5\" >dt</th>\n",
       "      <td id=\"T_1be78_row5_col0\" class=\"data row5 col0\" >Decision Tree Classifier</td>\n",
       "      <td id=\"T_1be78_row5_col1\" class=\"data row5 col1\" >0.9912</td>\n",
       "      <td id=\"T_1be78_row5_col2\" class=\"data row5 col2\" >0.9646</td>\n",
       "      <td id=\"T_1be78_row5_col3\" class=\"data row5 col3\" >0.9354</td>\n",
       "      <td id=\"T_1be78_row5_col4\" class=\"data row5 col4\" >0.8810</td>\n",
       "      <td id=\"T_1be78_row5_col5\" class=\"data row5 col5\" >0.9038</td>\n",
       "      <td id=\"T_1be78_row5_col6\" class=\"data row5 col6\" >0.8992</td>\n",
       "      <td id=\"T_1be78_row5_col7\" class=\"data row5 col7\" >0.9016</td>\n",
       "      <td id=\"T_1be78_row5_col8\" class=\"data row5 col8\" >0.0080</td>\n",
       "    </tr>\n",
       "    <tr>\n",
       "      <th id=\"T_1be78_level0_row6\" class=\"row_heading level0 row6\" >gbc</th>\n",
       "      <td id=\"T_1be78_row6_col0\" class=\"data row6 col0\" >Gradient Boosting Classifier</td>\n",
       "      <td id=\"T_1be78_row6_col1\" class=\"data row6 col1\" >0.9902</td>\n",
       "      <td id=\"T_1be78_row6_col2\" class=\"data row6 col2\" >0.9968</td>\n",
       "      <td id=\"T_1be78_row6_col3\" class=\"data row6 col3\" >0.9483</td>\n",
       "      <td id=\"T_1be78_row6_col4\" class=\"data row6 col4\" >0.8562</td>\n",
       "      <td id=\"T_1be78_row6_col5\" class=\"data row6 col5\" >0.8957</td>\n",
       "      <td id=\"T_1be78_row6_col6\" class=\"data row6 col6\" >0.8906</td>\n",
       "      <td id=\"T_1be78_row6_col7\" class=\"data row6 col7\" >0.8942</td>\n",
       "      <td id=\"T_1be78_row6_col8\" class=\"data row6 col8\" >0.0750</td>\n",
       "    </tr>\n",
       "    <tr>\n",
       "      <th id=\"T_1be78_level0_row7\" class=\"row_heading level0 row7\" >nb</th>\n",
       "      <td id=\"T_1be78_row7_col0\" class=\"data row7 col0\" >Naive Bayes</td>\n",
       "      <td id=\"T_1be78_row7_col1\" class=\"data row7 col1\" >0.9839</td>\n",
       "      <td id=\"T_1be78_row7_col2\" class=\"data row7 col2\" >0.9897</td>\n",
       "      <td id=\"T_1be78_row7_col3\" class=\"data row7 col3\" >0.9296</td>\n",
       "      <td id=\"T_1be78_row7_col4\" class=\"data row7 col4\" >0.7618</td>\n",
       "      <td id=\"T_1be78_row7_col5\" class=\"data row7 col5\" >0.8339</td>\n",
       "      <td id=\"T_1be78_row7_col6\" class=\"data row7 col6\" >0.8256</td>\n",
       "      <td id=\"T_1be78_row7_col7\" class=\"data row7 col7\" >0.8320</td>\n",
       "      <td id=\"T_1be78_row7_col8\" class=\"data row7 col8\" >0.0940</td>\n",
       "    </tr>\n",
       "    <tr>\n",
       "      <th id=\"T_1be78_level0_row8\" class=\"row_heading level0 row8\" >qda</th>\n",
       "      <td id=\"T_1be78_row8_col0\" class=\"data row8 col0\" >Quadratic Discriminant Analysis</td>\n",
       "      <td id=\"T_1be78_row8_col1\" class=\"data row8 col1\" >0.9789</td>\n",
       "      <td id=\"T_1be78_row8_col2\" class=\"data row8 col2\" >0.9882</td>\n",
       "      <td id=\"T_1be78_row8_col3\" class=\"data row8 col3\" >0.9488</td>\n",
       "      <td id=\"T_1be78_row8_col4\" class=\"data row8 col4\" >0.6980</td>\n",
       "      <td id=\"T_1be78_row8_col5\" class=\"data row8 col5\" >0.7990</td>\n",
       "      <td id=\"T_1be78_row8_col6\" class=\"data row8 col6\" >0.7884</td>\n",
       "      <td id=\"T_1be78_row8_col7\" class=\"data row8 col7\" >0.8016</td>\n",
       "      <td id=\"T_1be78_row8_col8\" class=\"data row8 col8\" >0.0070</td>\n",
       "    </tr>\n",
       "    <tr>\n",
       "      <th id=\"T_1be78_level0_row9\" class=\"row_heading level0 row9\" >dummy</th>\n",
       "      <td id=\"T_1be78_row9_col0\" class=\"data row9 col0\" >Dummy Classifier</td>\n",
       "      <td id=\"T_1be78_row9_col1\" class=\"data row9 col1\" >0.9571</td>\n",
       "      <td id=\"T_1be78_row9_col2\" class=\"data row9 col2\" >0.5000</td>\n",
       "      <td id=\"T_1be78_row9_col3\" class=\"data row9 col3\" >0.0000</td>\n",
       "      <td id=\"T_1be78_row9_col4\" class=\"data row9 col4\" >0.0000</td>\n",
       "      <td id=\"T_1be78_row9_col5\" class=\"data row9 col5\" >0.0000</td>\n",
       "      <td id=\"T_1be78_row9_col6\" class=\"data row9 col6\" >0.0000</td>\n",
       "      <td id=\"T_1be78_row9_col7\" class=\"data row9 col7\" >0.0000</td>\n",
       "      <td id=\"T_1be78_row9_col8\" class=\"data row9 col8\" >0.0100</td>\n",
       "    </tr>\n",
       "    <tr>\n",
       "      <th id=\"T_1be78_level0_row10\" class=\"row_heading level0 row10\" >knn</th>\n",
       "      <td id=\"T_1be78_row10_col0\" class=\"data row10 col0\" >K Neighbors Classifier</td>\n",
       "      <td id=\"T_1be78_row10_col1\" class=\"data row10 col1\" >0.8969</td>\n",
       "      <td id=\"T_1be78_row10_col2\" class=\"data row10 col2\" >0.8799</td>\n",
       "      <td id=\"T_1be78_row10_col3\" class=\"data row10 col3\" >0.7512</td>\n",
       "      <td id=\"T_1be78_row10_col4\" class=\"data row10 col4\" >0.2616</td>\n",
       "      <td id=\"T_1be78_row10_col5\" class=\"data row10 col5\" >0.3862</td>\n",
       "      <td id=\"T_1be78_row10_col6\" class=\"data row10 col6\" >0.3445</td>\n",
       "      <td id=\"T_1be78_row10_col7\" class=\"data row10 col7\" >0.4032</td>\n",
       "      <td id=\"T_1be78_row10_col8\" class=\"data row10 col8\" >0.1030</td>\n",
       "    </tr>\n",
       "    <tr>\n",
       "      <th id=\"T_1be78_level0_row11\" class=\"row_heading level0 row11\" >lr</th>\n",
       "      <td id=\"T_1be78_row11_col0\" class=\"data row11 col0\" >Logistic Regression</td>\n",
       "      <td id=\"T_1be78_row11_col1\" class=\"data row11 col1\" >0.8168</td>\n",
       "      <td id=\"T_1be78_row11_col2\" class=\"data row11 col2\" >0.9126</td>\n",
       "      <td id=\"T_1be78_row11_col3\" class=\"data row11 col3\" >0.8592</td>\n",
       "      <td id=\"T_1be78_row11_col4\" class=\"data row11 col4\" >0.1737</td>\n",
       "      <td id=\"T_1be78_row11_col5\" class=\"data row11 col5\" >0.2885</td>\n",
       "      <td id=\"T_1be78_row11_col6\" class=\"data row11 col6\" >0.2338</td>\n",
       "      <td id=\"T_1be78_row11_col7\" class=\"data row11 col7\" >0.3343</td>\n",
       "      <td id=\"T_1be78_row11_col8\" class=\"data row11 col8\" >0.1680</td>\n",
       "    </tr>\n",
       "    <tr>\n",
       "      <th id=\"T_1be78_level0_row12\" class=\"row_heading level0 row12\" >svm</th>\n",
       "      <td id=\"T_1be78_row12_col0\" class=\"data row12 col0\" >SVM - Linear Kernel</td>\n",
       "      <td id=\"T_1be78_row12_col1\" class=\"data row12 col1\" >0.8129</td>\n",
       "      <td id=\"T_1be78_row12_col2\" class=\"data row12 col2\" >0.0000</td>\n",
       "      <td id=\"T_1be78_row12_col3\" class=\"data row12 col3\" >0.8600</td>\n",
       "      <td id=\"T_1be78_row12_col4\" class=\"data row12 col4\" >0.1731</td>\n",
       "      <td id=\"T_1be78_row12_col5\" class=\"data row12 col5\" >0.2870</td>\n",
       "      <td id=\"T_1be78_row12_col6\" class=\"data row12 col6\" >0.2321</td>\n",
       "      <td id=\"T_1be78_row12_col7\" class=\"data row12 col7\" >0.3324</td>\n",
       "      <td id=\"T_1be78_row12_col8\" class=\"data row12 col8\" >0.0070</td>\n",
       "    </tr>\n",
       "    <tr>\n",
       "      <th id=\"T_1be78_level0_row13\" class=\"row_heading level0 row13\" >ridge</th>\n",
       "      <td id=\"T_1be78_row13_col0\" class=\"data row13 col0\" >Ridge Classifier</td>\n",
       "      <td id=\"T_1be78_row13_col1\" class=\"data row13 col1\" >0.7468</td>\n",
       "      <td id=\"T_1be78_row13_col2\" class=\"data row13 col2\" >0.0000</td>\n",
       "      <td id=\"T_1be78_row13_col3\" class=\"data row13 col3\" >0.9046</td>\n",
       "      <td id=\"T_1be78_row13_col4\" class=\"data row13 col4\" >0.1362</td>\n",
       "      <td id=\"T_1be78_row13_col5\" class=\"data row13 col5\" >0.2365</td>\n",
       "      <td id=\"T_1be78_row13_col6\" class=\"data row13 col6\" >0.1749</td>\n",
       "      <td id=\"T_1be78_row13_col7\" class=\"data row13 col7\" >0.2897</td>\n",
       "      <td id=\"T_1be78_row13_col8\" class=\"data row13 col8\" >0.0070</td>\n",
       "    </tr>\n",
       "  </tbody>\n",
       "</table>\n"
      ],
      "text/plain": [
       "<pandas.io.formats.style.Styler at 0x2bcd6c0d0>"
      ]
     },
     "metadata": {},
     "output_type": "display_data"
    },
    {
     "data": {
      "text/html": [],
      "text/plain": [
       "<IPython.core.display.HTML object>"
      ]
     },
     "metadata": {},
     "output_type": "display_data"
    }
   ],
   "source": [
    "# Compare the performance of different classification models\n",
    "best_model = compare_models()"
   ]
  },
  {
   "cell_type": "code",
   "execution_count": 40,
   "id": "fd7131d0",
   "metadata": {},
   "outputs": [
    {
     "data": {
      "text/html": [
       "<style>#sk-container-id-3 {color: black;background-color: white;}#sk-container-id-3 pre{padding: 0;}#sk-container-id-3 div.sk-toggleable {background-color: white;}#sk-container-id-3 label.sk-toggleable__label {cursor: pointer;display: block;width: 100%;margin-bottom: 0;padding: 0.3em;box-sizing: border-box;text-align: center;}#sk-container-id-3 label.sk-toggleable__label-arrow:before {content: \"▸\";float: left;margin-right: 0.25em;color: #696969;}#sk-container-id-3 label.sk-toggleable__label-arrow:hover:before {color: black;}#sk-container-id-3 div.sk-estimator:hover label.sk-toggleable__label-arrow:before {color: black;}#sk-container-id-3 div.sk-toggleable__content {max-height: 0;max-width: 0;overflow: hidden;text-align: left;background-color: #f0f8ff;}#sk-container-id-3 div.sk-toggleable__content pre {margin: 0.2em;color: black;border-radius: 0.25em;background-color: #f0f8ff;}#sk-container-id-3 input.sk-toggleable__control:checked~div.sk-toggleable__content {max-height: 200px;max-width: 100%;overflow: auto;}#sk-container-id-3 input.sk-toggleable__control:checked~label.sk-toggleable__label-arrow:before {content: \"▾\";}#sk-container-id-3 div.sk-estimator input.sk-toggleable__control:checked~label.sk-toggleable__label {background-color: #d4ebff;}#sk-container-id-3 div.sk-label input.sk-toggleable__control:checked~label.sk-toggleable__label {background-color: #d4ebff;}#sk-container-id-3 input.sk-hidden--visually {border: 0;clip: rect(1px 1px 1px 1px);clip: rect(1px, 1px, 1px, 1px);height: 1px;margin: -1px;overflow: hidden;padding: 0;position: absolute;width: 1px;}#sk-container-id-3 div.sk-estimator {font-family: monospace;background-color: #f0f8ff;border: 1px dotted black;border-radius: 0.25em;box-sizing: border-box;margin-bottom: 0.5em;}#sk-container-id-3 div.sk-estimator:hover {background-color: #d4ebff;}#sk-container-id-3 div.sk-parallel-item::after {content: \"\";width: 100%;border-bottom: 1px solid gray;flex-grow: 1;}#sk-container-id-3 div.sk-label:hover label.sk-toggleable__label {background-color: #d4ebff;}#sk-container-id-3 div.sk-serial::before {content: \"\";position: absolute;border-left: 1px solid gray;box-sizing: border-box;top: 0;bottom: 0;left: 50%;z-index: 0;}#sk-container-id-3 div.sk-serial {display: flex;flex-direction: column;align-items: center;background-color: white;padding-right: 0.2em;padding-left: 0.2em;position: relative;}#sk-container-id-3 div.sk-item {position: relative;z-index: 1;}#sk-container-id-3 div.sk-parallel {display: flex;align-items: stretch;justify-content: center;background-color: white;position: relative;}#sk-container-id-3 div.sk-item::before, #sk-container-id-3 div.sk-parallel-item::before {content: \"\";position: absolute;border-left: 1px solid gray;box-sizing: border-box;top: 0;bottom: 0;left: 50%;z-index: -1;}#sk-container-id-3 div.sk-parallel-item {display: flex;flex-direction: column;z-index: 1;position: relative;background-color: white;}#sk-container-id-3 div.sk-parallel-item:first-child::after {align-self: flex-end;width: 50%;}#sk-container-id-3 div.sk-parallel-item:last-child::after {align-self: flex-start;width: 50%;}#sk-container-id-3 div.sk-parallel-item:only-child::after {width: 0;}#sk-container-id-3 div.sk-dashed-wrapped {border: 1px dashed gray;margin: 0 0.4em 0.5em 0.4em;box-sizing: border-box;padding-bottom: 0.4em;background-color: white;}#sk-container-id-3 div.sk-label label {font-family: monospace;font-weight: bold;display: inline-block;line-height: 1.2em;}#sk-container-id-3 div.sk-label-container {text-align: center;}#sk-container-id-3 div.sk-container {/* jupyter's `normalize.less` sets `[hidden] { display: none; }` but bootstrap.min.css set `[hidden] { display: none !important; }` so we also need the `!important` here to be able to override the default hidden behavior on the sphinx rendered scikit-learn.org. See: https://github.com/scikit-learn/scikit-learn/issues/21755 */display: inline-block !important;position: relative;}#sk-container-id-3 div.sk-text-repr-fallback {display: none;}</style><div id=\"sk-container-id-3\" class=\"sk-top-container\"><div class=\"sk-text-repr-fallback\"><pre>LinearDiscriminantAnalysis(covariance_estimator=None, n_components=None,\n",
       "                           priors=None, shrinkage=None, solver=&#x27;svd&#x27;,\n",
       "                           store_covariance=False, tol=0.0001)</pre><b>In a Jupyter environment, please rerun this cell to show the HTML representation or trust the notebook. <br />On GitHub, the HTML representation is unable to render, please try loading this page with nbviewer.org.</b></div><div class=\"sk-container\" hidden><div class=\"sk-item\"><div class=\"sk-estimator sk-toggleable\"><input class=\"sk-toggleable__control sk-hidden--visually\" id=\"sk-estimator-id-3\" type=\"checkbox\" checked><label for=\"sk-estimator-id-3\" class=\"sk-toggleable__label sk-toggleable__label-arrow\">LinearDiscriminantAnalysis</label><div class=\"sk-toggleable__content\"><pre>LinearDiscriminantAnalysis(covariance_estimator=None, n_components=None,\n",
       "                           priors=None, shrinkage=None, solver=&#x27;svd&#x27;,\n",
       "                           store_covariance=False, tol=0.0001)</pre></div></div></div></div></div>"
      ],
      "text/plain": [
       "LinearDiscriminantAnalysis(covariance_estimator=None, n_components=None,\n",
       "                           priors=None, shrinkage=None, solver='svd',\n",
       "                           store_covariance=False, tol=0.0001)"
      ]
     },
     "execution_count": 40,
     "metadata": {},
     "output_type": "execute_result"
    }
   ],
   "source": [
    "best_model"
   ]
  },
  {
   "cell_type": "code",
   "execution_count": 41,
   "id": "aebc3da8",
   "metadata": {},
   "outputs": [
    {
     "data": {
      "text/html": [],
      "text/plain": [
       "<IPython.core.display.HTML object>"
      ]
     },
     "metadata": {},
     "output_type": "display_data"
    },
    {
     "data": {
      "image/png": "[encoded data removed]",
      "text/plain": [
       "<Figure size 800x550 with 1 Axes>"
      ]
     },
     "metadata": {},
     "output_type": "display_data"
    }
   ],
   "source": [
    "# plot confusion matrix\n",
    "plot_model(best_model, plot = 'confusion_matrix')"
   ]
  },
  {
   "cell_type": "code",
   "execution_count": 42,
   "id": "b0723d11",
   "metadata": {},
   "outputs": [
    {
     "data": {
      "text/html": [],
      "text/plain": [
       "<IPython.core.display.HTML object>"
      ]
     },
     "metadata": {},
     "output_type": "display_data"
    },
    {
     "data": {
      "image/png": "[encoded data removed]",
      "text/plain": [
       "<Figure size 800x500 with 1 Axes>"
      ]
     },
     "metadata": {},
     "output_type": "display_data"
    }
   ],
   "source": [
    "# plot feature importance\n",
    "plot_model(best_model, plot = 'feature')"
   ]
  },
  {
   "cell_type": "code",
   "execution_count": 43,
   "id": "ff32b746",
   "metadata": {},
   "outputs": [
    {
     "data": {
      "application/vnd.jupyter.widget-view+json": {
       "model_id": "6f670613b6594b90a58944de7f575879",
       "version_major": 2,
       "version_minor": 0
      },
      "text/plain": [
       "interactive(children=(ToggleButtons(description='Plot Type:', icons=('',), options=(('Pipeline Plot', 'pipelin…"
      ]
     },
     "metadata": {},
     "output_type": "display_data"
    }
   ],
   "source": [
    "evaluate_model(best_model)"
   ]
  },
  {
   "cell_type": "code",
   "execution_count": 44,
   "id": "e82e1c89",
   "metadata": {},
   "outputs": [
    {
     "data": {
      "text/html": [
       "<style type=\"text/css\">\n",
       "</style>\n",
       "<table id=\"T_d498f\">\n",
       "  <thead>\n",
       "    <tr>\n",
       "      <th class=\"blank level0\" >&nbsp;</th>\n",
       "      <th id=\"T_d498f_level0_col0\" class=\"col_heading level0 col0\" >Model</th>\n",
       "      <th id=\"T_d498f_level0_col1\" class=\"col_heading level0 col1\" >Accuracy</th>\n",
       "      <th id=\"T_d498f_level0_col2\" class=\"col_heading level0 col2\" >AUC</th>\n",
       "      <th id=\"T_d498f_level0_col3\" class=\"col_heading level0 col3\" >Recall</th>\n",
       "      <th id=\"T_d498f_level0_col4\" class=\"col_heading level0 col4\" >Prec.</th>\n",
       "      <th id=\"T_d498f_level0_col5\" class=\"col_heading level0 col5\" >F1</th>\n",
       "      <th id=\"T_d498f_level0_col6\" class=\"col_heading level0 col6\" >Kappa</th>\n",
       "      <th id=\"T_d498f_level0_col7\" class=\"col_heading level0 col7\" >MCC</th>\n",
       "    </tr>\n",
       "  </thead>\n",
       "  <tbody>\n",
       "    <tr>\n",
       "      <th id=\"T_d498f_level0_row0\" class=\"row_heading level0 row0\" >0</th>\n",
       "      <td id=\"T_d498f_row0_col0\" class=\"data row0 col0\" >Linear Discriminant Analysis</td>\n",
       "      <td id=\"T_d498f_row0_col1\" class=\"data row0 col1\" >0.9923</td>\n",
       "      <td id=\"T_d498f_row0_col2\" class=\"data row0 col2\" >0.9872</td>\n",
       "      <td id=\"T_d498f_row0_col3\" class=\"data row0 col3\" >0.8235</td>\n",
       "      <td id=\"T_d498f_row0_col4\" class=\"data row0 col4\" >1.0000</td>\n",
       "      <td id=\"T_d498f_row0_col5\" class=\"data row0 col5\" >0.9032</td>\n",
       "      <td id=\"T_d498f_row0_col6\" class=\"data row0 col6\" >0.8993</td>\n",
       "      <td id=\"T_d498f_row0_col7\" class=\"data row0 col7\" >0.9039</td>\n",
       "    </tr>\n",
       "  </tbody>\n",
       "</table>\n"
      ],
      "text/plain": [
       "<pandas.io.formats.style.Styler at 0x2c3f461d0>"
      ]
     },
     "metadata": {},
     "output_type": "display_data"
    }
   ],
   "source": [
    "# predict on test set\n",
    "holdout_pred = predict_model(best_model)"
   ]
  },
  {
   "cell_type": "code",
   "execution_count": 45,
   "id": "691b6424",
   "metadata": {},
   "outputs": [],
   "source": [
    "# save the model in a variable to use for prediction\n",
    "final_best_model = finalize_model(best_model)"
   ]
  },
  {
   "cell_type": "code",
   "execution_count": 46,
   "id": "303f8103",
   "metadata": {},
   "outputs": [
    {
     "data": {
      "text/html": [
       "<div>\n",
       "<style scoped>\n",
       "    .dataframe tbody tr th:only-of-type {\n",
       "        vertical-align: middle;\n",
       "    }\n",
       "\n",
       "    .dataframe tbody tr th {\n",
       "        vertical-align: top;\n",
       "    }\n",
       "\n",
       "    .dataframe thead th {\n",
       "        text-align: right;\n",
       "    }\n",
       "</style>\n",
       "<table border=\"1\" class=\"dataframe\">\n",
       "  <thead>\n",
       "    <tr style=\"text-align: right;\">\n",
       "      <th></th>\n",
       "      <th>mag_mean</th>\n",
       "      <th>mag_var</th>\n",
       "      <th>mag_skew</th>\n",
       "      <th>mag_kurt</th>\n",
       "      <th>Variability</th>\n",
       "      <th>prediction_label</th>\n",
       "      <th>prediction_score</th>\n",
       "    </tr>\n",
       "  </thead>\n",
       "  <tbody>\n",
       "    <tr>\n",
       "      <th>1112</th>\n",
       "      <td>-0.00085</td>\n",
       "      <td>0.000032</td>\n",
       "      <td>0.202552</td>\n",
       "      <td>-0.075846</td>\n",
       "      <td>0</td>\n",
       "      <td>0</td>\n",
       "      <td>0.9545</td>\n",
       "    </tr>\n",
       "    <tr>\n",
       "      <th>3167</th>\n",
       "      <td>0.00860</td>\n",
       "      <td>0.000277</td>\n",
       "      <td>0.236115</td>\n",
       "      <td>0.064842</td>\n",
       "      <td>0</td>\n",
       "      <td>0</td>\n",
       "      <td>0.9648</td>\n",
       "    </tr>\n",
       "    <tr>\n",
       "      <th>152</th>\n",
       "      <td>-0.00810</td>\n",
       "      <td>0.000046</td>\n",
       "      <td>0.428128</td>\n",
       "      <td>-0.420188</td>\n",
       "      <td>0</td>\n",
       "      <td>0</td>\n",
       "      <td>0.9304</td>\n",
       "    </tr>\n",
       "    <tr>\n",
       "      <th>3134</th>\n",
       "      <td>-0.01235</td>\n",
       "      <td>0.000123</td>\n",
       "      <td>0.577514</td>\n",
       "      <td>-0.699722</td>\n",
       "      <td>0</td>\n",
       "      <td>0</td>\n",
       "      <td>0.8934</td>\n",
       "    </tr>\n",
       "    <tr>\n",
       "      <th>4337</th>\n",
       "      <td>0.00505</td>\n",
       "      <td>0.000399</td>\n",
       "      <td>-0.861265</td>\n",
       "      <td>0.866624</td>\n",
       "      <td>0</td>\n",
       "      <td>0</td>\n",
       "      <td>0.9163</td>\n",
       "    </tr>\n",
       "  </tbody>\n",
       "</table>\n",
       "</div>"
      ],
      "text/plain": [
       "      mag_mean   mag_var  mag_skew  mag_kurt  Variability  prediction_label  \\\n",
       "1112  -0.00085  0.000032  0.202552 -0.075846            0                 0   \n",
       "3167   0.00860  0.000277  0.236115  0.064842            0                 0   \n",
       "152   -0.00810  0.000046  0.428128 -0.420188            0                 0   \n",
       "3134  -0.01235  0.000123  0.577514 -0.699722            0                 0   \n",
       "4337   0.00505  0.000399 -0.861265  0.866624            0                 0   \n",
       "\n",
       "      prediction_score  \n",
       "1112            0.9545  \n",
       "3167            0.9648  \n",
       "152             0.9304  \n",
       "3134            0.8934  \n",
       "4337            0.9163  "
      ]
     },
     "execution_count": 46,
     "metadata": {},
     "output_type": "execute_result"
    }
   ],
   "source": [
    "# show predictions df\n",
    "holdout_pred.head()"
   ]
  },
  {
   "cell_type": "code",
   "execution_count": 47,
   "id": "21e27553",
   "metadata": {},
   "outputs": [],
   "source": [
    "def calibration1(agn, star):\n",
    "\n",
    "    rest = []\n",
    "    \n",
    "    for i in range(5):\n",
    "\n",
    "        resta = abs (np.mean(star[i])-np.mean(agn))\n",
    "\n",
    "        rest.append(resta)\n",
    "    \n",
    "        ind_min = np.argmin(rest)\n",
    "\n",
    "        cal = agn - star[ind_min] #Calibrated magnitude\n",
    "            \n",
    "    return cal"
   ]
  },
  {
   "cell_type": "code",
   "execution_count": 48,
   "id": "e430d6c0",
   "metadata": {},
   "outputs": [],
   "source": [
    "def subsample_time_series(mag, t, subsample_size=30):\n",
    "    \"\"\"\n",
    "    Subsample the time series data to simulate incomplete observations.\n",
    "\n",
    "    :param t: AGN magnitudes\n",
    "    :param subsample_size: The number of data points to subsample to.\n",
    "    :return: Subsampled time series data mag.\n",
    "    \"\"\"\n",
    "    # Ensure we always subsample the same way for reproducibility\n",
    "    np.random.seed(0)\n",
    "    \n",
    "    # Choose random indices for subsampling\n",
    "    subsample_indices = np.random.choice(len(t), size=subsample_size, replace=False)\n",
    "    subsample_indices.sort()  # Sort the indices to maintain the time order\n",
    "    \n",
    "    return mag[subsample_indices], t[subsample_indices]"
   ]
  },
  {
   "cell_type": "code",
   "execution_count": 49,
   "id": "be0703ee",
   "metadata": {},
   "outputs": [],
   "source": [
    "def extract_features_obs(mag,n, mag_w_err):\n",
    "    \"\"\"\n",
    "    Extract features from the time series data for use in machine learning models.\n",
    "\n",
    "    :param mag: Magnitude data array.\n",
    "    :return: Extracted features.\n",
    "    \"\"\"\n",
    "    features = {\n",
    "        'mag_mean': np.mean(mag),\n",
    "        'mag_var': np.var(mag),\n",
    "        'mag_skew': skew(mag),\n",
    "        'mag_kurt': kurtosis(mag),\n",
    "    }\n",
    "\n",
    "    err_features = {\n",
    "        'err_mean_m': np.mean(mag)/n,\n",
    "        'err_var_m': np.var(mag)/n,\n",
    "        'err_skew_m': skew(mag)/n,\n",
    "        'err_kurt_m': skew(mag)/n,\n",
    "    }\n",
    "\n",
    "    features_w_e = {\n",
    "        'mag_w_e_mean': np.mean(mag),\n",
    "        'mag_w_e_var': np.var(mag),\n",
    "        'mag_w_e_skew': skew(mag),\n",
    "        'mag_w_e_kurt': kurtosis(mag),\n",
    "    }\n",
    "    \n",
    "    return features, features_w_e, err_features"
   ]
  },
  {
   "cell_type": "code",
   "execution_count": 50,
   "id": "c927d70d",
   "metadata": {},
   "outputs": [],
   "source": [
    "#Create a dataframe for the observations an save it to a CSV file\n",
    "\n",
    "def dataframe_obs(df): \n",
    "    \n",
    "    D1 = df['D1'] #Diference between AGN and calibration star magnitudes\n",
    "    err_D1 = df['eD1'] #error of the diference between AGN and calibration star magnitudes\n",
    "    D2 = df['D2'] #Diference between AGN and control star magnitudes\n",
    "    err_D2 = df['eD2'] #error of the diference between AGN and calibration star magnitudes\n",
    "\n",
    "    #Calculates the Diference between D1 and D2\n",
    "    mag = abs(D1-D2)\n",
    "    err_obs = err_D1 + err_D2\n",
    "    n = len(mag)\n",
    "\n",
    "    rng = np.random.default_rng()\n",
    "    t = rng.uniform(0, 2, 100)\n",
    "\n",
    "    if t.any() <= 1:\n",
    "\n",
    "        mag_w_err = mag + err_obs\n",
    "\n",
    "    else:\n",
    "\n",
    "        mag_w_err = mag - err_obs\n",
    "        \n",
    "    # Subsample the time series data to simulate incomplete observations\n",
    "    #mag_subsampled = subsample_time_series(mag, t, subsample_size)        \n",
    "    \n",
    "    # Extract features from the time series data\n",
    "    features_obs = extract_features_obs(mag, n, mag_w_err)[0]\n",
    "    err_features_obs = extract_features_obs(mag, n, mag_w_err)[1]\n",
    "    \n",
    "    return features_obs, err_features_obs"
   ]
  },
  {
   "cell_type": "code",
   "execution_count": 29,
   "id": "a72bad5a",
   "metadata": {},
   "outputs": [
    {
     "data": {
      "text/plain": [
       "'obs/AGNs/'"
      ]
     },
     "execution_count": 29,
     "metadata": {},
     "output_type": "execute_result"
    }
   ],
   "source": [
    "dir"
   ]
  },
  {
   "cell_type": "code",
   "execution_count": 51,
   "id": "2e5089ec",
   "metadata": {},
   "outputs": [
    {
     "data": {
      "text/plain": [
       "['agn_0847',\n",
       " 'agn_1958',\n",
       " 'agn_2126',\n",
       " 'agn_1443',\n",
       " 'agn_0208',\n",
       " 'agn_1917',\n",
       " 'agn_2310',\n",
       " 'agn_0414',\n",
       " 'agn_2149',\n",
       " 'agn_1229',\n",
       " 'agn_2005',\n",
       " 'agn_1424',\n",
       " 'agn_1256',\n",
       " 'agn_0521',\n",
       " 'agn_1510',\n",
       " 'agn_1127',\n",
       " 'agn_1116',\n",
       " 'agn_2155']"
      ]
     },
     "execution_count": 51,
     "metadata": {},
     "output_type": "execute_result"
    }
   ],
   "source": [
    "#List all the AGNs, each one is a directory\n",
    "names_agns = os.listdir(dir)\n",
    "names_agns "
   ]
  },
  {
   "cell_type": "code",
   "execution_count": 31,
   "id": "20b086b0",
   "metadata": {},
   "outputs": [
    {
     "data": {
      "text/plain": [
       "18"
      ]
     },
     "execution_count": 31,
     "metadata": {},
     "output_type": "execute_result"
    }
   ],
   "source": [
    "len(names_agns)"
   ]
  },
  {
   "cell_type": "code",
   "execution_count": 53,
   "id": "41737bc6",
   "metadata": {},
   "outputs": [
    {
     "name": "stdout",
     "output_type": "stream",
     "text": [
      "0847R-220414.csv\n",
      "obs/AGNs/agn_0847/0847R-220414.csv\n",
      "      dHJD     D1    eD1     D2    eD2\n",
      "0   0.5011  0.431  0.004  0.796  0.004\n",
      "1   0.5104  0.422  0.004  0.793  0.004\n",
      "2   0.5203  0.435  0.004  0.797  0.004\n",
      "3   0.5307  0.441  0.004  0.797  0.004\n",
      "4   0.5410  0.436  0.004  0.793  0.004\n",
      "5   0.5519  0.425  0.003  0.788  0.004\n",
      "6   0.5629  0.428  0.004  0.781  0.004\n",
      "7   0.5739  0.441  0.004  0.787  0.004\n",
      "8   0.5852  0.429  0.004  0.777  0.004\n",
      "9   0.5971  0.432  0.004  0.772  0.004\n",
      "10  0.6093  0.428  0.004  0.776  0.004\n",
      "11  0.6209  0.430  0.004  0.778  0.004\n",
      "12\n"
     ]
    },
    {
     "data": {
      "text/html": [],
      "text/plain": [
       "<IPython.core.display.HTML object>"
      ]
     },
     "metadata": {},
     "output_type": "display_data"
    },
    {
     "name": "stdout",
     "output_type": "stream",
     "text": [
      "0847R-220414.csv :Classified    mag_mean   mag_var  mag_skew  mag_kurt  prediction_label  prediction_score\n",
      "0   0.35475  0.000078    0.1852 -0.952915                 0               1.0 with 12 observations\n"
     ]
    },
    {
     "ename": "ValueError",
     "evalue": "The truth value of a DataFrame is ambiguous. Use a.empty, a.bool(), a.item(), a.any() or a.all().",
     "output_type": "error",
     "traceback": [
      "\u001b[0;31m---------------------------------------------------------------------------\u001b[0m",
      "\u001b[0;31mValueError\u001b[0m                                Traceback (most recent call last)",
      "Cell \u001b[0;32mIn[53], line 42\u001b[0m\n\u001b[1;32m     39\u001b[0m \u001b[38;5;28mprint\u001b[39m(j, \u001b[38;5;124m'\u001b[39m\u001b[38;5;124m:Classified\u001b[39m\u001b[38;5;124m'\u001b[39m, predicted, \u001b[38;5;124m'\u001b[39m\u001b[38;5;124mwith\u001b[39m\u001b[38;5;124m'\u001b[39m, long, \u001b[38;5;124m'\u001b[39m\u001b[38;5;124mobservations\u001b[39m\u001b[38;5;124m'\u001b[39m)\n\u001b[1;32m     41\u001b[0m c\u001b[38;5;241m+\u001b[39m\u001b[38;5;241m=\u001b[39m\u001b[38;5;241m1\u001b[39m\n\u001b[0;32m---> 42\u001b[0m \u001b[38;5;28;01mif\u001b[39;00m predicted \u001b[38;5;241m==\u001b[39m \u001b[38;5;241m1\u001b[39m:\n\u001b[1;32m     44\u001b[0m     df_obs\u001b[38;5;241m.\u001b[39mappend(features_obs)\n\u001b[1;32m     45\u001b[0m     names1\u001b[38;5;241m.\u001b[39mappend(j)\n",
      "File \u001b[0;32m/opt/anaconda3/envs/pycaret3/lib/python3.10/site-packages/pandas/core/generic.py:1527\u001b[0m, in \u001b[0;36mNDFrame.__nonzero__\u001b[0;34m(self)\u001b[0m\n\u001b[1;32m   1525\u001b[0m \u001b[38;5;129m@final\u001b[39m\n\u001b[1;32m   1526\u001b[0m \u001b[38;5;28;01mdef\u001b[39;00m \u001b[38;5;21m__nonzero__\u001b[39m(\u001b[38;5;28mself\u001b[39m) \u001b[38;5;241m-\u001b[39m\u001b[38;5;241m>\u001b[39m NoReturn:\n\u001b[0;32m-> 1527\u001b[0m     \u001b[38;5;28;01mraise\u001b[39;00m \u001b[38;5;167;01mValueError\u001b[39;00m(\n\u001b[1;32m   1528\u001b[0m         \u001b[38;5;124mf\u001b[39m\u001b[38;5;124m\"\u001b[39m\u001b[38;5;124mThe truth value of a \u001b[39m\u001b[38;5;132;01m{\u001b[39;00m\u001b[38;5;28mtype\u001b[39m(\u001b[38;5;28mself\u001b[39m)\u001b[38;5;241m.\u001b[39m\u001b[38;5;18m__name__\u001b[39m\u001b[38;5;132;01m}\u001b[39;00m\u001b[38;5;124m is ambiguous. \u001b[39m\u001b[38;5;124m\"\u001b[39m\n\u001b[1;32m   1529\u001b[0m         \u001b[38;5;124m\"\u001b[39m\u001b[38;5;124mUse a.empty, a.bool(), a.item(), a.any() or a.all().\u001b[39m\u001b[38;5;124m\"\u001b[39m\n\u001b[1;32m   1530\u001b[0m     )\n",
      "\u001b[0;31mValueError\u001b[0m: The truth value of a DataFrame is ambiguous. Use a.empty, a.bool(), a.item(), a.any() or a.all()."
     ]
    }
   ],
   "source": [
    "#we go through all the subdirectories corresponding to each AGN and in each one all the files with different observations and we make a classification for each observation.\n",
    "filelist = os.listdir(path)\n",
    "df_obs = []\n",
    "names1 = []\n",
    "observations = []\n",
    "k=0\n",
    "#Make empty list to store all paths to subdirectories in.\n",
    "path2 = []\n",
    "for x in filelist:\n",
    "    if x.startswith('agn'):\n",
    "        path2.append(path + x+ '/')\n",
    "\n",
    "for i in path2:\n",
    "    filelist2 = os.listdir(i)\n",
    "    c=0\n",
    "    p=0\n",
    "    for j in filelist2:\n",
    "        print(j)\n",
    "        if j.endswith('.csv'):\n",
    "            print(i+j)\n",
    "            file = pd.read_csv(i+j, dtype=np.float64, na_values='INDEF')\n",
    "            print(file)\n",
    "            long= len(file['D1'])\n",
    "            print(long)\n",
    "\n",
    "            data_features_obs = []\n",
    "\n",
    "            features_obs = dataframe_obs(file)[0]\n",
    "            \n",
    "            # Store the features \n",
    "            data_features_obs.append(features_obs)    \n",
    "                \n",
    "            # Convert lists to a DataFrame\n",
    "            features_df_var = pd.DataFrame(data_features_obs)\n",
    "\n",
    "            # Predict with the best model \n",
    "            predicted = predict_model(final_best_model, data=features_df_var)\n",
    "    \n",
    "            print(j, ':Classified', predicted, 'with', long, 'observations')\n",
    "\n",
    "            c+=1\n",
    "            if predicted == 1:\n",
    "                \n",
    "                df_obs.append(features_obs)\n",
    "                names1.append(j)\n",
    "                observations.append(long)\n",
    "\n",
    "                p+=1\n",
    "                \n",
    "    prob = p/c*100\n",
    "\n",
    "    print('-------------------------------------------------',names_agns[k], 'is variable whit a probability of:', prob, '%')\n",
    "    k+=1\n",
    "\n",
    "# Convert lists to a DataFrame\n",
    "df_obs = pd.DataFrame(df_obs)\n",
    "df_obs['AGN_n_obs'] = names1\n",
    "df_obs['Observations'] = observations"
   ]
  },
  {
   "cell_type": "code",
   "execution_count": 35,
   "id": "a2b0b242",
   "metadata": {},
   "outputs": [
    {
     "data": {
      "text/html": [
       "<div>\n",
       "<style scoped>\n",
       "    .dataframe tbody tr th:only-of-type {\n",
       "        vertical-align: middle;\n",
       "    }\n",
       "\n",
       "    .dataframe tbody tr th {\n",
       "        vertical-align: top;\n",
       "    }\n",
       "\n",
       "    .dataframe thead th {\n",
       "        text-align: right;\n",
       "    }\n",
       "</style>\n",
       "<table border=\"1\" class=\"dataframe\">\n",
       "  <thead>\n",
       "    <tr style=\"text-align: right;\">\n",
       "      <th></th>\n",
       "      <th>mag_w_e_mean</th>\n",
       "      <th>mag_w_e_var</th>\n",
       "      <th>mag_w_e_skew</th>\n",
       "      <th>mag_w_e_kurt</th>\n",
       "    </tr>\n",
       "  </thead>\n",
       "  <tbody>\n",
       "    <tr>\n",
       "      <th>0</th>\n",
       "      <td>0.35475</td>\n",
       "      <td>0.000078</td>\n",
       "      <td>0.1852</td>\n",
       "      <td>-0.952915</td>\n",
       "    </tr>\n",
       "  </tbody>\n",
       "</table>\n",
       "</div>"
      ],
      "text/plain": [
       "   mag_w_e_mean  mag_w_e_var  mag_w_e_skew  mag_w_e_kurt\n",
       "0       0.35475     0.000078        0.1852     -0.952915"
      ]
     },
     "execution_count": 35,
     "metadata": {},
     "output_type": "execute_result"
    }
   ],
   "source": [
    "features_df_var"
   ]
  },
  {
   "cell_type": "code",
   "execution_count": 35,
   "id": "d1037256",
   "metadata": {},
   "outputs": [
    {
     "data": {
      "text/plain": [
       "['obs/AGNs/agn_0847/',\n",
       " 'obs/AGNs/agn_1958/',\n",
       " 'obs/AGNs/agn_2126/',\n",
       " 'obs/AGNs/agn_1443/',\n",
       " 'obs/AGNs/agn_0208/',\n",
       " 'obs/AGNs/agn_1917/',\n",
       " 'obs/AGNs/agn_2310/',\n",
       " 'obs/AGNs/agn_0414/',\n",
       " 'obs/AGNs/agn_2149/',\n",
       " 'obs/AGNs/agn_1229/',\n",
       " 'obs/AGNs/agn_2005/',\n",
       " 'obs/AGNs/agn_1424/',\n",
       " 'obs/AGNs/agn_1256/',\n",
       " 'obs/AGNs/agn_0521/',\n",
       " 'obs/AGNs/agn_1510/',\n",
       " 'obs/AGNs/agn_1127/',\n",
       " 'obs/AGNs/agn_1116/',\n",
       " 'obs/AGNs/agn_2155/']"
      ]
     },
     "execution_count": 35,
     "metadata": {},
     "output_type": "execute_result"
    }
   ],
   "source": [
    "path2"
   ]
  },
  {
   "cell_type": "code",
   "execution_count": 54,
   "id": "407edade",
   "metadata": {},
   "outputs": [
    {
     "ename": "NameError",
     "evalue": "name 'rf_classifier0' is not defined",
     "output_type": "error",
     "traceback": [
      "\u001b[0;31m---------------------------------------------------------------------------\u001b[0m",
      "\u001b[0;31mNameError\u001b[0m                                 Traceback (most recent call last)",
      "Cell \u001b[0;32mIn[54], line 35\u001b[0m\n\u001b[1;32m     32\u001b[0m features_df_var \u001b[38;5;241m=\u001b[39m pd\u001b[38;5;241m.\u001b[39mDataFrame(err_features_obs)\n\u001b[1;32m     34\u001b[0m \u001b[38;5;66;03m# Predict with the model\u001b[39;00m\n\u001b[0;32m---> 35\u001b[0m predicted \u001b[38;5;241m=\u001b[39m \u001b[43mrf_classifier0\u001b[49m\u001b[38;5;241m.\u001b[39mpredict(features_df_var)\n\u001b[1;32m     37\u001b[0m \u001b[38;5;28mprint\u001b[39m(j, \u001b[38;5;124m'\u001b[39m\u001b[38;5;124m:Classified\u001b[39m\u001b[38;5;124m'\u001b[39m, predicted, \u001b[38;5;124m'\u001b[39m\u001b[38;5;124mwith\u001b[39m\u001b[38;5;124m'\u001b[39m, long, \u001b[38;5;124m'\u001b[39m\u001b[38;5;124mobservations\u001b[39m\u001b[38;5;124m'\u001b[39m)\n\u001b[1;32m     39\u001b[0m c\u001b[38;5;241m+\u001b[39m\u001b[38;5;241m=\u001b[39m\u001b[38;5;241m1\u001b[39m\n",
      "\u001b[0;31mNameError\u001b[0m: name 'rf_classifier0' is not defined"
     ]
    }
   ],
   "source": [
    "#we go through all the subdirectories corresponding to each AGN and in each one all the files with different observations and we make a classification for each observation.\n",
    "\n",
    "#path = '/home/anakin/Documents/Tesis/Codigo/AGNs/' #path to main directory\n",
    "filelist = os.listdir(path)\n",
    "df_obs_err = []\n",
    "names1 = []\n",
    "observations = []\n",
    "k=0\n",
    "#Make empty list to store all paths to subdirectories in.\n",
    "path2 = []\n",
    "for x in filelist:\n",
    "    if x.startswith('agn'):\n",
    "        path2.append(path + x+ '/')\n",
    "\n",
    "for i in path2:\n",
    "    filelist2 = os.listdir(i)\n",
    "    c=0\n",
    "    p=0\n",
    "    for j in filelist2:\n",
    "        if j.endswith('.csv'):\n",
    "            file = pd.read_csv(i+j, dtype=np.float64, na_values='INDEF')\n",
    "            long= len(file['D1'])\n",
    "\n",
    "            err_features_obs = []\n",
    "\n",
    "            features_obs = dataframe_obs(file)[1]\n",
    "            \n",
    "            # Store the features \n",
    "            err_features_obs.append(features_obs)    \n",
    "                \n",
    "            # Convert lists to a DataFrame\n",
    "            features_df_var = pd.DataFrame(err_features_obs)\n",
    "\n",
    "            # Predict with the model\n",
    "            predicted = rf_classifier0.predict(features_df_var)\n",
    "    \n",
    "            print(j, ':Classified', predicted, 'with', long, 'observations')\n",
    "\n",
    "            c+=1\n",
    "            if predicted == 1:\n",
    "                \n",
    "                df_obs_err.append(features_obs)\n",
    "                names1.append(j)\n",
    "                observations.append(long)\n",
    "\n",
    "                p+=1\n",
    "                \n",
    "    prob = p/c*100\n",
    "\n",
    "    print('-------------------------------------------------',names_agns[k], 'is variable whit a probability of:', prob, '%')\n",
    "    k+=1\n",
    "\n",
    "# Convert lists to a DataFrame\n",
    "df_obs_err = pd.DataFrame(df_obs_err)\n",
    "df_obs_err['AGN_n_obs'] = names1\n",
    "df_obs_err['Observations'] = observations"
   ]
  },
  {
   "cell_type": "code",
   "execution_count": null,
   "id": "895fd72c",
   "metadata": {},
   "outputs": [],
   "source": []
  },
  {
   "cell_type": "code",
   "execution_count": null,
   "id": "d9a1aa05",
   "metadata": {},
   "outputs": [],
   "source": []
  },
  {
   "cell_type": "code",
   "execution_count": null,
   "id": "1dd1d74b",
   "metadata": {},
   "outputs": [],
   "source": []
  },
  {
   "cell_type": "code",
   "execution_count": null,
   "id": "1e72ecb1",
   "metadata": {},
   "outputs": [],
   "source": []
  },
  {
   "cell_type": "code",
   "execution_count": null,
   "id": "623d5fb4",
   "metadata": {},
   "outputs": [],
   "source": []
  },
  {
   "cell_type": "code",
   "execution_count": null,
   "id": "3d557d7c",
   "metadata": {},
   "outputs": [],
   "source": []
  },
  {
   "cell_type": "markdown",
   "id": "8c62beb1-5106-43b9-8a75-780d4dbc5695",
   "metadata": {},
   "source": [
    "#### As we can see, this dataset is very unbalanced."
   ]
  },
  {
   "cell_type": "code",
   "execution_count": 24,
   "id": "90a67202-4672-4e90-9606-f2880716b355",
   "metadata": {},
   "outputs": [
    {
     "data": {
      "image/png": "[encoded data removed]",
      "text/plain": [
       "<Figure size 1200x800 with 2 Axes>"
      ]
     },
     "metadata": {},
     "output_type": "display_data"
    }
   ],
   "source": [
    "#Perform a correlation matrix to see how the data are related.\n",
    "\n",
    "plt.figure(figsize=(12,8))\n",
    "sns.heatmap(features_df.corr(), annot=True)\n",
    "plt.show()"
   ]
  },
  {
   "cell_type": "code",
   "execution_count": 25,
   "id": "dafdaa9f-df82-4920-a868-30162e0e442b",
   "metadata": {},
   "outputs": [
    {
     "data": {
      "text/plain": [
       "0    5000\n",
       "1     225\n",
       "Name: Variability, dtype: int64"
      ]
     },
     "execution_count": 25,
     "metadata": {},
     "output_type": "execute_result"
    }
   ],
   "source": [
    "features_df.Variability.value_counts()"
   ]
  },
  {
   "cell_type": "code",
   "execution_count": 26,
   "id": "086167b7-b64d-4064-8b29-ff77c4fe0b24",
   "metadata": {},
   "outputs": [],
   "source": [
    "df_0 = features_df[features_df['Variability'] == 0 ].sample(n=500)"
   ]
  },
  {
   "cell_type": "code",
   "execution_count": 27,
   "id": "fb9bcfd3-7172-4ef7-97bc-c6b5e85a1e4a",
   "metadata": {},
   "outputs": [
    {
     "data": {
      "text/html": [
       "<div>\n",
       "<style scoped>\n",
       "    .dataframe tbody tr th:only-of-type {\n",
       "        vertical-align: middle;\n",
       "    }\n",
       "\n",
       "    .dataframe tbody tr th {\n",
       "        vertical-align: top;\n",
       "    }\n",
       "\n",
       "    .dataframe thead th {\n",
       "        text-align: right;\n",
       "    }\n",
       "</style>\n",
       "<table border=\"1\" class=\"dataframe\">\n",
       "  <thead>\n",
       "    <tr style=\"text-align: right;\">\n",
       "      <th></th>\n",
       "      <th>mag_mean</th>\n",
       "      <th>mag_var</th>\n",
       "      <th>mag_skew</th>\n",
       "      <th>mag_kurt</th>\n",
       "      <th>mag_w_e_mean</th>\n",
       "      <th>mag_w_e_var</th>\n",
       "      <th>mag_w_e_skew</th>\n",
       "      <th>mag_w_e_kurt</th>\n",
       "      <th>Variability</th>\n",
       "    </tr>\n",
       "  </thead>\n",
       "  <tbody>\n",
       "    <tr>\n",
       "      <th>2628</th>\n",
       "      <td>0.000850</td>\n",
       "      <td>0.000020</td>\n",
       "      <td>0.198916</td>\n",
       "      <td>-0.204437</td>\n",
       "      <td>-0.006775</td>\n",
       "      <td>0.000023</td>\n",
       "      <td>0.049349</td>\n",
       "      <td>-0.388815</td>\n",
       "      <td>0</td>\n",
       "    </tr>\n",
       "    <tr>\n",
       "      <th>2140</th>\n",
       "      <td>-0.010800</td>\n",
       "      <td>0.000073</td>\n",
       "      <td>0.952228</td>\n",
       "      <td>0.809315</td>\n",
       "      <td>-0.023375</td>\n",
       "      <td>0.000077</td>\n",
       "      <td>0.572652</td>\n",
       "      <td>-0.279867</td>\n",
       "      <td>0</td>\n",
       "    </tr>\n",
       "    <tr>\n",
       "      <th>492</th>\n",
       "      <td>-0.009075</td>\n",
       "      <td>0.000027</td>\n",
       "      <td>0.122918</td>\n",
       "      <td>-0.178779</td>\n",
       "      <td>-0.001075</td>\n",
       "      <td>0.000027</td>\n",
       "      <td>0.122918</td>\n",
       "      <td>-0.178779</td>\n",
       "      <td>0</td>\n",
       "    </tr>\n",
       "    <tr>\n",
       "      <th>522</th>\n",
       "      <td>-0.009525</td>\n",
       "      <td>0.000035</td>\n",
       "      <td>0.236133</td>\n",
       "      <td>-0.336759</td>\n",
       "      <td>-0.017600</td>\n",
       "      <td>0.000034</td>\n",
       "      <td>0.274084</td>\n",
       "      <td>-0.299931</td>\n",
       "      <td>0</td>\n",
       "    </tr>\n",
       "    <tr>\n",
       "      <th>947</th>\n",
       "      <td>-0.007525</td>\n",
       "      <td>0.000071</td>\n",
       "      <td>-0.352796</td>\n",
       "      <td>-0.039839</td>\n",
       "      <td>0.002475</td>\n",
       "      <td>0.000071</td>\n",
       "      <td>-0.352796</td>\n",
       "      <td>-0.039839</td>\n",
       "      <td>0</td>\n",
       "    </tr>\n",
       "    <tr>\n",
       "      <th>...</th>\n",
       "      <td>...</td>\n",
       "      <td>...</td>\n",
       "      <td>...</td>\n",
       "      <td>...</td>\n",
       "      <td>...</td>\n",
       "      <td>...</td>\n",
       "      <td>...</td>\n",
       "      <td>...</td>\n",
       "      <td>...</td>\n",
       "    </tr>\n",
       "    <tr>\n",
       "      <th>3068</th>\n",
       "      <td>-0.010425</td>\n",
       "      <td>0.000120</td>\n",
       "      <td>0.172355</td>\n",
       "      <td>0.304033</td>\n",
       "      <td>-0.024275</td>\n",
       "      <td>0.000121</td>\n",
       "      <td>0.154109</td>\n",
       "      <td>0.270379</td>\n",
       "      <td>0</td>\n",
       "    </tr>\n",
       "    <tr>\n",
       "      <th>2642</th>\n",
       "      <td>0.011525</td>\n",
       "      <td>0.000045</td>\n",
       "      <td>0.589953</td>\n",
       "      <td>1.102784</td>\n",
       "      <td>0.019475</td>\n",
       "      <td>0.000051</td>\n",
       "      <td>1.046240</td>\n",
       "      <td>2.413489</td>\n",
       "      <td>0</td>\n",
       "    </tr>\n",
       "    <tr>\n",
       "      <th>1216</th>\n",
       "      <td>-0.001725</td>\n",
       "      <td>0.000019</td>\n",
       "      <td>-0.107712</td>\n",
       "      <td>-0.586621</td>\n",
       "      <td>-0.007725</td>\n",
       "      <td>0.000019</td>\n",
       "      <td>-0.107712</td>\n",
       "      <td>-0.586621</td>\n",
       "      <td>0</td>\n",
       "    </tr>\n",
       "    <tr>\n",
       "      <th>4653</th>\n",
       "      <td>0.004475</td>\n",
       "      <td>0.000114</td>\n",
       "      <td>-0.151807</td>\n",
       "      <td>-0.698715</td>\n",
       "      <td>-0.012275</td>\n",
       "      <td>0.000135</td>\n",
       "      <td>-0.417601</td>\n",
       "      <td>-0.356084</td>\n",
       "      <td>0</td>\n",
       "    </tr>\n",
       "    <tr>\n",
       "      <th>3021</th>\n",
       "      <td>-0.004725</td>\n",
       "      <td>0.000039</td>\n",
       "      <td>0.181428</td>\n",
       "      <td>-0.636502</td>\n",
       "      <td>-0.015975</td>\n",
       "      <td>0.000041</td>\n",
       "      <td>0.238812</td>\n",
       "      <td>-0.596808</td>\n",
       "      <td>0</td>\n",
       "    </tr>\n",
       "  </tbody>\n",
       "</table>\n",
       "<p>500 rows × 9 columns</p>\n",
       "</div>"
      ],
      "text/plain": [
       "      mag_mean   mag_var  mag_skew  mag_kurt  mag_w_e_mean  mag_w_e_var  \\\n",
       "2628  0.000850  0.000020  0.198916 -0.204437     -0.006775     0.000023   \n",
       "2140 -0.010800  0.000073  0.952228  0.809315     -0.023375     0.000077   \n",
       "492  -0.009075  0.000027  0.122918 -0.178779     -0.001075     0.000027   \n",
       "522  -0.009525  0.000035  0.236133 -0.336759     -0.017600     0.000034   \n",
       "947  -0.007525  0.000071 -0.352796 -0.039839      0.002475     0.000071   \n",
       "...        ...       ...       ...       ...           ...          ...   \n",
       "3068 -0.010425  0.000120  0.172355  0.304033     -0.024275     0.000121   \n",
       "2642  0.011525  0.000045  0.589953  1.102784      0.019475     0.000051   \n",
       "1216 -0.001725  0.000019 -0.107712 -0.586621     -0.007725     0.000019   \n",
       "4653  0.004475  0.000114 -0.151807 -0.698715     -0.012275     0.000135   \n",
       "3021 -0.004725  0.000039  0.181428 -0.636502     -0.015975     0.000041   \n",
       "\n",
       "      mag_w_e_skew  mag_w_e_kurt  Variability  \n",
       "2628      0.049349     -0.388815            0  \n",
       "2140      0.572652     -0.279867            0  \n",
       "492       0.122918     -0.178779            0  \n",
       "522       0.274084     -0.299931            0  \n",
       "947      -0.352796     -0.039839            0  \n",
       "...            ...           ...          ...  \n",
       "3068      0.154109      0.270379            0  \n",
       "2642      1.046240      2.413489            0  \n",
       "1216     -0.107712     -0.586621            0  \n",
       "4653     -0.417601     -0.356084            0  \n",
       "3021      0.238812     -0.596808            0  \n",
       "\n",
       "[500 rows x 9 columns]"
      ]
     },
     "execution_count": 27,
     "metadata": {},
     "output_type": "execute_result"
    }
   ],
   "source": [
    "df_0"
   ]
  },
  {
   "cell_type": "code",
   "execution_count": 28,
   "id": "977b7a67-fd97-4322-95c9-d1469fb3f021",
   "metadata": {},
   "outputs": [],
   "source": [
    "df_1 =  features_df[features_df['Variability'] == 1 ].sample(n=225)"
   ]
  },
  {
   "cell_type": "code",
   "execution_count": 29,
   "id": "ed7d2bd8-cf44-4c49-9c5c-8b794260301a",
   "metadata": {},
   "outputs": [
    {
     "data": {
      "text/html": [
       "<div>\n",
       "<style scoped>\n",
       "    .dataframe tbody tr th:only-of-type {\n",
       "        vertical-align: middle;\n",
       "    }\n",
       "\n",
       "    .dataframe tbody tr th {\n",
       "        vertical-align: top;\n",
       "    }\n",
       "\n",
       "    .dataframe thead th {\n",
       "        text-align: right;\n",
       "    }\n",
       "</style>\n",
       "<table border=\"1\" class=\"dataframe\">\n",
       "  <thead>\n",
       "    <tr style=\"text-align: right;\">\n",
       "      <th></th>\n",
       "      <th>mag_mean</th>\n",
       "      <th>mag_var</th>\n",
       "      <th>mag_skew</th>\n",
       "      <th>mag_kurt</th>\n",
       "      <th>mag_w_e_mean</th>\n",
       "      <th>mag_w_e_var</th>\n",
       "      <th>mag_w_e_skew</th>\n",
       "      <th>mag_w_e_kurt</th>\n",
       "      <th>Variability</th>\n",
       "    </tr>\n",
       "  </thead>\n",
       "  <tbody>\n",
       "    <tr>\n",
       "      <th>5105</th>\n",
       "      <td>-0.006775</td>\n",
       "      <td>0.002321</td>\n",
       "      <td>-0.594593</td>\n",
       "      <td>-0.984823</td>\n",
       "      <td>0.002700</td>\n",
       "      <td>0.002215</td>\n",
       "      <td>-0.618755</td>\n",
       "      <td>-0.985556</td>\n",
       "      <td>1</td>\n",
       "    </tr>\n",
       "    <tr>\n",
       "      <th>5103</th>\n",
       "      <td>-0.012275</td>\n",
       "      <td>0.008541</td>\n",
       "      <td>0.175204</td>\n",
       "      <td>-1.398562</td>\n",
       "      <td>-0.021950</td>\n",
       "      <td>0.008557</td>\n",
       "      <td>0.184176</td>\n",
       "      <td>-1.400998</td>\n",
       "      <td>1</td>\n",
       "    </tr>\n",
       "    <tr>\n",
       "      <th>5115</th>\n",
       "      <td>0.000225</td>\n",
       "      <td>0.000841</td>\n",
       "      <td>-0.107100</td>\n",
       "      <td>-1.330637</td>\n",
       "      <td>0.009125</td>\n",
       "      <td>0.000841</td>\n",
       "      <td>-0.081831</td>\n",
       "      <td>-1.325206</td>\n",
       "      <td>1</td>\n",
       "    </tr>\n",
       "    <tr>\n",
       "      <th>5001</th>\n",
       "      <td>-0.011600</td>\n",
       "      <td>0.003450</td>\n",
       "      <td>0.054997</td>\n",
       "      <td>-1.173883</td>\n",
       "      <td>-0.017600</td>\n",
       "      <td>0.003450</td>\n",
       "      <td>0.054997</td>\n",
       "      <td>-1.173883</td>\n",
       "      <td>1</td>\n",
       "    </tr>\n",
       "    <tr>\n",
       "      <th>5209</th>\n",
       "      <td>-0.008275</td>\n",
       "      <td>0.002094</td>\n",
       "      <td>-0.740583</td>\n",
       "      <td>-0.435062</td>\n",
       "      <td>-0.022075</td>\n",
       "      <td>0.002057</td>\n",
       "      <td>-0.752409</td>\n",
       "      <td>-0.466655</td>\n",
       "      <td>1</td>\n",
       "    </tr>\n",
       "    <tr>\n",
       "      <th>...</th>\n",
       "      <td>...</td>\n",
       "      <td>...</td>\n",
       "      <td>...</td>\n",
       "      <td>...</td>\n",
       "      <td>...</td>\n",
       "      <td>...</td>\n",
       "      <td>...</td>\n",
       "      <td>...</td>\n",
       "      <td>...</td>\n",
       "    </tr>\n",
       "    <tr>\n",
       "      <th>5048</th>\n",
       "      <td>-0.006975</td>\n",
       "      <td>0.000952</td>\n",
       "      <td>-0.602181</td>\n",
       "      <td>-0.987928</td>\n",
       "      <td>-0.012975</td>\n",
       "      <td>0.000952</td>\n",
       "      <td>-0.602181</td>\n",
       "      <td>-0.987928</td>\n",
       "      <td>1</td>\n",
       "    </tr>\n",
       "    <tr>\n",
       "      <th>5201</th>\n",
       "      <td>-0.008150</td>\n",
       "      <td>0.000838</td>\n",
       "      <td>-0.465929</td>\n",
       "      <td>-1.004655</td>\n",
       "      <td>-0.022875</td>\n",
       "      <td>0.000847</td>\n",
       "      <td>-0.426608</td>\n",
       "      <td>-1.057327</td>\n",
       "      <td>1</td>\n",
       "    </tr>\n",
       "    <tr>\n",
       "      <th>5066</th>\n",
       "      <td>-0.005300</td>\n",
       "      <td>0.000946</td>\n",
       "      <td>-0.543974</td>\n",
       "      <td>-1.099840</td>\n",
       "      <td>-0.011300</td>\n",
       "      <td>0.000946</td>\n",
       "      <td>-0.543974</td>\n",
       "      <td>-1.099840</td>\n",
       "      <td>1</td>\n",
       "    </tr>\n",
       "    <tr>\n",
       "      <th>5096</th>\n",
       "      <td>0.014275</td>\n",
       "      <td>0.002421</td>\n",
       "      <td>-0.286918</td>\n",
       "      <td>-1.515239</td>\n",
       "      <td>0.024100</td>\n",
       "      <td>0.002383</td>\n",
       "      <td>-0.266091</td>\n",
       "      <td>-1.532118</td>\n",
       "      <td>1</td>\n",
       "    </tr>\n",
       "    <tr>\n",
       "      <th>5211</th>\n",
       "      <td>0.011925</td>\n",
       "      <td>0.009615</td>\n",
       "      <td>0.313952</td>\n",
       "      <td>-1.310111</td>\n",
       "      <td>-0.006925</td>\n",
       "      <td>0.009723</td>\n",
       "      <td>0.285915</td>\n",
       "      <td>-1.344807</td>\n",
       "      <td>1</td>\n",
       "    </tr>\n",
       "  </tbody>\n",
       "</table>\n",
       "<p>225 rows × 9 columns</p>\n",
       "</div>"
      ],
      "text/plain": [
       "      mag_mean   mag_var  mag_skew  mag_kurt  mag_w_e_mean  mag_w_e_var  \\\n",
       "5105 -0.006775  0.002321 -0.594593 -0.984823      0.002700     0.002215   \n",
       "5103 -0.012275  0.008541  0.175204 -1.398562     -0.021950     0.008557   \n",
       "5115  0.000225  0.000841 -0.107100 -1.330637      0.009125     0.000841   \n",
       "5001 -0.011600  0.003450  0.054997 -1.173883     -0.017600     0.003450   \n",
       "5209 -0.008275  0.002094 -0.740583 -0.435062     -0.022075     0.002057   \n",
       "...        ...       ...       ...       ...           ...          ...   \n",
       "5048 -0.006975  0.000952 -0.602181 -0.987928     -0.012975     0.000952   \n",
       "5201 -0.008150  0.000838 -0.465929 -1.004655     -0.022875     0.000847   \n",
       "5066 -0.005300  0.000946 -0.543974 -1.099840     -0.011300     0.000946   \n",
       "5096  0.014275  0.002421 -0.286918 -1.515239      0.024100     0.002383   \n",
       "5211  0.011925  0.009615  0.313952 -1.310111     -0.006925     0.009723   \n",
       "\n",
       "      mag_w_e_skew  mag_w_e_kurt  Variability  \n",
       "5105     -0.618755     -0.985556            1  \n",
       "5103      0.184176     -1.400998            1  \n",
       "5115     -0.081831     -1.325206            1  \n",
       "5001      0.054997     -1.173883            1  \n",
       "5209     -0.752409     -0.466655            1  \n",
       "...            ...           ...          ...  \n",
       "5048     -0.602181     -0.987928            1  \n",
       "5201     -0.426608     -1.057327            1  \n",
       "5066     -0.543974     -1.099840            1  \n",
       "5096     -0.266091     -1.532118            1  \n",
       "5211      0.285915     -1.344807            1  \n",
       "\n",
       "[225 rows x 9 columns]"
      ]
     },
     "execution_count": 29,
     "metadata": {},
     "output_type": "execute_result"
    }
   ],
   "source": [
    "df_1"
   ]
  },
  {
   "cell_type": "code",
   "execution_count": 30,
   "id": "e7ec34ae-a217-4525-b167-25b45ab385f7",
   "metadata": {},
   "outputs": [],
   "source": [
    "df = pd.concat([df_0, df_1])"
   ]
  },
  {
   "cell_type": "code",
   "execution_count": 31,
   "id": "8585d866-4c4d-46d0-8db5-e07c614fd4cb",
   "metadata": {},
   "outputs": [],
   "source": [
    "df.index =  range(df.shape[0])"
   ]
  },
  {
   "cell_type": "code",
   "execution_count": 32,
   "id": "fd000331-204b-4a50-b122-2a11d983dc06",
   "metadata": {},
   "outputs": [
    {
     "data": {
      "text/html": [
       "<div>\n",
       "<style scoped>\n",
       "    .dataframe tbody tr th:only-of-type {\n",
       "        vertical-align: middle;\n",
       "    }\n",
       "\n",
       "    .dataframe tbody tr th {\n",
       "        vertical-align: top;\n",
       "    }\n",
       "\n",
       "    .dataframe thead th {\n",
       "        text-align: right;\n",
       "    }\n",
       "</style>\n",
       "<table border=\"1\" class=\"dataframe\">\n",
       "  <thead>\n",
       "    <tr style=\"text-align: right;\">\n",
       "      <th></th>\n",
       "      <th>mag_mean</th>\n",
       "      <th>mag_var</th>\n",
       "      <th>mag_skew</th>\n",
       "      <th>mag_kurt</th>\n",
       "      <th>mag_w_e_mean</th>\n",
       "      <th>mag_w_e_var</th>\n",
       "      <th>mag_w_e_skew</th>\n",
       "      <th>mag_w_e_kurt</th>\n",
       "      <th>Variability</th>\n",
       "    </tr>\n",
       "  </thead>\n",
       "  <tbody>\n",
       "    <tr>\n",
       "      <th>0</th>\n",
       "      <td>0.000850</td>\n",
       "      <td>0.000020</td>\n",
       "      <td>0.198916</td>\n",
       "      <td>-0.204437</td>\n",
       "      <td>-0.006775</td>\n",
       "      <td>0.000023</td>\n",
       "      <td>0.049349</td>\n",
       "      <td>-0.388815</td>\n",
       "      <td>0</td>\n",
       "    </tr>\n",
       "    <tr>\n",
       "      <th>1</th>\n",
       "      <td>-0.010800</td>\n",
       "      <td>0.000073</td>\n",
       "      <td>0.952228</td>\n",
       "      <td>0.809315</td>\n",
       "      <td>-0.023375</td>\n",
       "      <td>0.000077</td>\n",
       "      <td>0.572652</td>\n",
       "      <td>-0.279867</td>\n",
       "      <td>0</td>\n",
       "    </tr>\n",
       "    <tr>\n",
       "      <th>2</th>\n",
       "      <td>-0.009075</td>\n",
       "      <td>0.000027</td>\n",
       "      <td>0.122918</td>\n",
       "      <td>-0.178779</td>\n",
       "      <td>-0.001075</td>\n",
       "      <td>0.000027</td>\n",
       "      <td>0.122918</td>\n",
       "      <td>-0.178779</td>\n",
       "      <td>0</td>\n",
       "    </tr>\n",
       "    <tr>\n",
       "      <th>3</th>\n",
       "      <td>-0.009525</td>\n",
       "      <td>0.000035</td>\n",
       "      <td>0.236133</td>\n",
       "      <td>-0.336759</td>\n",
       "      <td>-0.017600</td>\n",
       "      <td>0.000034</td>\n",
       "      <td>0.274084</td>\n",
       "      <td>-0.299931</td>\n",
       "      <td>0</td>\n",
       "    </tr>\n",
       "    <tr>\n",
       "      <th>4</th>\n",
       "      <td>-0.007525</td>\n",
       "      <td>0.000071</td>\n",
       "      <td>-0.352796</td>\n",
       "      <td>-0.039839</td>\n",
       "      <td>0.002475</td>\n",
       "      <td>0.000071</td>\n",
       "      <td>-0.352796</td>\n",
       "      <td>-0.039839</td>\n",
       "      <td>0</td>\n",
       "    </tr>\n",
       "    <tr>\n",
       "      <th>...</th>\n",
       "      <td>...</td>\n",
       "      <td>...</td>\n",
       "      <td>...</td>\n",
       "      <td>...</td>\n",
       "      <td>...</td>\n",
       "      <td>...</td>\n",
       "      <td>...</td>\n",
       "      <td>...</td>\n",
       "      <td>...</td>\n",
       "    </tr>\n",
       "    <tr>\n",
       "      <th>720</th>\n",
       "      <td>-0.006975</td>\n",
       "      <td>0.000952</td>\n",
       "      <td>-0.602181</td>\n",
       "      <td>-0.987928</td>\n",
       "      <td>-0.012975</td>\n",
       "      <td>0.000952</td>\n",
       "      <td>-0.602181</td>\n",
       "      <td>-0.987928</td>\n",
       "      <td>1</td>\n",
       "    </tr>\n",
       "    <tr>\n",
       "      <th>721</th>\n",
       "      <td>-0.008150</td>\n",
       "      <td>0.000838</td>\n",
       "      <td>-0.465929</td>\n",
       "      <td>-1.004655</td>\n",
       "      <td>-0.022875</td>\n",
       "      <td>0.000847</td>\n",
       "      <td>-0.426608</td>\n",
       "      <td>-1.057327</td>\n",
       "      <td>1</td>\n",
       "    </tr>\n",
       "    <tr>\n",
       "      <th>722</th>\n",
       "      <td>-0.005300</td>\n",
       "      <td>0.000946</td>\n",
       "      <td>-0.543974</td>\n",
       "      <td>-1.099840</td>\n",
       "      <td>-0.011300</td>\n",
       "      <td>0.000946</td>\n",
       "      <td>-0.543974</td>\n",
       "      <td>-1.099840</td>\n",
       "      <td>1</td>\n",
       "    </tr>\n",
       "    <tr>\n",
       "      <th>723</th>\n",
       "      <td>0.014275</td>\n",
       "      <td>0.002421</td>\n",
       "      <td>-0.286918</td>\n",
       "      <td>-1.515239</td>\n",
       "      <td>0.024100</td>\n",
       "      <td>0.002383</td>\n",
       "      <td>-0.266091</td>\n",
       "      <td>-1.532118</td>\n",
       "      <td>1</td>\n",
       "    </tr>\n",
       "    <tr>\n",
       "      <th>724</th>\n",
       "      <td>0.011925</td>\n",
       "      <td>0.009615</td>\n",
       "      <td>0.313952</td>\n",
       "      <td>-1.310111</td>\n",
       "      <td>-0.006925</td>\n",
       "      <td>0.009723</td>\n",
       "      <td>0.285915</td>\n",
       "      <td>-1.344807</td>\n",
       "      <td>1</td>\n",
       "    </tr>\n",
       "  </tbody>\n",
       "</table>\n",
       "<p>725 rows × 9 columns</p>\n",
       "</div>"
      ],
      "text/plain": [
       "     mag_mean   mag_var  mag_skew  mag_kurt  mag_w_e_mean  mag_w_e_var  \\\n",
       "0    0.000850  0.000020  0.198916 -0.204437     -0.006775     0.000023   \n",
       "1   -0.010800  0.000073  0.952228  0.809315     -0.023375     0.000077   \n",
       "2   -0.009075  0.000027  0.122918 -0.178779     -0.001075     0.000027   \n",
       "3   -0.009525  0.000035  0.236133 -0.336759     -0.017600     0.000034   \n",
       "4   -0.007525  0.000071 -0.352796 -0.039839      0.002475     0.000071   \n",
       "..        ...       ...       ...       ...           ...          ...   \n",
       "720 -0.006975  0.000952 -0.602181 -0.987928     -0.012975     0.000952   \n",
       "721 -0.008150  0.000838 -0.465929 -1.004655     -0.022875     0.000847   \n",
       "722 -0.005300  0.000946 -0.543974 -1.099840     -0.011300     0.000946   \n",
       "723  0.014275  0.002421 -0.286918 -1.515239      0.024100     0.002383   \n",
       "724  0.011925  0.009615  0.313952 -1.310111     -0.006925     0.009723   \n",
       "\n",
       "     mag_w_e_skew  mag_w_e_kurt  Variability  \n",
       "0        0.049349     -0.388815            0  \n",
       "1        0.572652     -0.279867            0  \n",
       "2        0.122918     -0.178779            0  \n",
       "3        0.274084     -0.299931            0  \n",
       "4       -0.352796     -0.039839            0  \n",
       "..            ...           ...          ...  \n",
       "720     -0.602181     -0.987928            1  \n",
       "721     -0.426608     -1.057327            1  \n",
       "722     -0.543974     -1.099840            1  \n",
       "723     -0.266091     -1.532118            1  \n",
       "724      0.285915     -1.344807            1  \n",
       "\n",
       "[725 rows x 9 columns]"
      ]
     },
     "execution_count": 32,
     "metadata": {},
     "output_type": "execute_result"
    }
   ],
   "source": [
    "df"
   ]
  },
  {
   "cell_type": "code",
   "execution_count": 33,
   "id": "37e9765e-99d6-4cc2-aca1-f47f89c0f94d",
   "metadata": {},
   "outputs": [
    {
     "data": {
      "image/png": "[encoded data removed]",
      "text/plain": [
       "<Figure size 640x480 with 1 Axes>"
      ]
     },
     "metadata": {},
     "output_type": "display_data"
    }
   ],
   "source": [
    "pie_x, pie_y = np.unique(df['Variability'], return_counts=True)\n",
    "plt.pie(pie_y, labels=pie_x, autopct = '%1.1f%%') \n",
    "plt.title('AGNs Variability Rate')\n",
    "plt.show()"
   ]
  },
  {
   "cell_type": "markdown",
   "id": "021bbfdd-26ac-4001-b853-5eaf89457a44",
   "metadata": {},
   "source": [
    "### Machine Learning models"
   ]
  },
  {
   "cell_type": "code",
   "execution_count": 578,
   "id": "9c9900d8-cb1f-4ec1-9381-fff00cd9f7d1",
   "metadata": {},
   "outputs": [
    {
     "data": {
      "text/plain": [
       "-1.6738798071268954"
      ]
     },
     "execution_count": 578,
     "metadata": {},
     "output_type": "execute_result"
    }
   ],
   "source": [
    "#Apply a Machine Learning model, a Logistic Regression.\n",
    "\n",
    "data1 = features_df.copy()\n",
    "\n",
    "X = data1.drop('Variability', axis=1)[['mag_mean', 'mag_var', 'mag_skew', 'mag_kurt']]\n",
    "y = data1['Variability']\n",
    "\n",
    "# Split the dataset into training and testing sets\n",
    "X_train, X_test, y_train, y_test = train_test_split(X, y, test_size=0.3, random_state=20, stratify = y)\n",
    "\n",
    "# Initialize the Random Forest Classifier\n",
    "clf = LogisticRegression(random_state=0)\n",
    "\n",
    "# Train the model\n",
    "clf.fit(X_train, y_train)\n",
    "\n",
    "# Make predictions on the test set\n",
    "y_pred = clf.predict(X_test)\n",
    "\n",
    "# Evaluate the model\n",
    "r2_score(y_pred, y_test)"
   ]
  },
  {
   "cell_type": "markdown",
   "id": "61c6fbd5-d2ee-4d51-b5a5-2d069895033b",
   "metadata": {},
   "source": [
    "We'll try to improve the model."
   ]
  },
  {
   "cell_type": "code",
   "execution_count": 579,
   "id": "c4fd1d41-81a1-4b81-910d-7eb3dcf429e8",
   "metadata": {},
   "outputs": [
    {
     "data": {
      "text/plain": [
       "0.9968112244897959"
      ]
     },
     "execution_count": 579,
     "metadata": {},
     "output_type": "execute_result"
    }
   ],
   "source": [
    "#Apply a Random Forest classifier with the original dataset.\n",
    "\n",
    "data = features_df.copy()\n",
    "\n",
    "# Split the data into features and target\n",
    "X = data.drop('Variability', axis=1)[['mag_mean', 'mag_var', 'mag_skew', 'mag_kurt']]\n",
    "y = data['Variability']\n",
    "\n",
    "# Split the dataset into training and testing sets\n",
    "X_train, X_test, y_train, y_test = train_test_split(X, y, test_size=0.3, random_state=20, stratify = y)\n",
    "\n",
    "# Initialize the Random Forest Classifier\n",
    "rf_classifier = RandomForestClassifier(max_depth=10)\n",
    "\n",
    "# Train the model\n",
    "rf_classifier.fit(X_train, y_train)\n",
    "\n",
    "# Make predictions on the test set\n",
    "y_pred = rf_classifier.predict(X_test)\n",
    "\n",
    "# Evaluate the model\n",
    "accuracy_score(y_pred,y_test)"
   ]
  },
  {
   "cell_type": "code",
   "execution_count": 580,
   "id": "7b227dbe-fe02-421f-bbab-c249f85ec765",
   "metadata": {},
   "outputs": [
    {
     "data": {
      "text/plain": [
       "0.9793103448275862"
      ]
     },
     "execution_count": 580,
     "metadata": {},
     "output_type": "execute_result"
    }
   ],
   "source": [
    "#Another Machine Learning model, a Random Forest classifier with an UnderSampling.\n",
    "\n",
    "# Split the data into features and target\n",
    "X = df.drop('Variability', axis=1)[['mag_mean', 'mag_var', 'mag_skew', 'mag_kurt']]\n",
    "y = df['Variability']\n",
    "\n",
    "# Split the dataset into training and testing sets\n",
    "X1_train, X1_test, y1_train, y1_test = train_test_split(X, y, test_size=0.2, random_state=20, stratify = y)\n",
    "\n",
    "# Initialize the Random Forest Classifier\n",
    "rf_classifier1 = RandomForestClassifier(max_depth=10)\n",
    "\n",
    "# Train the model\n",
    "rf_classifier1.fit(X1_train, y1_train)\n",
    "\n",
    "# Make predictions on the test set\n",
    "y1_pred = rf_classifier1.predict(X1_test)\n",
    "\n",
    "# Evaluate the model\n",
    "accuracy_score(y1_pred,y1_test)"
   ]
  },
  {
   "cell_type": "code",
   "execution_count": 581,
   "id": "06ef2835-a75c-4a98-8e9b-e873a1ac74f0",
   "metadata": {},
   "outputs": [
    {
     "data": {
      "text/plain": [
       "0.9963333333333333"
      ]
     },
     "execution_count": 581,
     "metadata": {},
     "output_type": "execute_result"
    }
   ],
   "source": [
    "#Another Machine Learning model, a Random Forest classifier with an OverSampling.\n",
    "\n",
    "data_1 = features_df.copy()\n",
    "\n",
    "# Split the data into features and target\n",
    "X = data_1.drop('Variability', axis=1)[['mag_mean', 'mag_var', 'mag_skew', 'mag_kurt']]\n",
    "y = data_1['Variability']\n",
    "\n",
    "ros = RandomOverSampler(random_state=20, sampling_strategy='minority')\n",
    "\n",
    "X_res, y_res = ros.fit_resample(X, y)\n",
    "\n",
    "# Split the dataset into training and testing sets\n",
    "X11_train, X11_test, y11_train, y11_test = train_test_split(X_res, y_res, test_size=0.3, random_state=20, stratify = y_res)\n",
    "\n",
    "# Initialize the Random Forest Classifier\n",
    "rf_classifier11 = RandomForestClassifier(max_depth=10)\n",
    "\n",
    "# Train the model\n",
    "rf_classifier11.fit(X11_train, y11_train)\n",
    "\n",
    "# Make predictions on the test set\n",
    "y11_pred = rf_classifier11.predict(X11_test)\n",
    "\n",
    "# Evaluate the model\n",
    "accuracy_score(y11_pred,y11_test)"
   ]
  },
  {
   "cell_type": "markdown",
   "id": "6e24ed78-dadf-43b8-9db1-8f54dc0d91f8",
   "metadata": {},
   "source": [
    "#### We use the metrics to evaluate the model"
   ]
  },
  {
   "cell_type": "markdown",
   "id": "19de81f0-6323-4b27-9a8a-8a07a69131ea",
   "metadata": {},
   "source": [
    "Metrics of first Random Forest Model"
   ]
  },
  {
   "cell_type": "code",
   "execution_count": 582,
   "id": "4afef539-c82d-4d24-8901-60316e411554",
   "metadata": {},
   "outputs": [
    {
     "data": {
      "text/plain": [
       "array([1500,    0,    5,   63])"
      ]
     },
     "execution_count": 582,
     "metadata": {},
     "output_type": "execute_result"
    }
   ],
   "source": [
    "confusion = metrics.confusion_matrix(y_test, y_pred)\n",
    "confusion.ravel()"
   ]
  },
  {
   "cell_type": "code",
   "execution_count": 583,
   "id": "9bb480f6-e588-45df-bbde-5b280dbc98b7",
   "metadata": {},
   "outputs": [
    {
     "data": {
      "image/png": "[encoded data removed]",
      "text/plain": [
       "<Figure size 640x480 with 2 Axes>"
      ]
     },
     "metadata": {},
     "output_type": "display_data"
    }
   ],
   "source": [
    "mc=confusion_matrix(y_pred,y_test)\n",
    "mc_norm = mc / np.linalg.norm(mc, axis=1, keepdims=True)\n",
    "sns.heatmap(pd.DataFrame(mc), cmap=sns.cm.rocket_r, annot=True, fmt='.5g');"
   ]
  },
  {
   "cell_type": "code",
   "execution_count": 584,
   "id": "271829de-cdca-416b-bd5e-34349dd5372b",
   "metadata": {},
   "outputs": [
    {
     "data": {
      "text/plain": [
       "1.0"
      ]
     },
     "execution_count": 584,
     "metadata": {},
     "output_type": "execute_result"
    }
   ],
   "source": [
    "cross_val_score(rf_classifier,X_train,y_train,cv=3,scoring='precision').mean()"
   ]
  },
  {
   "cell_type": "code",
   "execution_count": 585,
   "id": "b97213c9-4a59-492d-9f7a-2f3c30e7bc89",
   "metadata": {},
   "outputs": [
    {
     "data": {
      "text/plain": [
       "0.8858248669569425"
      ]
     },
     "execution_count": 585,
     "metadata": {},
     "output_type": "execute_result"
    }
   ],
   "source": [
    "cross_val_score(rf_classifier,X_train,y_train,cv=3,scoring='recall').mean()"
   ]
  },
  {
   "cell_type": "code",
   "execution_count": 586,
   "id": "c37431a1-b3e7-481c-bd53-870aef94d2d8",
   "metadata": {},
   "outputs": [
    {
     "data": {
      "text/plain": [
       "0.942330031669025"
      ]
     },
     "execution_count": 586,
     "metadata": {},
     "output_type": "execute_result"
    }
   ],
   "source": [
    "cross_val_score(rf_classifier,X_train,y_train,cv=3,scoring='f1').mean()"
   ]
  },
  {
   "cell_type": "markdown",
   "id": "d95169dc-1835-45b7-9857-be3b559c7dc9",
   "metadata": {},
   "source": [
    "Metrics of model with UnderSampling"
   ]
  },
  {
   "cell_type": "code",
   "execution_count": 587,
   "id": "271d4eaf-d9be-4fd1-aea2-02cc86e329ee",
   "metadata": {},
   "outputs": [
    {
     "data": {
      "image/png": "[encoded data removed]",
      "text/plain": [
       "<Figure size 640x480 with 2 Axes>"
      ]
     },
     "metadata": {},
     "output_type": "display_data"
    }
   ],
   "source": [
    "mc=confusion_matrix(y1_pred,y1_test)\n",
    "mc_norm = mc / np.linalg.norm(mc, axis=1, keepdims=True)\n",
    "sns.heatmap(pd.DataFrame(mc), cmap=sns.cm.rocket_r, annot=True, fmt='.5g');"
   ]
  },
  {
   "cell_type": "code",
   "execution_count": 588,
   "id": "ac68b884-1e99-4bbb-847c-a05c9ca3a41b",
   "metadata": {},
   "outputs": [
    {
     "data": {
      "text/plain": [
       "0.9834213207372419"
      ]
     },
     "execution_count": 588,
     "metadata": {},
     "output_type": "execute_result"
    }
   ],
   "source": [
    "cross_val_score(rf_classifier1,X1_train,y1_train,cv=3,scoring='precision').mean()"
   ]
  },
  {
   "cell_type": "code",
   "execution_count": 589,
   "id": "0f764485-079e-40f0-b55e-8ea02f300f48",
   "metadata": {},
   "outputs": [
    {
     "data": {
      "text/plain": [
       "0.9666666666666667"
      ]
     },
     "execution_count": 589,
     "metadata": {},
     "output_type": "execute_result"
    }
   ],
   "source": [
    "cross_val_score(rf_classifier1,X1_train,y1_train,cv=3,scoring='recall').mean()"
   ]
  },
  {
   "cell_type": "code",
   "execution_count": 590,
   "id": "facbc0b3-8c14-4e99-bb45-a69e30aba37f",
   "metadata": {
    "scrolled": true
   },
   "outputs": [
    {
     "data": {
      "text/plain": [
       "0.9747863846477097"
      ]
     },
     "execution_count": 590,
     "metadata": {},
     "output_type": "execute_result"
    }
   ],
   "source": [
    "cross_val_score(rf_classifier1,X1_train,y1_train,cv=3,scoring='f1').mean()"
   ]
  },
  {
   "cell_type": "markdown",
   "id": "46df6fd1-1554-407f-9faf-7caf266a99c8",
   "metadata": {},
   "source": [
    "Metrics of model with OverSampling"
   ]
  },
  {
   "cell_type": "code",
   "execution_count": 591,
   "id": "c8e72fad-6eb9-45d4-8ba7-fcf42523d9ec",
   "metadata": {},
   "outputs": [
    {
     "data": {
      "image/png": "[encoded data removed]",
      "text/plain": [
       "<Figure size 640x480 with 2 Axes>"
      ]
     },
     "metadata": {},
     "output_type": "display_data"
    }
   ],
   "source": [
    "mc=confusion_matrix(y11_pred,y11_test)\n",
    "mc_norm = mc / np.linalg.norm(mc, axis=1, keepdims=True)\n",
    "sns.heatmap(pd.DataFrame(mc), cmap=sns.cm.rocket_r, annot=True, fmt='.5g');"
   ]
  },
  {
   "cell_type": "code",
   "execution_count": 592,
   "id": "55ed249f-5c8a-468b-a863-1b558bc4dd34",
   "metadata": {},
   "outputs": [
    {
     "data": {
      "text/plain": [
       "0.994612992322916"
      ]
     },
     "execution_count": 592,
     "metadata": {},
     "output_type": "execute_result"
    }
   ],
   "source": [
    "cross_val_score(rf_classifier11,X11_train,y11_train,cv=3,scoring='precision').mean()"
   ]
  },
  {
   "cell_type": "code",
   "execution_count": 593,
   "id": "2e32c59f-219b-4010-8413-9b18486d3ff8",
   "metadata": {},
   "outputs": [
    {
     "data": {
      "text/plain": [
       "1.0"
      ]
     },
     "execution_count": 593,
     "metadata": {},
     "output_type": "execute_result"
    }
   ],
   "source": [
    "cross_val_score(rf_classifier11,X11_train,y11_train,cv=3,scoring='recall').mean()"
   ]
  },
  {
   "cell_type": "code",
   "execution_count": 594,
   "id": "977a0ec8-cad4-406c-9edb-0353eb8b0aef",
   "metadata": {},
   "outputs": [
    {
     "data": {
      "text/plain": [
       "0.9971522092158845"
      ]
     },
     "execution_count": 594,
     "metadata": {},
     "output_type": "execute_result"
    }
   ],
   "source": [
    "cross_val_score(rf_classifier11,X11_train,y11_train,cv=3,scoring='f1').mean()"
   ]
  },
  {
   "cell_type": "markdown",
   "id": "236eded2-1e44-4827-9401-ccb607e5af97",
   "metadata": {},
   "source": [
    "#### The second Random Forest model its better, so we will use this one."
   ]
  },
  {
   "cell_type": "code",
   "execution_count": 595,
   "id": "b643ec21-c32e-410f-9dce-297b710e0d50",
   "metadata": {},
   "outputs": [
    {
     "data": {
      "text/plain": [
       "0.9555555555555556"
      ]
     },
     "execution_count": 595,
     "metadata": {},
     "output_type": "execute_result"
    }
   ],
   "source": [
    "#Precision score\n",
    "precision_score(y1_pred, y1_test)"
   ]
  },
  {
   "cell_type": "code",
   "execution_count": 596,
   "id": "b0633763-c1ab-4714-9400-b8e844850ec6",
   "metadata": {},
   "outputs": [
    {
     "data": {
      "text/plain": [
       "0.9801980198019802"
      ]
     },
     "execution_count": 596,
     "metadata": {},
     "output_type": "execute_result"
    }
   ],
   "source": [
    "#Specificity score\n",
    "specificity_score(y1_pred,y1_test)"
   ]
  },
  {
   "cell_type": "code",
   "execution_count": 597,
   "id": "6cfb76ad-80ab-42cb-8187-5e267f605b9b",
   "metadata": {},
   "outputs": [
    {
     "data": {
      "text/plain": [
       "0.9787353735373537"
      ]
     },
     "execution_count": 597,
     "metadata": {},
     "output_type": "execute_result"
    }
   ],
   "source": [
    "#ROC AUC score\n",
    "roc_auc_score(y1_pred,y1_test)"
   ]
  },
  {
   "cell_type": "code",
   "execution_count": 598,
   "id": "aa7c9ace-b07e-4f81-aa15-16dcc3d6c004",
   "metadata": {},
   "outputs": [
    {
     "data": {
      "text/plain": [
       "0.9555555555555556"
      ]
     },
     "execution_count": 598,
     "metadata": {},
     "output_type": "execute_result"
    }
   ],
   "source": [
    "#Recall score\n",
    "recall_score(y1_test, y1_pred) "
   ]
  },
  {
   "cell_type": "code",
   "execution_count": 599,
   "id": "7a257814-b8dd-4023-9c4d-8ac014cd3a11",
   "metadata": {},
   "outputs": [
    {
     "data": {
      "text/plain": [
       "0.9662921348314608"
      ]
     },
     "execution_count": 599,
     "metadata": {},
     "output_type": "execute_result"
    }
   ],
   "source": [
    "#F1 score\n",
    "f1_score(y1_test, y1_pred) "
   ]
  },
  {
   "cell_type": "code",
   "execution_count": 600,
   "id": "a4786fb1-ee95-4221-8e3c-3ee6c61e4a49",
   "metadata": {},
   "outputs": [
    {
     "name": "stdout",
     "output_type": "stream",
     "text": [
      "              precision    recall  f1-score   support\n",
      "\n",
      "           0       0.98      0.99      0.99       100\n",
      "           1       0.98      0.96      0.97        45\n",
      "\n",
      "    accuracy                           0.98       145\n",
      "   macro avg       0.98      0.97      0.98       145\n",
      "weighted avg       0.98      0.98      0.98       145\n",
      "\n"
     ]
    }
   ],
   "source": [
    "print(classification_report(y1_test,y1_pred))"
   ]
  },
  {
   "cell_type": "markdown",
   "id": "5eca735a-9d8f-400e-9395-bf603c8a706b",
   "metadata": {},
   "source": [
    "grid search"
   ]
  },
  {
   "cell_type": "markdown",
   "id": "59a41674-1a89-41b0-a879-dac22f9b3a1e",
   "metadata": {},
   "source": [
    "### Now we'll use real observations of some AGNs to classify them.  "
   ]
  },
  {
   "cell_type": "code",
   "execution_count": 50,
   "id": "61bdc387-06a8-425c-a148-98139ae7b0bb",
   "metadata": {},
   "outputs": [],
   "source": [
    "#Function to read the observations and separate each AGN and calibration Stars.\n",
    "\n",
    "def agns1(data):\n",
    "    \n",
    "    #Read the first column which is the Julian days.\n",
    "    t = data[:,0]\n",
    "    \n",
    "    agn=data[:,1] #AGN magnitude\n",
    "    cal_star=[] #Calibration Stars\n",
    "    \n",
    "    for i in range(2, 9, 1):\n",
    "\n",
    "        if i != 6 and i != 8:\n",
    "\n",
    "            stars = data[:,i]\n",
    "            cal_star.append(stars)\n",
    "\n",
    "    return agn, cal_star, t"
   ]
  },
  {
   "cell_type": "code",
   "execution_count": 51,
   "id": "d80aa878-659f-4c67-80f6-b48ba30409b5",
   "metadata": {},
   "outputs": [],
   "source": [
    "def calibration1(agn, star):\n",
    "\n",
    "    rest = []\n",
    "    \n",
    "    for i in range(5):\n",
    "\n",
    "        resta = abs (np.mean(star[i])-np.mean(agn))\n",
    "\n",
    "        rest.append(resta)\n",
    "    \n",
    "        ind_min = np.argmin(rest)\n",
    "\n",
    "        cal = agn - star[ind_min] #Calibrated magnitude\n",
    "            \n",
    "    return cal"
   ]
  },
  {
   "cell_type": "code",
   "execution_count": 52,
   "id": "01cadd8a-cb69-430a-a188-7cebb875c50e",
   "metadata": {},
   "outputs": [],
   "source": [
    "def subsample_time_series(mag, t, subsample_size=30):\n",
    "    \"\"\"\n",
    "    Subsample the time series data to simulate incomplete observations.\n",
    "\n",
    "    :param t: AGN magnitudes\n",
    "    :param subsample_size: The number of data points to subsample to.\n",
    "    :return: Subsampled time series data mag.\n",
    "    \"\"\"\n",
    "    # Ensure we always subsample the same way for reproducibility\n",
    "    np.random.seed(0)\n",
    "    \n",
    "    # Choose random indices for subsampling\n",
    "    subsample_indices = np.random.choice(len(t), size=subsample_size, replace=False)\n",
    "    subsample_indices.sort()  # Sort the indices to maintain the time order\n",
    "    \n",
    "    return mag[subsample_indices], t[subsample_indices]"
   ]
  },
  {
   "cell_type": "code",
   "execution_count": 53,
   "id": "b2564796-27c1-46df-9bc3-58989532f3a0",
   "metadata": {},
   "outputs": [],
   "source": [
    "def extract_features_obs(mag,n, mag_w_err):\n",
    "    \"\"\"\n",
    "    Extract features from the time series data for use in machine learning models.\n",
    "\n",
    "    :param mag: Magnitude data array.\n",
    "    :return: Extracted features.\n",
    "    \"\"\"\n",
    "    features = {\n",
    "        'mag_mean': np.mean(mag),\n",
    "        'mag_var': np.var(mag),\n",
    "        'mag_skew': skew(mag),\n",
    "        'mag_kurt': kurtosis(mag),\n",
    "    }\n",
    "\n",
    "    err_features = {\n",
    "        'err_mean_m': np.mean(mag)/n,\n",
    "        'err_var_m': np.var(mag)/n,\n",
    "        'err_skew_m': skew(mag)/n,\n",
    "        'err_kurt_m': skew(mag)/n,\n",
    "    }\n",
    "\n",
    "    features_w_e = {\n",
    "        'mag_w_e_mean': np.mean(mag),\n",
    "        'mag_w_e_var': np.var(mag),\n",
    "        'mag_w_e_skew': skew(mag),\n",
    "        'mag_w_e_kurt': kurtosis(mag),\n",
    "    }\n",
    "    \n",
    "    return features, features_w_e, err_features"
   ]
  },
  {
   "cell_type": "code",
   "execution_count": 54,
   "id": "c6dfdbda-6f91-4b6f-9235-a6f987c76c48",
   "metadata": {},
   "outputs": [],
   "source": [
    "#Create a dataframe for the observations an save it to a CSV file\n",
    "\n",
    "def dataframe_obs(df): \n",
    "    \n",
    "    D1 = df['D1'] #Diference between AGN and calibration star magnitudes\n",
    "    err_D1 = df['eD1'] #error of the diference between AGN and calibration star magnitudes\n",
    "    D2 = df['D2'] #Diference between AGN and control star magnitudes\n",
    "    err_D2 = df['eD2'] #error of the diference between AGN and calibration star magnitudes\n",
    "\n",
    "    #Calculates the Diference between D1 and D2\n",
    "    mag = abs(D1-D2)\n",
    "    err_obs = err_D1 + err_D2\n",
    "    n = len(mag)\n",
    "\n",
    "    rng = np.random.default_rng()\n",
    "    t = rng.uniform(0, 2, 100)\n",
    "\n",
    "    if t.any() <= 1:\n",
    "\n",
    "        mag_w_err = mag + err_obs\n",
    "\n",
    "    else:\n",
    "\n",
    "        mag_w_err = mag - err_obs\n",
    "        \n",
    "    # Subsample the time series data to simulate incomplete observations\n",
    "    #mag_subsampled = subsample_time_series(mag, t, subsample_size)        \n",
    "    \n",
    "    # Extract features from the time series data\n",
    "    features_obs = extract_features_obs(mag, n, mag_w_err)[0]\n",
    "    err_features_obs = extract_features_obs(mag, n, mag_w_err)[1]\n",
    "    \n",
    "    return features_obs, err_features_obs"
   ]
  },
  {
   "cell_type": "code",
   "execution_count": 57,
   "id": "32f311d5-0b3b-4083-93d1-d2f1b6e0edcb",
   "metadata": {},
   "outputs": [
    {
     "data": {
      "text/plain": [
       "['agn_2341',\n",
       " 'agn_2347',\n",
       " 'agn_2340',\n",
       " 'agn_1933',\n",
       " 'agn_1101',\n",
       " 'agn_1334',\n",
       " 'agn_1622',\n",
       " 'agn_0537',\n",
       " 'agn_1606',\n",
       " 'agn_2022',\n",
       " 'agn_1034',\n",
       " 'agn_0208',\n",
       " 'agn_3c273',\n",
       " 'agn_1125',\n",
       " 'agn_0637',\n",
       " 'agn_2316',\n",
       " 'agn_1331',\n",
       " 'agn_2320',\n",
       " 'agn_1157',\n",
       " 'agn_2344',\n",
       " 'agn_2200',\n",
       " 'agn_1229',\n",
       " 'agn_2254',\n",
       " 'agn_2230',\n",
       " 'agn_2005',\n",
       " 'agn_1424',\n",
       " 'agn_1244',\n",
       " 'agn_1243',\n",
       " 'agn_1256',\n",
       " 'agn_0521',\n",
       " 'agn_1510',\n",
       " 'agn_1120',\n",
       " 'agn_1127',\n",
       " 'agn_2155',\n",
       " 'agn_1349',\n",
       " 'agn_1144',\n",
       " 'agn_1741',\n",
       " 'agn_0235',\n",
       " 'agn_3c279']"
      ]
     },
     "execution_count": 57,
     "metadata": {},
     "output_type": "execute_result"
    }
   ],
   "source": [
    "#List all the AGNs, each one is a directory\n",
    "names_agns = os.listdir(dir)\n",
    "names_agns "
   ]
  },
  {
   "cell_type": "code",
   "execution_count": 59,
   "id": "5cb53438-e8b9-42c1-b482-66ba4d7cbc40",
   "metadata": {
    "scrolled": true
   },
   "outputs": [
    {
     "ename": "FileNotFoundError",
     "evalue": "[Errno 2] No such file or directory: 'obsagn_2341/'",
     "output_type": "error",
     "traceback": [
      "\u001b[0;31m---------------------------------------------------------------------------\u001b[0m",
      "\u001b[0;31mFileNotFoundError\u001b[0m                         Traceback (most recent call last)",
      "Cell \u001b[0;32mIn[59], line 14\u001b[0m\n\u001b[1;32m     11\u001b[0m         path2\u001b[38;5;241m.\u001b[39mappend(path \u001b[38;5;241m+\u001b[39m x\u001b[38;5;241m+\u001b[39m \u001b[38;5;124m'\u001b[39m\u001b[38;5;124m/\u001b[39m\u001b[38;5;124m'\u001b[39m)\n\u001b[1;32m     13\u001b[0m \u001b[38;5;28;01mfor\u001b[39;00m i \u001b[38;5;129;01min\u001b[39;00m path2:\n\u001b[0;32m---> 14\u001b[0m     filelist2 \u001b[38;5;241m=\u001b[39m \u001b[43mos\u001b[49m\u001b[38;5;241;43m.\u001b[39;49m\u001b[43mlistdir\u001b[49m\u001b[43m(\u001b[49m\u001b[43mi\u001b[49m\u001b[43m)\u001b[49m\n\u001b[1;32m     15\u001b[0m     c\u001b[38;5;241m=\u001b[39m\u001b[38;5;241m0\u001b[39m\n\u001b[1;32m     16\u001b[0m     p\u001b[38;5;241m=\u001b[39m\u001b[38;5;241m0\u001b[39m\n",
      "\u001b[0;31mFileNotFoundError\u001b[0m: [Errno 2] No such file or directory: 'obsagn_2341/'"
     ]
    }
   ],
   "source": [
    "#we go through all the subdirectories corresponding to each AGN and in each one all the files with different observations and we make a classification for each observation.\n",
    "filelist = os.listdir(path)\n",
    "df_obs = []\n",
    "names1 = []\n",
    "observations = []\n",
    "k=0\n",
    "#Make empty list to store all paths to subdirectories in.\n",
    "path2 = []\n",
    "for x in filelist:\n",
    "    if x.startswith('agn'):\n",
    "        path2.append(path + x+ '/')\n",
    "\n",
    "for i in path2:\n",
    "    filelist2 = os.listdir(i)\n",
    "    c=0\n",
    "    p=0\n",
    "    for j in filelist2:\n",
    "        if j.endswith('.csv'):\n",
    "            file = pd.read_csv(i+j, dtype=np.float64, na_values='INDEF')\n",
    "            long= len(file['D1'])\n",
    "\n",
    "            data_features_obs = []\n",
    "\n",
    "            features_obs = dataframe_obs(file)[0]\n",
    "            \n",
    "            # Store the features \n",
    "            data_features_obs.append(features_obs)    \n",
    "                \n",
    "            # Convert lists to a DataFrame\n",
    "            features_df_var = pd.DataFrame(data_features_obs)\n",
    "\n",
    "            # Predict with the model\n",
    "            predicted = rf_classifier1.predict(features_df_var)\n",
    "    \n",
    "            print(j, ':Classified', predicted, 'with', long, 'observations')\n",
    "\n",
    "            c+=1\n",
    "            if predicted == 1:\n",
    "                \n",
    "                df_obs.append(features_obs)\n",
    "                names1.append(j)\n",
    "                observations.append(long)\n",
    "\n",
    "                p+=1\n",
    "                \n",
    "    prob = p/c*100\n",
    "\n",
    "    print('-------------------------------------------------',names_agns[k], 'is variable whit a probability of:', prob, '%')\n",
    "    k+=1\n",
    "\n",
    "# Convert lists to a DataFrame\n",
    "df_obs = pd.DataFrame(df_obs)\n",
    "df_obs['AGN_n_obs'] = names1\n",
    "df_obs['Observations'] = observations\n",
    " # Save the DataFrame to a CSV file\n",
    "#df_obs.to_csv('observations_AGNs.csv', index=False)\n"
   ]
  },
  {
   "cell_type": "code",
   "execution_count": 608,
   "id": "bf83cb52-6531-4447-b306-05b661f36b48",
   "metadata": {},
   "outputs": [
    {
     "data": {
      "text/html": [
       "<div>\n",
       "<style scoped>\n",
       "    .dataframe tbody tr th:only-of-type {\n",
       "        vertical-align: middle;\n",
       "    }\n",
       "\n",
       "    .dataframe tbody tr th {\n",
       "        vertical-align: top;\n",
       "    }\n",
       "\n",
       "    .dataframe thead th {\n",
       "        text-align: right;\n",
       "    }\n",
       "</style>\n",
       "<table border=\"1\" class=\"dataframe\">\n",
       "  <thead>\n",
       "    <tr style=\"text-align: right;\">\n",
       "      <th></th>\n",
       "      <th>mag_mean</th>\n",
       "      <th>mag_var</th>\n",
       "      <th>mag_skew</th>\n",
       "      <th>mag_kurt</th>\n",
       "      <th>AGN_n_obs</th>\n",
       "      <th>Observations</th>\n",
       "    </tr>\n",
       "  </thead>\n",
       "  <tbody>\n",
       "    <tr>\n",
       "      <th>0</th>\n",
       "      <td>0.040444</td>\n",
       "      <td>0.000665</td>\n",
       "      <td>0.501270</td>\n",
       "      <td>-0.884148</td>\n",
       "      <td>1424V-140415.csv</td>\n",
       "      <td>9</td>\n",
       "    </tr>\n",
       "    <tr>\n",
       "      <th>1</th>\n",
       "      <td>0.112933</td>\n",
       "      <td>0.000857</td>\n",
       "      <td>0.050781</td>\n",
       "      <td>-1.129494</td>\n",
       "      <td>1116V-130415.csv</td>\n",
       "      <td>15</td>\n",
       "    </tr>\n",
       "    <tr>\n",
       "      <th>2</th>\n",
       "      <td>0.227833</td>\n",
       "      <td>0.001494</td>\n",
       "      <td>0.611344</td>\n",
       "      <td>-1.191094</td>\n",
       "      <td>1116V-140415.csv</td>\n",
       "      <td>12</td>\n",
       "    </tr>\n",
       "    <tr>\n",
       "      <th>3</th>\n",
       "      <td>0.482750</td>\n",
       "      <td>0.003018</td>\n",
       "      <td>1.471751</td>\n",
       "      <td>1.302412</td>\n",
       "      <td>1510V-040419.csv</td>\n",
       "      <td>8</td>\n",
       "    </tr>\n",
       "    <tr>\n",
       "      <th>4</th>\n",
       "      <td>0.855000</td>\n",
       "      <td>0.001063</td>\n",
       "      <td>0.065795</td>\n",
       "      <td>-1.326321</td>\n",
       "      <td>0208R-130815.csv</td>\n",
       "      <td>9</td>\n",
       "    </tr>\n",
       "    <tr>\n",
       "      <th>5</th>\n",
       "      <td>1.327667</td>\n",
       "      <td>0.002670</td>\n",
       "      <td>0.494768</td>\n",
       "      <td>-1.370405</td>\n",
       "      <td>0208V-150915.csv</td>\n",
       "      <td>6</td>\n",
       "    </tr>\n",
       "    <tr>\n",
       "      <th>6</th>\n",
       "      <td>0.685889</td>\n",
       "      <td>0.000977</td>\n",
       "      <td>-0.312898</td>\n",
       "      <td>-1.128564</td>\n",
       "      <td>0208V-130815.csv</td>\n",
       "      <td>9</td>\n",
       "    </tr>\n",
       "    <tr>\n",
       "      <th>7</th>\n",
       "      <td>0.687000</td>\n",
       "      <td>0.001165</td>\n",
       "      <td>0.488886</td>\n",
       "      <td>-1.020814</td>\n",
       "      <td>2149V-120815.csv</td>\n",
       "      <td>4</td>\n",
       "    </tr>\n",
       "    <tr>\n",
       "      <th>8</th>\n",
       "      <td>0.678071</td>\n",
       "      <td>0.000681</td>\n",
       "      <td>0.542535</td>\n",
       "      <td>-0.866700</td>\n",
       "      <td>2155V-150915.csv</td>\n",
       "      <td>14</td>\n",
       "    </tr>\n",
       "  </tbody>\n",
       "</table>\n",
       "</div>"
      ],
      "text/plain": [
       "   mag_mean   mag_var  mag_skew  mag_kurt         AGN_n_obs  Observations\n",
       "0  0.040444  0.000665  0.501270 -0.884148  1424V-140415.csv             9\n",
       "1  0.112933  0.000857  0.050781 -1.129494  1116V-130415.csv            15\n",
       "2  0.227833  0.001494  0.611344 -1.191094  1116V-140415.csv            12\n",
       "3  0.482750  0.003018  1.471751  1.302412  1510V-040419.csv             8\n",
       "4  0.855000  0.001063  0.065795 -1.326321  0208R-130815.csv             9\n",
       "5  1.327667  0.002670  0.494768 -1.370405  0208V-150915.csv             6\n",
       "6  0.685889  0.000977 -0.312898 -1.128564  0208V-130815.csv             9\n",
       "7  0.687000  0.001165  0.488886 -1.020814  2149V-120815.csv             4\n",
       "8  0.678071  0.000681  0.542535 -0.866700  2155V-150915.csv            14"
      ]
     },
     "execution_count": 608,
     "metadata": {},
     "output_type": "execute_result"
    }
   ],
   "source": [
    "df_obs"
   ]
  },
  {
   "cell_type": "markdown",
   "id": "8d4a3f7a-4f85-4fef-98ae-9ffc7b058b4c",
   "metadata": {},
   "source": [
    "#### Now will create another model using the magnitudes with erros variables. We do this to verify if the observationals errors are sufficiently significant to change our predictions."
   ]
  },
  {
   "cell_type": "code",
   "execution_count": 609,
   "id": "46d6ca30-8860-423e-bfd8-5c50aad54b20",
   "metadata": {},
   "outputs": [
    {
     "data": {
      "text/plain": [
       "0.9586206896551724"
      ]
     },
     "execution_count": 609,
     "metadata": {},
     "output_type": "execute_result"
    }
   ],
   "source": [
    "#Another Machine Learning model, a Random Forest classifier with an UnderSampling.\n",
    "\n",
    "# Split the data into features and target\n",
    "X = df.drop('Variability', axis=1)[['mag_w_e_mean', 'mag_w_e_var', 'mag_w_e_skew', 'mag_w_e_kurt']]\n",
    "y = df['Variability']\n",
    "\n",
    "# Split the dataset into training and testing sets\n",
    "X0_train, X0_test, y0_train, y0_test = train_test_split(X, y, test_size=0.2, random_state=20, stratify = y)\n",
    "\n",
    "# Initialize the Random Forest Classifier\n",
    "rf_classifier0 = RandomForestClassifier(max_depth=3)\n",
    "\n",
    "# Train the model\n",
    "rf_classifier0.fit(X0_train, y0_train)\n",
    "\n",
    "# Make predictions on the test set\n",
    "y0_pred = rf_classifier0.predict(X0_test)\n",
    "\n",
    "# Evaluate the model\n",
    "accuracy_score(y0_pred,y0_test)"
   ]
  },
  {
   "cell_type": "code",
   "execution_count": 610,
   "id": "5ec70fd1-c086-46cc-9054-439388913bad",
   "metadata": {},
   "outputs": [
    {
     "data": {
      "image/png": "[encoded data removed]",
      "text/plain": [
       "<Figure size 640x480 with 2 Axes>"
      ]
     },
     "metadata": {},
     "output_type": "display_data"
    }
   ],
   "source": [
    "mc=confusion_matrix(y0_pred,y0_test)\n",
    "mc_norm = mc / np.linalg.norm(mc, axis=1, keepdims=True)\n",
    "sns.heatmap(pd.DataFrame(mc), cmap=sns.cm.rocket_r, annot=True, fmt='.5g');"
   ]
  },
  {
   "cell_type": "code",
   "execution_count": 611,
   "id": "27619129-819c-4ab0-8f9c-eadc2aa21619",
   "metadata": {},
   "outputs": [
    {
     "data": {
      "text/plain": [
       "0.9606698019683108"
      ]
     },
     "execution_count": 611,
     "metadata": {},
     "output_type": "execute_result"
    }
   ],
   "source": [
    "cross_val_score(rf_classifier0,X0_train,y0_train,cv=3,scoring='precision').mean()"
   ]
  },
  {
   "cell_type": "code",
   "execution_count": 612,
   "id": "ecdfcfbb-f8c8-44ee-9b0d-fc43f8c36844",
   "metadata": {},
   "outputs": [
    {
     "data": {
      "text/plain": [
       "0.9277777777777777"
      ]
     },
     "execution_count": 612,
     "metadata": {},
     "output_type": "execute_result"
    }
   ],
   "source": [
    "cross_val_score(rf_classifier0,X0_train,y0_train,cv=3,scoring='recall').mean()"
   ]
  },
  {
   "cell_type": "code",
   "execution_count": 613,
   "id": "56bd7f01-ebfd-4973-9db5-751d75359d13",
   "metadata": {},
   "outputs": [
    {
     "data": {
      "text/plain": [
       "0.951303149865358"
      ]
     },
     "execution_count": 613,
     "metadata": {},
     "output_type": "execute_result"
    }
   ],
   "source": [
    "cross_val_score(rf_classifier0,X0_train,y0_train,cv=3,scoring='f1').mean()"
   ]
  },
  {
   "cell_type": "code",
   "execution_count": 614,
   "id": "4a1756a4-5aa7-4d6d-a586-7b0b6047ee19",
   "metadata": {},
   "outputs": [
    {
     "data": {
      "text/plain": [
       "0.8666666666666667"
      ]
     },
     "execution_count": 614,
     "metadata": {},
     "output_type": "execute_result"
    }
   ],
   "source": [
    "#Precision score\n",
    "precision_score(y0_pred, y0_test)"
   ]
  },
  {
   "cell_type": "code",
   "execution_count": 615,
   "id": "d30a75bb-eba4-40c5-9ce5-7e3d2dbcb39b",
   "metadata": {},
   "outputs": [
    {
     "data": {
      "text/plain": [
       "0.9433962264150944"
      ]
     },
     "execution_count": 615,
     "metadata": {},
     "output_type": "execute_result"
    }
   ],
   "source": [
    "#Specificity score\n",
    "specificity_score(y0_pred,y0_test)"
   ]
  },
  {
   "cell_type": "code",
   "execution_count": 616,
   "id": "fbc59bf3-4af2-432f-870e-453c861c4d9e",
   "metadata": {},
   "outputs": [
    {
     "data": {
      "text/plain": [
       "0.9716981132075472"
      ]
     },
     "execution_count": 616,
     "metadata": {},
     "output_type": "execute_result"
    }
   ],
   "source": [
    "#ROC AUC score\n",
    "roc_auc_score(y0_pred,y0_test)"
   ]
  },
  {
   "cell_type": "code",
   "execution_count": 617,
   "id": "c921c111-6acb-4f51-9f99-2ca83add00fa",
   "metadata": {},
   "outputs": [
    {
     "data": {
      "text/plain": [
       "0.8666666666666667"
      ]
     },
     "execution_count": 617,
     "metadata": {},
     "output_type": "execute_result"
    }
   ],
   "source": [
    "#Recall score\n",
    "recall_score(y0_test, y0_pred) "
   ]
  },
  {
   "cell_type": "code",
   "execution_count": 618,
   "id": "51f308d2-4710-4dfa-a30e-3200bf4eda7b",
   "metadata": {},
   "outputs": [
    {
     "data": {
      "text/plain": [
       "0.9285714285714286"
      ]
     },
     "execution_count": 618,
     "metadata": {},
     "output_type": "execute_result"
    }
   ],
   "source": [
    "#F1 score\n",
    "f1_score(y0_test, y0_pred) "
   ]
  },
  {
   "cell_type": "code",
   "execution_count": 619,
   "id": "ecc3233f-c1fc-46a6-9beb-73392d7e6a2b",
   "metadata": {},
   "outputs": [
    {
     "name": "stdout",
     "output_type": "stream",
     "text": [
      "              precision    recall  f1-score   support\n",
      "\n",
      "           0       0.94      1.00      0.97       100\n",
      "           1       1.00      0.87      0.93        45\n",
      "\n",
      "    accuracy                           0.96       145\n",
      "   macro avg       0.97      0.93      0.95       145\n",
      "weighted avg       0.96      0.96      0.96       145\n",
      "\n"
     ]
    }
   ],
   "source": [
    "print(classification_report(y0_test,y0_pred))"
   ]
  },
  {
   "cell_type": "code",
   "execution_count": 620,
   "id": "ca045130-f77a-4f4b-87e1-f1f9dc051043",
   "metadata": {
    "scrolled": true
   },
   "outputs": [
    {
     "name": "stdout",
     "output_type": "stream",
     "text": [
      "1424R-140415.csv :Classified [0] with 9 observations\n",
      "1424V-140415.csv :Classified [0] with 9 observations\n",
      "------------------------------------------------- agn_1424 is variable whit a probability of: 0.0 %\n",
      "0521V-111215.csv :Classified [0] with 21 observations\n",
      "0521R-111215.csv :Classified [0] with 20 observations\n",
      "------------------------------------------------- agn_0521 is variable whit a probability of: 0.0 %\n",
      "1116R-130415.csv :Classified [0] with 15 observations\n",
      "1116R-140415.csv :Classified [0] with 12 observations\n",
      "1116V-130415.csv :Classified [1] with 15 observations\n",
      "1116V-140415.csv :Classified [1] with 12 observations\n",
      "------------------------------------------------- agn_1116 is variable whit a probability of: 50.0 %\n",
      "1229V-120415.csv :Classified [0] with 13 observations\n",
      "1229R-120415.csv :Classified [0] with 13 observations\n",
      "------------------------------------------------- agn_1229 is variable whit a probability of: 0.0 %\n",
      "1958V-230414.csv :Classified [0] with 11 observations\n",
      "1958R-240414.csv :Classified [0] with 10 observations\n",
      "1958V-240414.csv :Classified [0] with 10 observations\n",
      "1958R-230414.csv :Classified [0] with 11 observations\n",
      "------------------------------------------------- agn_1958 is variable whit a probability of: 0.0 %\n",
      "1510V-120415.csv :Classified [0] with 15 observations\n",
      "1510R-080519.csv :Classified [0] with 15 observations\n",
      "1510V-080519.csv :Classified [0] with 15 observations\n",
      "1510V-040419.csv :Classified [0] with 8 observations\n",
      "1510V-130415.csv :Classified [0] with 12 observations\n",
      "1510R-070519.csv :Classified [0] with 17 observations\n",
      "1510R-090519.csv :Classified [0] with 13 observations\n",
      "1510V-090519.csv :Classified [0] with 13 observations\n",
      "1510V-060419.csv :Classified [0] with 8 observations\n",
      "1510R-130415.csv :Classified [0] with 13 observations\n",
      "1510R-050419.csv :Classified [0] with 15 observations\n",
      "1510V-100519.csv :Classified [0] with 13 observations\n",
      "1510V-050419.csv :Classified [0] with 15 observations\n",
      "1510R-100519.csv :Classified [0] with 14 observations\n",
      "1510V-070519.csv :Classified [0] with 17 observations\n",
      "1510R-060419.csv :Classified [0] with 8 observations\n",
      "1510R-070419.csv :Classified [0] with 12 observations\n",
      "1510V-070419.csv :Classified [0] with 12 observations\n",
      "1510R-140415.csv :Classified [0] with 12 observations\n",
      "1510R-120415.csv :Classified [0] with 15 observations\n",
      "1510V-140415.csv :Classified [0] with 12 observations\n",
      "1510R-040419.csv :Classified [0] with 7 observations\n",
      "------------------------------------------------- agn_1510 is variable whit a probability of: 0.0 %\n",
      "1256R-230414.csv :Classified [0] with 7 observations\n",
      "1256V-230414.csv :Classified [0] with 7 observations\n",
      "------------------------------------------------- agn_1256 is variable whit a probability of: 0.0 %\n",
      "0208R-130815.csv :Classified [1] with 9 observations\n",
      "0208R-150915.csv :Classified [0] with 6 observations\n",
      "0208V-170915.csv :Classified [0] with 8 observations\n",
      "0208V-150915.csv :Classified [1] with 6 observations\n",
      "0208R-170915.csv :Classified [0] with 8 observations\n",
      "0208V-130815.csv :Classified [1] with 9 observations\n",
      "------------------------------------------------- agn_0208 is variable whit a probability of: 50.0 %\n",
      "2005R-250819.csv :Classified [0] with 25 observations\n",
      "2005R-100519.csv :Classified [0] with 8 observations\n",
      "2005R-240819.csv :Classified [0] with 26 observations\n",
      "2005V-230819.csv :Classified [0] with 21 observations\n",
      "2005R-230819.csv :Classified [0] with 22 observations\n",
      "2005R-010919.csv :Classified [0] with 22 observations\n",
      "2005R-260819.csv :Classified [0] with 26 observations\n",
      "2005V-010919.csv :Classified [0] with 22 observations\n",
      "2005V-120815.csv :Classified [0] with 24 observations\n",
      "2005R-020919.csv :Classified [0] with 23 observations\n",
      "2005R-030919.csv :Classified [0] with 24 observations\n",
      "2005V-090519.csv :Classified [0] with 7 observations\n",
      "2005V-030919.csv :Classified [0] with 24 observations\n",
      "2005R-310819.csv :Classified [0] with 22 observations\n",
      "2005V-310819.csv :Classified [0] with 22 observations\n",
      "2005V-100519.csv :Classified [0] with 8 observations\n",
      "2005V-260819.csv :Classified [0] with 26 observations\n",
      "2005R-120815.csv :Classified [0] with 25 observations\n",
      "2005V-250819.csv :Classified [0] with 24 observations\n",
      "2005R-090519.csv :Classified [0] with 7 observations\n",
      "2005V-020919.csv :Classified [0] with 23 observations\n",
      "2005V-240819.csv :Classified [0] with 26 observations\n",
      "------------------------------------------------- agn_2005 is variable whit a probability of: 0.0 %\n",
      "1917R-250414.csv :Classified [0] with 13 observations\n",
      "1917V-260414.csv :Classified [0] with 10 observations\n",
      "1917R-260414.csv :Classified [0] with 11 observations\n",
      "1917V-250414.csv :Classified [0] with 13 observations\n",
      "------------------------------------------------- agn_1917 is variable whit a probability of: 0.0 %\n",
      "2310V-170915.csv :Classified [0] with 11 observations\n",
      "2310R-170915.csv :Classified [0] with 11 observations\n",
      "------------------------------------------------- agn_2310 is variable whit a probability of: 0.0 %\n",
      "0847R-270414.csv :Classified [0] with 7 observations\n",
      "0847V-220414.csv :Classified [0] with 12 observations\n",
      "0847V-260414.csv :Classified [0] with 3 observations\n",
      "0847R-250414.csv :Classified [0] with 5 observations\n",
      "0847V-270414.csv :Classified [0] with 7 observations\n",
      "0847R-220414.csv :Classified [0] with 12 observations\n",
      "0847R-260414.csv :Classified [0] with 3 observations\n",
      "0847V-250414.csv :Classified [0] with 5 observations\n",
      "0847V-240414.csv :Classified [0] with 5 observations\n",
      "0847V-230414.csv :Classified [0] with 3 observations\n",
      "------------------------------------------------- agn_0847 is variable whit a probability of: 0.0 %\n",
      "1127V-100415.csv :Classified [0] with 15 observations\n",
      "1127R-120415.csv :Classified [0] with 9 observations\n",
      "1127R-100415.csv :Classified [0] with 15 observations\n",
      "1127V-120415.csv :Classified [0] with 9 observations\n",
      "------------------------------------------------- agn_1127 is variable whit a probability of: 0.0 %\n",
      "0414V-281116.csv :Classified [0] with 12 observations\n",
      "0414R-271116.csv :Classified [0] with 13 observations\n",
      "0414V-271116.csv :Classified [0] with 13 observations\n",
      "0414R-281116.csv :Classified [0] with 11 observations\n",
      "------------------------------------------------- agn_0414 is variable whit a probability of: 0.0 %\n",
      "1443V-250414.csv :Classified [0] with 25 observations\n",
      "1443R-270414.csv :Classified [0] with 14 observations\n",
      "1443V-240414.csv :Classified [0] with 43 observations\n",
      "1443R-250414.csv :Classified [0] with 25 observations\n",
      "1443R-240414.csv :Classified [0] with 43 observations\n",
      "1443V-270414.csv :Classified [0] with 15 observations\n",
      "------------------------------------------------- agn_1443 is variable whit a probability of: 0.0 %\n",
      "2149V-120815.csv :Classified [1] with 4 observations\n",
      "2149V-170915.csv :Classified [0] with 5 observations\n",
      "2149R-120815.csv :Classified [0] with 3 observations\n",
      "2149R-170915.csv :Classified [0] with 5 observations\n",
      "------------------------------------------------- agn_2149 is variable whit a probability of: 25.0 %\n",
      "2126R-170915.csv :Classified [0] with 12 observations\n",
      "2126V-170915.csv :Classified [0] with 12 observations\n",
      "2126R-150915.csv :Classified [0] with 14 observations\n",
      "2126V-150915.csv :Classified [0] with 14 observations\n",
      "------------------------------------------------- agn_2126 is variable whit a probability of: 0.0 %\n",
      "2155R-150915.csv :Classified [0] with 14 observations\n",
      "2155V-130815.csv :Classified [0] with 19 observations\n",
      "2155R-130815.csv :Classified [0] with 19 observations\n",
      "2155V-150915.csv :Classified [0] with 14 observations\n",
      "------------------------------------------------- agn_2155 is variable whit a probability of: 0.0 %\n"
     ]
    }
   ],
   "source": [
    "#we go through all the subdirectories corresponding to each AGN and in each one all the files with different observations and we make a classification for each observation.\n",
    "\n",
    "path = '/home/anakin/Documents/Tesis/Codigo/AGNs/' #path to main directory\n",
    "filelist = os.listdir(path)\n",
    "df_obs_err = []\n",
    "names1 = []\n",
    "observations = []\n",
    "k=0\n",
    "#Make empty list to store all paths to subdirectories in.\n",
    "path2 = []\n",
    "for x in filelist:\n",
    "    if x.startswith('agn'):\n",
    "        path2.append(path + x+ '/')\n",
    "\n",
    "for i in path2:\n",
    "    filelist2 = os.listdir(i)\n",
    "    c=0\n",
    "    p=0\n",
    "    for j in filelist2:\n",
    "        if j.endswith('.csv'):\n",
    "            file = pd.read_csv(i+j, dtype=np.float64, na_values='INDEF')\n",
    "            long= len(file['D1'])\n",
    "\n",
    "            err_features_obs = []\n",
    "\n",
    "            features_obs = dataframe_obs(file)[1]\n",
    "            \n",
    "            # Store the features \n",
    "            err_features_obs.append(features_obs)    \n",
    "                \n",
    "            # Convert lists to a DataFrame\n",
    "            features_df_var = pd.DataFrame(err_features_obs)\n",
    "\n",
    "            # Predict with the model\n",
    "            predicted = rf_classifier0.predict(features_df_var)\n",
    "    \n",
    "            print(j, ':Classified', predicted, 'with', long, 'observations')\n",
    "\n",
    "            c+=1\n",
    "            if predicted == 1:\n",
    "                \n",
    "                df_obs_err.append(features_obs)\n",
    "                names1.append(j)\n",
    "                observations.append(long)\n",
    "\n",
    "                p+=1\n",
    "                \n",
    "    prob = p/c*100\n",
    "\n",
    "    print('-------------------------------------------------',names_agns[k], 'is variable whit a probability of:', prob, '%')\n",
    "    k+=1\n",
    "\n",
    "# Convert lists to a DataFrame\n",
    "df_obs_err = pd.DataFrame(df_obs_err)\n",
    "df_obs_err['AGN_n_obs'] = names1\n",
    "df_obs_err['Observations'] = observations"
   ]
  },
  {
   "cell_type": "code",
   "execution_count": 621,
   "id": "bca9df9a-e6c7-4f90-89e5-084e4bb374c8",
   "metadata": {},
   "outputs": [
    {
     "data": {
      "text/html": [
       "<div>\n",
       "<style scoped>\n",
       "    .dataframe tbody tr th:only-of-type {\n",
       "        vertical-align: middle;\n",
       "    }\n",
       "\n",
       "    .dataframe tbody tr th {\n",
       "        vertical-align: top;\n",
       "    }\n",
       "\n",
       "    .dataframe thead th {\n",
       "        text-align: right;\n",
       "    }\n",
       "</style>\n",
       "<table border=\"1\" class=\"dataframe\">\n",
       "  <thead>\n",
       "    <tr style=\"text-align: right;\">\n",
       "      <th></th>\n",
       "      <th>mag_w_e_mean</th>\n",
       "      <th>mag_w_e_var</th>\n",
       "      <th>mag_w_e_skew</th>\n",
       "      <th>mag_w_e_kurt</th>\n",
       "      <th>AGN_n_obs</th>\n",
       "      <th>Observations</th>\n",
       "    </tr>\n",
       "  </thead>\n",
       "  <tbody>\n",
       "    <tr>\n",
       "      <th>0</th>\n",
       "      <td>0.112933</td>\n",
       "      <td>0.000857</td>\n",
       "      <td>0.050781</td>\n",
       "      <td>-1.129494</td>\n",
       "      <td>1116V-130415.csv</td>\n",
       "      <td>15</td>\n",
       "    </tr>\n",
       "    <tr>\n",
       "      <th>1</th>\n",
       "      <td>0.227833</td>\n",
       "      <td>0.001494</td>\n",
       "      <td>0.611344</td>\n",
       "      <td>-1.191094</td>\n",
       "      <td>1116V-140415.csv</td>\n",
       "      <td>12</td>\n",
       "    </tr>\n",
       "    <tr>\n",
       "      <th>2</th>\n",
       "      <td>0.855000</td>\n",
       "      <td>0.001063</td>\n",
       "      <td>0.065795</td>\n",
       "      <td>-1.326321</td>\n",
       "      <td>0208R-130815.csv</td>\n",
       "      <td>9</td>\n",
       "    </tr>\n",
       "    <tr>\n",
       "      <th>3</th>\n",
       "      <td>1.327667</td>\n",
       "      <td>0.002670</td>\n",
       "      <td>0.494768</td>\n",
       "      <td>-1.370405</td>\n",
       "      <td>0208V-150915.csv</td>\n",
       "      <td>6</td>\n",
       "    </tr>\n",
       "    <tr>\n",
       "      <th>4</th>\n",
       "      <td>0.685889</td>\n",
       "      <td>0.000977</td>\n",
       "      <td>-0.312898</td>\n",
       "      <td>-1.128564</td>\n",
       "      <td>0208V-130815.csv</td>\n",
       "      <td>9</td>\n",
       "    </tr>\n",
       "    <tr>\n",
       "      <th>5</th>\n",
       "      <td>0.687000</td>\n",
       "      <td>0.001165</td>\n",
       "      <td>0.488886</td>\n",
       "      <td>-1.020814</td>\n",
       "      <td>2149V-120815.csv</td>\n",
       "      <td>4</td>\n",
       "    </tr>\n",
       "  </tbody>\n",
       "</table>\n",
       "</div>"
      ],
      "text/plain": [
       "   mag_w_e_mean  mag_w_e_var  mag_w_e_skew  mag_w_e_kurt         AGN_n_obs  \\\n",
       "0      0.112933     0.000857      0.050781     -1.129494  1116V-130415.csv   \n",
       "1      0.227833     0.001494      0.611344     -1.191094  1116V-140415.csv   \n",
       "2      0.855000     0.001063      0.065795     -1.326321  0208R-130815.csv   \n",
       "3      1.327667     0.002670      0.494768     -1.370405  0208V-150915.csv   \n",
       "4      0.685889     0.000977     -0.312898     -1.128564  0208V-130815.csv   \n",
       "5      0.687000     0.001165      0.488886     -1.020814  2149V-120815.csv   \n",
       "\n",
       "   Observations  \n",
       "0            15  \n",
       "1            12  \n",
       "2             9  \n",
       "3             6  \n",
       "4             9  \n",
       "5             4  "
      ]
     },
     "execution_count": 621,
     "metadata": {},
     "output_type": "execute_result"
    }
   ],
   "source": [
    "df_obs_err"
   ]
  },
  {
   "cell_type": "code",
   "execution_count": 622,
   "id": "dedf070c-d010-4e99-89e1-d45ada9eb3b0",
   "metadata": {},
   "outputs": [
    {
     "data": {
      "text/html": [
       "<div>\n",
       "<style scoped>\n",
       "    .dataframe tbody tr th:only-of-type {\n",
       "        vertical-align: middle;\n",
       "    }\n",
       "\n",
       "    .dataframe tbody tr th {\n",
       "        vertical-align: top;\n",
       "    }\n",
       "\n",
       "    .dataframe thead th {\n",
       "        text-align: right;\n",
       "    }\n",
       "</style>\n",
       "<table border=\"1\" class=\"dataframe\">\n",
       "  <thead>\n",
       "    <tr style=\"text-align: right;\">\n",
       "      <th></th>\n",
       "      <th>mag_mean</th>\n",
       "      <th>mag_var</th>\n",
       "      <th>mag_skew</th>\n",
       "      <th>mag_kurt</th>\n",
       "      <th>AGN_n_obs</th>\n",
       "      <th>Observations</th>\n",
       "    </tr>\n",
       "  </thead>\n",
       "  <tbody>\n",
       "    <tr>\n",
       "      <th>0</th>\n",
       "      <td>0.040444</td>\n",
       "      <td>0.000665</td>\n",
       "      <td>0.501270</td>\n",
       "      <td>-0.884148</td>\n",
       "      <td>1424V-140415.csv</td>\n",
       "      <td>9</td>\n",
       "    </tr>\n",
       "    <tr>\n",
       "      <th>1</th>\n",
       "      <td>0.112933</td>\n",
       "      <td>0.000857</td>\n",
       "      <td>0.050781</td>\n",
       "      <td>-1.129494</td>\n",
       "      <td>1116V-130415.csv</td>\n",
       "      <td>15</td>\n",
       "    </tr>\n",
       "    <tr>\n",
       "      <th>2</th>\n",
       "      <td>0.227833</td>\n",
       "      <td>0.001494</td>\n",
       "      <td>0.611344</td>\n",
       "      <td>-1.191094</td>\n",
       "      <td>1116V-140415.csv</td>\n",
       "      <td>12</td>\n",
       "    </tr>\n",
       "    <tr>\n",
       "      <th>3</th>\n",
       "      <td>0.482750</td>\n",
       "      <td>0.003018</td>\n",
       "      <td>1.471751</td>\n",
       "      <td>1.302412</td>\n",
       "      <td>1510V-040419.csv</td>\n",
       "      <td>8</td>\n",
       "    </tr>\n",
       "    <tr>\n",
       "      <th>4</th>\n",
       "      <td>0.855000</td>\n",
       "      <td>0.001063</td>\n",
       "      <td>0.065795</td>\n",
       "      <td>-1.326321</td>\n",
       "      <td>0208R-130815.csv</td>\n",
       "      <td>9</td>\n",
       "    </tr>\n",
       "    <tr>\n",
       "      <th>5</th>\n",
       "      <td>1.327667</td>\n",
       "      <td>0.002670</td>\n",
       "      <td>0.494768</td>\n",
       "      <td>-1.370405</td>\n",
       "      <td>0208V-150915.csv</td>\n",
       "      <td>6</td>\n",
       "    </tr>\n",
       "    <tr>\n",
       "      <th>6</th>\n",
       "      <td>0.685889</td>\n",
       "      <td>0.000977</td>\n",
       "      <td>-0.312898</td>\n",
       "      <td>-1.128564</td>\n",
       "      <td>0208V-130815.csv</td>\n",
       "      <td>9</td>\n",
       "    </tr>\n",
       "    <tr>\n",
       "      <th>7</th>\n",
       "      <td>0.687000</td>\n",
       "      <td>0.001165</td>\n",
       "      <td>0.488886</td>\n",
       "      <td>-1.020814</td>\n",
       "      <td>2149V-120815.csv</td>\n",
       "      <td>4</td>\n",
       "    </tr>\n",
       "    <tr>\n",
       "      <th>8</th>\n",
       "      <td>0.678071</td>\n",
       "      <td>0.000681</td>\n",
       "      <td>0.542535</td>\n",
       "      <td>-0.866700</td>\n",
       "      <td>2155V-150915.csv</td>\n",
       "      <td>14</td>\n",
       "    </tr>\n",
       "  </tbody>\n",
       "</table>\n",
       "</div>"
      ],
      "text/plain": [
       "   mag_mean   mag_var  mag_skew  mag_kurt         AGN_n_obs  Observations\n",
       "0  0.040444  0.000665  0.501270 -0.884148  1424V-140415.csv             9\n",
       "1  0.112933  0.000857  0.050781 -1.129494  1116V-130415.csv            15\n",
       "2  0.227833  0.001494  0.611344 -1.191094  1116V-140415.csv            12\n",
       "3  0.482750  0.003018  1.471751  1.302412  1510V-040419.csv             8\n",
       "4  0.855000  0.001063  0.065795 -1.326321  0208R-130815.csv             9\n",
       "5  1.327667  0.002670  0.494768 -1.370405  0208V-150915.csv             6\n",
       "6  0.685889  0.000977 -0.312898 -1.128564  0208V-130815.csv             9\n",
       "7  0.687000  0.001165  0.488886 -1.020814  2149V-120815.csv             4\n",
       "8  0.678071  0.000681  0.542535 -0.866700  2155V-150915.csv            14"
      ]
     },
     "execution_count": 622,
     "metadata": {},
     "output_type": "execute_result"
    }
   ],
   "source": [
    "df_obs"
   ]
  },
  {
   "cell_type": "markdown",
   "id": "e6802a7a-1e09-4af5-8d71-29f12d5d5181",
   "metadata": {},
   "source": [
    "### Now we perform a model to classify periodics AGNs."
   ]
  },
  {
   "cell_type": "code",
   "execution_count": 623,
   "id": "6911441e-f44d-41bb-8a2d-9a40276a20be",
   "metadata": {},
   "outputs": [],
   "source": [
    "#Create an save the dataframe \n",
    "\n",
    "def dataframe1(df, N, p, star, err_star, c, x, a): # p is the value of the target variable. 1 for variable AGNs and 0 for non-viarable AGNs\n",
    "                               # df and star must have the same subindex\n",
    "\n",
    "    for i in range(N): # N: number of AGNs in the dataset\n",
    "        p = 0\n",
    "        agn_a = agns(df)[c]\n",
    "        agn = agn_a[i]\n",
    "\n",
    "        err_a = agns(df)[x]\n",
    "        err_agn = err_a[i]\n",
    "\n",
    "        #Calculates the calibrated magnitude of the AGN\n",
    "        mag = calibration(agn, star, err_agn, err_star)[0]\n",
    "        err_mag = calibration(agn, star, err_agn, err_star)[1]\n",
    "\n",
    "        rng = np.random.default_rng()\n",
    "        t = rng.uniform(0, 2, N)\n",
    "\n",
    "        if t[i] <= 1:\n",
    "\n",
    "            mag_w_err = mag + err_mag\n",
    "\n",
    "        else:\n",
    "\n",
    "            mag_w_err = mag - err_mag\n",
    "        \n",
    "        # Extract features from the time series data\n",
    "        features = extract_features(mag, mag_w_err)\n",
    "        \n",
    "        # Store the features and the target variable\n",
    "        data_features.append(features)\n",
    "\n",
    "        if i == 3 and a == 3:\n",
    "\n",
    "            p = 1\n",
    "        \n",
    "        if p == 1:\n",
    "            \n",
    "            Periodicity.append(1)\n",
    "        else:\n",
    "            \n",
    "            Periodicity.append(0)\n",
    "\n",
    "    return data_features"
   ]
  },
  {
   "cell_type": "code",
   "execution_count": 624,
   "id": "04322b90-3cee-44f4-be56-4048db244c2b",
   "metadata": {},
   "outputs": [],
   "source": [
    "#First whit the non-periodic AGNs\n",
    "\n",
    "data_features = []\n",
    "Periodicity = []\n",
    "\n",
    "for i in range(len(dff)):\n",
    "\n",
    "    dt = dff[i]\n",
    "    star = agns(dt)[2]\n",
    "    err_star = agns(dt)[3]\n",
    "    data_features = dataframe1(dt, 200, 0, star, err_star, 0, 1, 0)\n",
    "\n",
    "    # Convert lists to a DataFrame\n",
    "    features_df1 = pd.DataFrame(data_features)\n",
    "    features_df1['Periodicity'] = Periodicity       \n",
    "\n",
    " # Save the DataFrame to a CSV file\n",
    "#features_df.to_csv('simulated_time_series_data_agns.csv', index=False)"
   ]
  },
  {
   "cell_type": "code",
   "execution_count": 625,
   "id": "3efb7a62-a7d3-45af-a545-43f523ca774d",
   "metadata": {},
   "outputs": [],
   "source": [
    "#Then with the periodics AGNs\n",
    "\n",
    "for i in range(len(dff)):\n",
    "\n",
    "    dt = dff[i]\n",
    "    star = agns(dt)[2]\n",
    "    err_star = agns(dt)[3]\n",
    "    data_features = dataframe1(dt, 9, 0, star, err_star, 4, 5, 3)\n",
    "\n",
    "    # Convert lists to a DataFrame\n",
    "    features_df1 = pd.DataFrame(data_features)\n",
    "    features_df1['Periodicity'] = Periodicity       \n"
   ]
  },
  {
   "cell_type": "code",
   "execution_count": 626,
   "id": "56f5efa8-2ed1-4c3c-aab3-a003821db6e3",
   "metadata": {},
   "outputs": [
    {
     "data": {
      "text/html": [
       "<div>\n",
       "<style scoped>\n",
       "    .dataframe tbody tr th:only-of-type {\n",
       "        vertical-align: middle;\n",
       "    }\n",
       "\n",
       "    .dataframe tbody tr th {\n",
       "        vertical-align: top;\n",
       "    }\n",
       "\n",
       "    .dataframe thead th {\n",
       "        text-align: right;\n",
       "    }\n",
       "</style>\n",
       "<table border=\"1\" class=\"dataframe\">\n",
       "  <thead>\n",
       "    <tr style=\"text-align: right;\">\n",
       "      <th></th>\n",
       "      <th>mag_mean</th>\n",
       "      <th>mag_var</th>\n",
       "      <th>mag_skew</th>\n",
       "      <th>mag_kurt</th>\n",
       "      <th>mag_w_e_mean</th>\n",
       "      <th>mag_w_e_var</th>\n",
       "      <th>mag_w_e_skew</th>\n",
       "      <th>mag_w_e_kurt</th>\n",
       "      <th>Periodicity</th>\n",
       "    </tr>\n",
       "  </thead>\n",
       "  <tbody>\n",
       "    <tr>\n",
       "      <th>0</th>\n",
       "      <td>0.010450</td>\n",
       "      <td>0.000020</td>\n",
       "      <td>-0.233428</td>\n",
       "      <td>-0.543255</td>\n",
       "      <td>0.016450</td>\n",
       "      <td>0.000020</td>\n",
       "      <td>-0.233428</td>\n",
       "      <td>-0.543255</td>\n",
       "      <td>0</td>\n",
       "    </tr>\n",
       "    <tr>\n",
       "      <th>1</th>\n",
       "      <td>-0.014100</td>\n",
       "      <td>0.000017</td>\n",
       "      <td>-0.209839</td>\n",
       "      <td>0.418627</td>\n",
       "      <td>-0.008100</td>\n",
       "      <td>0.000017</td>\n",
       "      <td>-0.209839</td>\n",
       "      <td>0.418627</td>\n",
       "      <td>0</td>\n",
       "    </tr>\n",
       "    <tr>\n",
       "      <th>2</th>\n",
       "      <td>-0.009125</td>\n",
       "      <td>0.000016</td>\n",
       "      <td>0.335852</td>\n",
       "      <td>-0.078736</td>\n",
       "      <td>-0.003125</td>\n",
       "      <td>0.000016</td>\n",
       "      <td>0.335852</td>\n",
       "      <td>-0.078736</td>\n",
       "      <td>0</td>\n",
       "    </tr>\n",
       "    <tr>\n",
       "      <th>3</th>\n",
       "      <td>-0.004100</td>\n",
       "      <td>0.000017</td>\n",
       "      <td>-0.199723</td>\n",
       "      <td>-0.703788</td>\n",
       "      <td>-0.010100</td>\n",
       "      <td>0.000017</td>\n",
       "      <td>-0.199723</td>\n",
       "      <td>-0.703788</td>\n",
       "      <td>0</td>\n",
       "    </tr>\n",
       "    <tr>\n",
       "      <th>4</th>\n",
       "      <td>0.000325</td>\n",
       "      <td>0.000013</td>\n",
       "      <td>-0.097803</td>\n",
       "      <td>-0.743768</td>\n",
       "      <td>-0.005675</td>\n",
       "      <td>0.000013</td>\n",
       "      <td>-0.097803</td>\n",
       "      <td>-0.743768</td>\n",
       "      <td>0</td>\n",
       "    </tr>\n",
       "    <tr>\n",
       "      <th>...</th>\n",
       "      <td>...</td>\n",
       "      <td>...</td>\n",
       "      <td>...</td>\n",
       "      <td>...</td>\n",
       "      <td>...</td>\n",
       "      <td>...</td>\n",
       "      <td>...</td>\n",
       "      <td>...</td>\n",
       "      <td>...</td>\n",
       "    </tr>\n",
       "    <tr>\n",
       "      <th>5220</th>\n",
       "      <td>0.013825</td>\n",
       "      <td>0.006252</td>\n",
       "      <td>-0.131830</td>\n",
       "      <td>-1.091343</td>\n",
       "      <td>-0.002375</td>\n",
       "      <td>0.006280</td>\n",
       "      <td>-0.118861</td>\n",
       "      <td>-1.075591</td>\n",
       "      <td>0</td>\n",
       "    </tr>\n",
       "    <tr>\n",
       "      <th>5221</th>\n",
       "      <td>-0.012100</td>\n",
       "      <td>0.004425</td>\n",
       "      <td>-0.281331</td>\n",
       "      <td>-1.361673</td>\n",
       "      <td>-0.028300</td>\n",
       "      <td>0.004399</td>\n",
       "      <td>-0.264609</td>\n",
       "      <td>-1.367214</td>\n",
       "      <td>0</td>\n",
       "    </tr>\n",
       "    <tr>\n",
       "      <th>5222</th>\n",
       "      <td>0.011225</td>\n",
       "      <td>0.001518</td>\n",
       "      <td>-0.197547</td>\n",
       "      <td>0.424307</td>\n",
       "      <td>0.026825</td>\n",
       "      <td>0.001507</td>\n",
       "      <td>-0.204807</td>\n",
       "      <td>0.346040</td>\n",
       "      <td>0</td>\n",
       "    </tr>\n",
       "    <tr>\n",
       "      <th>5223</th>\n",
       "      <td>-0.015050</td>\n",
       "      <td>0.001099</td>\n",
       "      <td>-0.067906</td>\n",
       "      <td>-1.155384</td>\n",
       "      <td>0.000550</td>\n",
       "      <td>0.001114</td>\n",
       "      <td>-0.062016</td>\n",
       "      <td>-1.168911</td>\n",
       "      <td>0</td>\n",
       "    </tr>\n",
       "    <tr>\n",
       "      <th>5224</th>\n",
       "      <td>-0.008750</td>\n",
       "      <td>0.000337</td>\n",
       "      <td>-0.102621</td>\n",
       "      <td>-0.517691</td>\n",
       "      <td>-0.024175</td>\n",
       "      <td>0.000335</td>\n",
       "      <td>0.066657</td>\n",
       "      <td>-0.337464</td>\n",
       "      <td>0</td>\n",
       "    </tr>\n",
       "  </tbody>\n",
       "</table>\n",
       "<p>5225 rows × 9 columns</p>\n",
       "</div>"
      ],
      "text/plain": [
       "      mag_mean   mag_var  mag_skew  mag_kurt  mag_w_e_mean  mag_w_e_var  \\\n",
       "0     0.010450  0.000020 -0.233428 -0.543255      0.016450     0.000020   \n",
       "1    -0.014100  0.000017 -0.209839  0.418627     -0.008100     0.000017   \n",
       "2    -0.009125  0.000016  0.335852 -0.078736     -0.003125     0.000016   \n",
       "3    -0.004100  0.000017 -0.199723 -0.703788     -0.010100     0.000017   \n",
       "4     0.000325  0.000013 -0.097803 -0.743768     -0.005675     0.000013   \n",
       "...        ...       ...       ...       ...           ...          ...   \n",
       "5220  0.013825  0.006252 -0.131830 -1.091343     -0.002375     0.006280   \n",
       "5221 -0.012100  0.004425 -0.281331 -1.361673     -0.028300     0.004399   \n",
       "5222  0.011225  0.001518 -0.197547  0.424307      0.026825     0.001507   \n",
       "5223 -0.015050  0.001099 -0.067906 -1.155384      0.000550     0.001114   \n",
       "5224 -0.008750  0.000337 -0.102621 -0.517691     -0.024175     0.000335   \n",
       "\n",
       "      mag_w_e_skew  mag_w_e_kurt  Periodicity  \n",
       "0        -0.233428     -0.543255            0  \n",
       "1        -0.209839      0.418627            0  \n",
       "2         0.335852     -0.078736            0  \n",
       "3        -0.199723     -0.703788            0  \n",
       "4        -0.097803     -0.743768            0  \n",
       "...            ...           ...          ...  \n",
       "5220     -0.118861     -1.075591            0  \n",
       "5221     -0.264609     -1.367214            0  \n",
       "5222     -0.204807      0.346040            0  \n",
       "5223     -0.062016     -1.168911            0  \n",
       "5224      0.066657     -0.337464            0  \n",
       "\n",
       "[5225 rows x 9 columns]"
      ]
     },
     "execution_count": 626,
     "metadata": {},
     "output_type": "execute_result"
    }
   ],
   "source": [
    "features_df1"
   ]
  },
  {
   "cell_type": "code",
   "execution_count": 627,
   "id": "1d4eb3cc-793e-41ab-bb64-d55079027afc",
   "metadata": {},
   "outputs": [
    {
     "data": {
      "text/plain": [
       "mag_mean        0\n",
       "mag_var         0\n",
       "mag_skew        0\n",
       "mag_kurt        0\n",
       "mag_w_e_mean    0\n",
       "mag_w_e_var     0\n",
       "mag_w_e_skew    0\n",
       "mag_w_e_kurt    0\n",
       "Periodicity     0\n",
       "dtype: int64"
      ]
     },
     "execution_count": 627,
     "metadata": {},
     "output_type": "execute_result"
    }
   ],
   "source": [
    "features_df1.isna().sum()"
   ]
  },
  {
   "cell_type": "code",
   "execution_count": 628,
   "id": "99bb487f-b7bb-4295-8bcf-bbcdf694d2d1",
   "metadata": {},
   "outputs": [],
   "source": [
    "features_df1.fillna(0, inplace=True)\n",
    "features_df1.dropna(inplace=True)"
   ]
  },
  {
   "cell_type": "code",
   "execution_count": 629,
   "id": "1a8efba7-4d38-42b3-a0c8-b02bc0f80efe",
   "metadata": {},
   "outputs": [
    {
     "data": {
      "text/html": [
       "<div>\n",
       "<style scoped>\n",
       "    .dataframe tbody tr th:only-of-type {\n",
       "        vertical-align: middle;\n",
       "    }\n",
       "\n",
       "    .dataframe tbody tr th {\n",
       "        vertical-align: top;\n",
       "    }\n",
       "\n",
       "    .dataframe thead th {\n",
       "        text-align: right;\n",
       "    }\n",
       "</style>\n",
       "<table border=\"1\" class=\"dataframe\">\n",
       "  <thead>\n",
       "    <tr style=\"text-align: right;\">\n",
       "      <th></th>\n",
       "      <th>mag_mean</th>\n",
       "      <th>mag_var</th>\n",
       "      <th>mag_skew</th>\n",
       "      <th>mag_kurt</th>\n",
       "      <th>mag_w_e_mean</th>\n",
       "      <th>mag_w_e_var</th>\n",
       "      <th>mag_w_e_skew</th>\n",
       "      <th>mag_w_e_kurt</th>\n",
       "      <th>Periodicity</th>\n",
       "    </tr>\n",
       "  </thead>\n",
       "  <tbody>\n",
       "    <tr>\n",
       "      <th>mag_mean</th>\n",
       "      <td>1.000000</td>\n",
       "      <td>-0.041650</td>\n",
       "      <td>0.026497</td>\n",
       "      <td>0.028460</td>\n",
       "      <td>0.910781</td>\n",
       "      <td>-0.039082</td>\n",
       "      <td>0.028845</td>\n",
       "      <td>0.023847</td>\n",
       "      <td>-0.036430</td>\n",
       "    </tr>\n",
       "    <tr>\n",
       "      <th>mag_var</th>\n",
       "      <td>-0.041650</td>\n",
       "      <td>1.000000</td>\n",
       "      <td>-0.059936</td>\n",
       "      <td>-0.158785</td>\n",
       "      <td>-0.030039</td>\n",
       "      <td>0.998985</td>\n",
       "      <td>-0.050287</td>\n",
       "      <td>-0.157935</td>\n",
       "      <td>0.075249</td>\n",
       "    </tr>\n",
       "    <tr>\n",
       "      <th>mag_skew</th>\n",
       "      <td>0.026497</td>\n",
       "      <td>-0.059936</td>\n",
       "      <td>1.000000</td>\n",
       "      <td>0.043838</td>\n",
       "      <td>0.020145</td>\n",
       "      <td>-0.062039</td>\n",
       "      <td>0.810011</td>\n",
       "      <td>0.045328</td>\n",
       "      <td>-0.094154</td>\n",
       "    </tr>\n",
       "    <tr>\n",
       "      <th>mag_kurt</th>\n",
       "      <td>0.028460</td>\n",
       "      <td>-0.158785</td>\n",
       "      <td>0.043838</td>\n",
       "      <td>1.000000</td>\n",
       "      <td>0.029342</td>\n",
       "      <td>-0.151845</td>\n",
       "      <td>0.040291</td>\n",
       "      <td>0.899463</td>\n",
       "      <td>-0.077549</td>\n",
       "    </tr>\n",
       "    <tr>\n",
       "      <th>mag_w_e_mean</th>\n",
       "      <td>0.910781</td>\n",
       "      <td>-0.030039</td>\n",
       "      <td>0.020145</td>\n",
       "      <td>0.029342</td>\n",
       "      <td>1.000000</td>\n",
       "      <td>-0.029199</td>\n",
       "      <td>0.175991</td>\n",
       "      <td>0.028064</td>\n",
       "      <td>-0.033614</td>\n",
       "    </tr>\n",
       "    <tr>\n",
       "      <th>mag_w_e_var</th>\n",
       "      <td>-0.039082</td>\n",
       "      <td>0.998985</td>\n",
       "      <td>-0.062039</td>\n",
       "      <td>-0.151845</td>\n",
       "      <td>-0.029199</td>\n",
       "      <td>1.000000</td>\n",
       "      <td>-0.052638</td>\n",
       "      <td>-0.151136</td>\n",
       "      <td>0.074458</td>\n",
       "    </tr>\n",
       "    <tr>\n",
       "      <th>mag_w_e_skew</th>\n",
       "      <td>0.028845</td>\n",
       "      <td>-0.050287</td>\n",
       "      <td>0.810011</td>\n",
       "      <td>0.040291</td>\n",
       "      <td>0.175991</td>\n",
       "      <td>-0.052638</td>\n",
       "      <td>1.000000</td>\n",
       "      <td>0.052770</td>\n",
       "      <td>-0.083796</td>\n",
       "    </tr>\n",
       "    <tr>\n",
       "      <th>mag_w_e_kurt</th>\n",
       "      <td>0.023847</td>\n",
       "      <td>-0.157935</td>\n",
       "      <td>0.045328</td>\n",
       "      <td>0.899463</td>\n",
       "      <td>0.028064</td>\n",
       "      <td>-0.151136</td>\n",
       "      <td>0.052770</td>\n",
       "      <td>1.000000</td>\n",
       "      <td>-0.076554</td>\n",
       "    </tr>\n",
       "    <tr>\n",
       "      <th>Periodicity</th>\n",
       "      <td>-0.036430</td>\n",
       "      <td>0.075249</td>\n",
       "      <td>-0.094154</td>\n",
       "      <td>-0.077549</td>\n",
       "      <td>-0.033614</td>\n",
       "      <td>0.074458</td>\n",
       "      <td>-0.083796</td>\n",
       "      <td>-0.076554</td>\n",
       "      <td>1.000000</td>\n",
       "    </tr>\n",
       "  </tbody>\n",
       "</table>\n",
       "</div>"
      ],
      "text/plain": [
       "              mag_mean   mag_var  mag_skew  mag_kurt  mag_w_e_mean  \\\n",
       "mag_mean      1.000000 -0.041650  0.026497  0.028460      0.910781   \n",
       "mag_var      -0.041650  1.000000 -0.059936 -0.158785     -0.030039   \n",
       "mag_skew      0.026497 -0.059936  1.000000  0.043838      0.020145   \n",
       "mag_kurt      0.028460 -0.158785  0.043838  1.000000      0.029342   \n",
       "mag_w_e_mean  0.910781 -0.030039  0.020145  0.029342      1.000000   \n",
       "mag_w_e_var  -0.039082  0.998985 -0.062039 -0.151845     -0.029199   \n",
       "mag_w_e_skew  0.028845 -0.050287  0.810011  0.040291      0.175991   \n",
       "mag_w_e_kurt  0.023847 -0.157935  0.045328  0.899463      0.028064   \n",
       "Periodicity  -0.036430  0.075249 -0.094154 -0.077549     -0.033614   \n",
       "\n",
       "              mag_w_e_var  mag_w_e_skew  mag_w_e_kurt  Periodicity  \n",
       "mag_mean        -0.039082      0.028845      0.023847    -0.036430  \n",
       "mag_var          0.998985     -0.050287     -0.157935     0.075249  \n",
       "mag_skew        -0.062039      0.810011      0.045328    -0.094154  \n",
       "mag_kurt        -0.151845      0.040291      0.899463    -0.077549  \n",
       "mag_w_e_mean    -0.029199      0.175991      0.028064    -0.033614  \n",
       "mag_w_e_var      1.000000     -0.052638     -0.151136     0.074458  \n",
       "mag_w_e_skew    -0.052638      1.000000      0.052770    -0.083796  \n",
       "mag_w_e_kurt    -0.151136      0.052770      1.000000    -0.076554  \n",
       "Periodicity      0.074458     -0.083796     -0.076554     1.000000  "
      ]
     },
     "execution_count": 629,
     "metadata": {},
     "output_type": "execute_result"
    }
   ],
   "source": [
    "features_df1.corr()"
   ]
  },
  {
   "cell_type": "code",
   "execution_count": 630,
   "id": "be5578cb-4129-4166-b065-d4662c3ccd21",
   "metadata": {},
   "outputs": [
    {
     "data": {
      "image/png": "[encoded data removed]",
      "text/plain": [
       "<Figure size 640x480 with 1 Axes>"
      ]
     },
     "metadata": {},
     "output_type": "display_data"
    }
   ],
   "source": [
    "pie_x, pie_y = np.unique(features_df1['Periodicity'], return_counts=True)\n",
    "plt.pie(pie_y, labels=pie_x, autopct = '%1.1f%%') \n",
    "plt.title('AGNs Periodicity Rate')\n",
    "plt.show()"
   ]
  },
  {
   "cell_type": "markdown",
   "id": "535e4621-436c-47f6-9c3e-5ad9212ada7d",
   "metadata": {},
   "source": [
    "#### This dataset is very unbalanced."
   ]
  },
  {
   "cell_type": "code",
   "execution_count": 631,
   "id": "9584ec71-4822-4aad-9116-f953ea790353",
   "metadata": {},
   "outputs": [
    {
     "data": {
      "image/png": "[encoded data removed]",
      "text/plain": [
       "<Figure size 1200x800 with 2 Axes>"
      ]
     },
     "metadata": {},
     "output_type": "display_data"
    }
   ],
   "source": [
    "#Perform a correlation matrix to see how the data are related.\n",
    "\n",
    "plt.figure(figsize=(12,8))\n",
    "sns.heatmap(features_df1.corr(), annot=True)\n",
    "plt.show()"
   ]
  },
  {
   "cell_type": "code",
   "execution_count": 632,
   "id": "80d3ef75-f3ac-4a44-b581-b348412c84ba",
   "metadata": {},
   "outputs": [
    {
     "data": {
      "text/plain": [
       "Periodicity\n",
       "0    5200\n",
       "1      25\n",
       "Name: count, dtype: int64"
      ]
     },
     "execution_count": 632,
     "metadata": {},
     "output_type": "execute_result"
    }
   ],
   "source": [
    "features_df1['Periodicity'].value_counts()"
   ]
  },
  {
   "cell_type": "code",
   "execution_count": 633,
   "id": "88a45ac4-2184-4291-a96c-d8a7fb711152",
   "metadata": {},
   "outputs": [],
   "source": [
    "df_2 = features_df1[features_df1['Periodicity'] == 0 ].sample(n=100)"
   ]
  },
  {
   "cell_type": "code",
   "execution_count": 634,
   "id": "8ee6b355-2f68-4404-a54a-8187e2fa2bde",
   "metadata": {},
   "outputs": [
    {
     "data": {
      "text/html": [
       "<div>\n",
       "<style scoped>\n",
       "    .dataframe tbody tr th:only-of-type {\n",
       "        vertical-align: middle;\n",
       "    }\n",
       "\n",
       "    .dataframe tbody tr th {\n",
       "        vertical-align: top;\n",
       "    }\n",
       "\n",
       "    .dataframe thead th {\n",
       "        text-align: right;\n",
       "    }\n",
       "</style>\n",
       "<table border=\"1\" class=\"dataframe\">\n",
       "  <thead>\n",
       "    <tr style=\"text-align: right;\">\n",
       "      <th></th>\n",
       "      <th>mag_mean</th>\n",
       "      <th>mag_var</th>\n",
       "      <th>mag_skew</th>\n",
       "      <th>mag_kurt</th>\n",
       "      <th>mag_w_e_mean</th>\n",
       "      <th>mag_w_e_var</th>\n",
       "      <th>mag_w_e_skew</th>\n",
       "      <th>mag_w_e_kurt</th>\n",
       "      <th>Periodicity</th>\n",
       "    </tr>\n",
       "  </thead>\n",
       "  <tbody>\n",
       "    <tr>\n",
       "      <th>1170</th>\n",
       "      <td>-0.010900</td>\n",
       "      <td>0.000033</td>\n",
       "      <td>0.206836</td>\n",
       "      <td>-0.428178</td>\n",
       "      <td>-0.000900</td>\n",
       "      <td>0.000033</td>\n",
       "      <td>0.206836</td>\n",
       "      <td>-0.428178</td>\n",
       "      <td>0</td>\n",
       "    </tr>\n",
       "    <tr>\n",
       "      <th>2592</th>\n",
       "      <td>0.102250</td>\n",
       "      <td>0.000119</td>\n",
       "      <td>0.670614</td>\n",
       "      <td>0.905965</td>\n",
       "      <td>0.114975</td>\n",
       "      <td>0.000126</td>\n",
       "      <td>0.687224</td>\n",
       "      <td>0.869170</td>\n",
       "      <td>0</td>\n",
       "    </tr>\n",
       "    <tr>\n",
       "      <th>1510</th>\n",
       "      <td>-0.007825</td>\n",
       "      <td>0.000045</td>\n",
       "      <td>0.226758</td>\n",
       "      <td>0.330818</td>\n",
       "      <td>0.000175</td>\n",
       "      <td>0.000045</td>\n",
       "      <td>0.226758</td>\n",
       "      <td>0.330818</td>\n",
       "      <td>0</td>\n",
       "    </tr>\n",
       "    <tr>\n",
       "      <th>613</th>\n",
       "      <td>-0.013800</td>\n",
       "      <td>0.000014</td>\n",
       "      <td>0.604443</td>\n",
       "      <td>0.303549</td>\n",
       "      <td>-0.019800</td>\n",
       "      <td>0.000014</td>\n",
       "      <td>0.604443</td>\n",
       "      <td>0.303549</td>\n",
       "      <td>0</td>\n",
       "    </tr>\n",
       "    <tr>\n",
       "      <th>3144</th>\n",
       "      <td>0.014225</td>\n",
       "      <td>0.000206</td>\n",
       "      <td>-0.092373</td>\n",
       "      <td>-0.489003</td>\n",
       "      <td>0.032625</td>\n",
       "      <td>0.000206</td>\n",
       "      <td>-0.090057</td>\n",
       "      <td>-0.504404</td>\n",
       "      <td>0</td>\n",
       "    </tr>\n",
       "    <tr>\n",
       "      <th>...</th>\n",
       "      <td>...</td>\n",
       "      <td>...</td>\n",
       "      <td>...</td>\n",
       "      <td>...</td>\n",
       "      <td>...</td>\n",
       "      <td>...</td>\n",
       "      <td>...</td>\n",
       "      <td>...</td>\n",
       "      <td>...</td>\n",
       "    </tr>\n",
       "    <tr>\n",
       "      <th>605</th>\n",
       "      <td>0.003875</td>\n",
       "      <td>0.000023</td>\n",
       "      <td>-0.429056</td>\n",
       "      <td>-0.232637</td>\n",
       "      <td>-0.002125</td>\n",
       "      <td>0.000023</td>\n",
       "      <td>-0.429056</td>\n",
       "      <td>-0.232637</td>\n",
       "      <td>0</td>\n",
       "    </tr>\n",
       "    <tr>\n",
       "      <th>4164</th>\n",
       "      <td>-0.008650</td>\n",
       "      <td>0.000466</td>\n",
       "      <td>-0.086389</td>\n",
       "      <td>-0.610830</td>\n",
       "      <td>-0.039875</td>\n",
       "      <td>0.000553</td>\n",
       "      <td>-0.309361</td>\n",
       "      <td>-0.686847</td>\n",
       "      <td>0</td>\n",
       "    </tr>\n",
       "    <tr>\n",
       "      <th>983</th>\n",
       "      <td>0.054875</td>\n",
       "      <td>0.000063</td>\n",
       "      <td>0.273502</td>\n",
       "      <td>-0.488964</td>\n",
       "      <td>0.044575</td>\n",
       "      <td>0.000063</td>\n",
       "      <td>0.315764</td>\n",
       "      <td>-0.410133</td>\n",
       "      <td>0</td>\n",
       "    </tr>\n",
       "    <tr>\n",
       "      <th>4245</th>\n",
       "      <td>-0.004425</td>\n",
       "      <td>0.000160</td>\n",
       "      <td>-0.900124</td>\n",
       "      <td>1.943166</td>\n",
       "      <td>-0.022225</td>\n",
       "      <td>0.000221</td>\n",
       "      <td>-1.363658</td>\n",
       "      <td>2.406669</td>\n",
       "      <td>0</td>\n",
       "    </tr>\n",
       "    <tr>\n",
       "      <th>5067</th>\n",
       "      <td>0.008525</td>\n",
       "      <td>0.008751</td>\n",
       "      <td>0.247274</td>\n",
       "      <td>-1.406739</td>\n",
       "      <td>0.001500</td>\n",
       "      <td>0.008756</td>\n",
       "      <td>0.247067</td>\n",
       "      <td>-1.407101</td>\n",
       "      <td>0</td>\n",
       "    </tr>\n",
       "  </tbody>\n",
       "</table>\n",
       "<p>100 rows × 9 columns</p>\n",
       "</div>"
      ],
      "text/plain": [
       "      mag_mean   mag_var  mag_skew  mag_kurt  mag_w_e_mean  mag_w_e_var  \\\n",
       "1170 -0.010900  0.000033  0.206836 -0.428178     -0.000900     0.000033   \n",
       "2592  0.102250  0.000119  0.670614  0.905965      0.114975     0.000126   \n",
       "1510 -0.007825  0.000045  0.226758  0.330818      0.000175     0.000045   \n",
       "613  -0.013800  0.000014  0.604443  0.303549     -0.019800     0.000014   \n",
       "3144  0.014225  0.000206 -0.092373 -0.489003      0.032625     0.000206   \n",
       "...        ...       ...       ...       ...           ...          ...   \n",
       "605   0.003875  0.000023 -0.429056 -0.232637     -0.002125     0.000023   \n",
       "4164 -0.008650  0.000466 -0.086389 -0.610830     -0.039875     0.000553   \n",
       "983   0.054875  0.000063  0.273502 -0.488964      0.044575     0.000063   \n",
       "4245 -0.004425  0.000160 -0.900124  1.943166     -0.022225     0.000221   \n",
       "5067  0.008525  0.008751  0.247274 -1.406739      0.001500     0.008756   \n",
       "\n",
       "      mag_w_e_skew  mag_w_e_kurt  Periodicity  \n",
       "1170      0.206836     -0.428178            0  \n",
       "2592      0.687224      0.869170            0  \n",
       "1510      0.226758      0.330818            0  \n",
       "613       0.604443      0.303549            0  \n",
       "3144     -0.090057     -0.504404            0  \n",
       "...            ...           ...          ...  \n",
       "605      -0.429056     -0.232637            0  \n",
       "4164     -0.309361     -0.686847            0  \n",
       "983       0.315764     -0.410133            0  \n",
       "4245     -1.363658      2.406669            0  \n",
       "5067      0.247067     -1.407101            0  \n",
       "\n",
       "[100 rows x 9 columns]"
      ]
     },
     "execution_count": 634,
     "metadata": {},
     "output_type": "execute_result"
    }
   ],
   "source": [
    "df_2"
   ]
  },
  {
   "cell_type": "code",
   "execution_count": 635,
   "id": "32d3aa72-06e8-4048-bb09-1dc41c4505db",
   "metadata": {},
   "outputs": [],
   "source": [
    "df_3 = features_df1[features_df1['Periodicity'] == 1 ].sample(n=25)"
   ]
  },
  {
   "cell_type": "code",
   "execution_count": 636,
   "id": "e812d8ea-0d9b-475d-bc1e-09b079dd76c8",
   "metadata": {},
   "outputs": [
    {
     "data": {
      "text/html": [
       "<div>\n",
       "<style scoped>\n",
       "    .dataframe tbody tr th:only-of-type {\n",
       "        vertical-align: middle;\n",
       "    }\n",
       "\n",
       "    .dataframe tbody tr th {\n",
       "        vertical-align: top;\n",
       "    }\n",
       "\n",
       "    .dataframe thead th {\n",
       "        text-align: right;\n",
       "    }\n",
       "</style>\n",
       "<table border=\"1\" class=\"dataframe\">\n",
       "  <thead>\n",
       "    <tr style=\"text-align: right;\">\n",
       "      <th></th>\n",
       "      <th>mag_mean</th>\n",
       "      <th>mag_var</th>\n",
       "      <th>mag_skew</th>\n",
       "      <th>mag_kurt</th>\n",
       "      <th>mag_w_e_mean</th>\n",
       "      <th>mag_w_e_var</th>\n",
       "      <th>mag_w_e_skew</th>\n",
       "      <th>mag_w_e_kurt</th>\n",
       "      <th>Periodicity</th>\n",
       "    </tr>\n",
       "  </thead>\n",
       "  <tbody>\n",
       "    <tr>\n",
       "      <th>5012</th>\n",
       "      <td>-0.006400</td>\n",
       "      <td>0.000968</td>\n",
       "      <td>-0.691676</td>\n",
       "      <td>-0.863887</td>\n",
       "      <td>-0.000400</td>\n",
       "      <td>0.000968</td>\n",
       "      <td>-0.691676</td>\n",
       "      <td>-0.863887</td>\n",
       "      <td>1</td>\n",
       "    </tr>\n",
       "    <tr>\n",
       "      <th>5210</th>\n",
       "      <td>-0.007550</td>\n",
       "      <td>0.001131</td>\n",
       "      <td>-0.390459</td>\n",
       "      <td>-1.005621</td>\n",
       "      <td>-0.022950</td>\n",
       "      <td>0.001055</td>\n",
       "      <td>-0.392406</td>\n",
       "      <td>-1.080180</td>\n",
       "      <td>1</td>\n",
       "    </tr>\n",
       "    <tr>\n",
       "      <th>5201</th>\n",
       "      <td>-0.008150</td>\n",
       "      <td>0.000838</td>\n",
       "      <td>-0.465929</td>\n",
       "      <td>-1.004655</td>\n",
       "      <td>-0.022875</td>\n",
       "      <td>0.000847</td>\n",
       "      <td>-0.426608</td>\n",
       "      <td>-1.057327</td>\n",
       "      <td>1</td>\n",
       "    </tr>\n",
       "    <tr>\n",
       "      <th>5057</th>\n",
       "      <td>-0.006400</td>\n",
       "      <td>0.000968</td>\n",
       "      <td>-0.691676</td>\n",
       "      <td>-0.863887</td>\n",
       "      <td>-0.000400</td>\n",
       "      <td>0.000968</td>\n",
       "      <td>-0.691676</td>\n",
       "      <td>-0.863887</td>\n",
       "      <td>1</td>\n",
       "    </tr>\n",
       "    <tr>\n",
       "      <th>5021</th>\n",
       "      <td>-0.005300</td>\n",
       "      <td>0.000946</td>\n",
       "      <td>-0.543974</td>\n",
       "      <td>-1.099840</td>\n",
       "      <td>0.000700</td>\n",
       "      <td>0.000946</td>\n",
       "      <td>-0.543974</td>\n",
       "      <td>-1.099840</td>\n",
       "      <td>1</td>\n",
       "    </tr>\n",
       "    <tr>\n",
       "      <th>5093</th>\n",
       "      <td>-0.005050</td>\n",
       "      <td>0.001052</td>\n",
       "      <td>-0.683573</td>\n",
       "      <td>-0.919287</td>\n",
       "      <td>0.003325</td>\n",
       "      <td>0.001031</td>\n",
       "      <td>-0.686291</td>\n",
       "      <td>-0.953607</td>\n",
       "      <td>1</td>\n",
       "    </tr>\n",
       "    <tr>\n",
       "      <th>5003</th>\n",
       "      <td>-0.006975</td>\n",
       "      <td>0.000952</td>\n",
       "      <td>-0.602181</td>\n",
       "      <td>-0.987928</td>\n",
       "      <td>-0.012975</td>\n",
       "      <td>0.000952</td>\n",
       "      <td>-0.602181</td>\n",
       "      <td>-0.987928</td>\n",
       "      <td>1</td>\n",
       "    </tr>\n",
       "    <tr>\n",
       "      <th>5084</th>\n",
       "      <td>-0.006150</td>\n",
       "      <td>0.001005</td>\n",
       "      <td>-0.495720</td>\n",
       "      <td>-1.087437</td>\n",
       "      <td>-0.012200</td>\n",
       "      <td>0.001001</td>\n",
       "      <td>-0.500716</td>\n",
       "      <td>-1.087095</td>\n",
       "      <td>1</td>\n",
       "    </tr>\n",
       "    <tr>\n",
       "      <th>5138</th>\n",
       "      <td>-0.005225</td>\n",
       "      <td>0.001031</td>\n",
       "      <td>-0.501628</td>\n",
       "      <td>-0.989570</td>\n",
       "      <td>-0.016875</td>\n",
       "      <td>0.001012</td>\n",
       "      <td>-0.500548</td>\n",
       "      <td>-0.989853</td>\n",
       "      <td>1</td>\n",
       "    </tr>\n",
       "    <tr>\n",
       "      <th>5111</th>\n",
       "      <td>-0.005625</td>\n",
       "      <td>0.000902</td>\n",
       "      <td>-0.611688</td>\n",
       "      <td>-1.025145</td>\n",
       "      <td>0.002300</td>\n",
       "      <td>0.000911</td>\n",
       "      <td>-0.623331</td>\n",
       "      <td>-0.996666</td>\n",
       "      <td>1</td>\n",
       "    </tr>\n",
       "    <tr>\n",
       "      <th>5102</th>\n",
       "      <td>-0.006175</td>\n",
       "      <td>0.001023</td>\n",
       "      <td>-0.698673</td>\n",
       "      <td>-0.839934</td>\n",
       "      <td>0.001825</td>\n",
       "      <td>0.000955</td>\n",
       "      <td>-0.676322</td>\n",
       "      <td>-0.838058</td>\n",
       "      <td>1</td>\n",
       "    </tr>\n",
       "    <tr>\n",
       "      <th>5039</th>\n",
       "      <td>-0.006150</td>\n",
       "      <td>0.001005</td>\n",
       "      <td>-0.495720</td>\n",
       "      <td>-1.087437</td>\n",
       "      <td>-0.000100</td>\n",
       "      <td>0.001008</td>\n",
       "      <td>-0.490381</td>\n",
       "      <td>-1.087367</td>\n",
       "      <td>1</td>\n",
       "    </tr>\n",
       "    <tr>\n",
       "      <th>5030</th>\n",
       "      <td>-0.005925</td>\n",
       "      <td>0.000934</td>\n",
       "      <td>-0.593488</td>\n",
       "      <td>-0.915212</td>\n",
       "      <td>0.000075</td>\n",
       "      <td>0.000934</td>\n",
       "      <td>-0.593488</td>\n",
       "      <td>-0.915212</td>\n",
       "      <td>1</td>\n",
       "    </tr>\n",
       "    <tr>\n",
       "      <th>5183</th>\n",
       "      <td>-0.008575</td>\n",
       "      <td>0.001313</td>\n",
       "      <td>-0.357287</td>\n",
       "      <td>-1.009375</td>\n",
       "      <td>-0.025750</td>\n",
       "      <td>0.001363</td>\n",
       "      <td>-0.354886</td>\n",
       "      <td>-0.949386</td>\n",
       "      <td>1</td>\n",
       "    </tr>\n",
       "    <tr>\n",
       "      <th>5120</th>\n",
       "      <td>-0.005675</td>\n",
       "      <td>0.000906</td>\n",
       "      <td>-0.554417</td>\n",
       "      <td>-0.990547</td>\n",
       "      <td>0.001950</td>\n",
       "      <td>0.000936</td>\n",
       "      <td>-0.523544</td>\n",
       "      <td>-0.960800</td>\n",
       "      <td>1</td>\n",
       "    </tr>\n",
       "    <tr>\n",
       "      <th>5165</th>\n",
       "      <td>-0.005750</td>\n",
       "      <td>0.000928</td>\n",
       "      <td>-0.591323</td>\n",
       "      <td>-1.045757</td>\n",
       "      <td>0.001050</td>\n",
       "      <td>0.000942</td>\n",
       "      <td>-0.561464</td>\n",
       "      <td>-1.056163</td>\n",
       "      <td>1</td>\n",
       "    </tr>\n",
       "    <tr>\n",
       "      <th>5156</th>\n",
       "      <td>-0.006200</td>\n",
       "      <td>0.001008</td>\n",
       "      <td>-0.598658</td>\n",
       "      <td>-1.098246</td>\n",
       "      <td>0.001625</td>\n",
       "      <td>0.000995</td>\n",
       "      <td>-0.615167</td>\n",
       "      <td>-1.090098</td>\n",
       "      <td>1</td>\n",
       "    </tr>\n",
       "    <tr>\n",
       "      <th>5048</th>\n",
       "      <td>-0.006975</td>\n",
       "      <td>0.000952</td>\n",
       "      <td>-0.602181</td>\n",
       "      <td>-0.987928</td>\n",
       "      <td>-0.012975</td>\n",
       "      <td>0.000952</td>\n",
       "      <td>-0.602181</td>\n",
       "      <td>-0.987928</td>\n",
       "      <td>1</td>\n",
       "    </tr>\n",
       "    <tr>\n",
       "      <th>5075</th>\n",
       "      <td>-0.005925</td>\n",
       "      <td>0.000934</td>\n",
       "      <td>-0.593488</td>\n",
       "      <td>-0.915212</td>\n",
       "      <td>-0.011925</td>\n",
       "      <td>0.000934</td>\n",
       "      <td>-0.593488</td>\n",
       "      <td>-0.915212</td>\n",
       "      <td>1</td>\n",
       "    </tr>\n",
       "    <tr>\n",
       "      <th>5129</th>\n",
       "      <td>-0.006475</td>\n",
       "      <td>0.000941</td>\n",
       "      <td>-0.592277</td>\n",
       "      <td>-1.094963</td>\n",
       "      <td>-0.013275</td>\n",
       "      <td>0.000972</td>\n",
       "      <td>-0.573636</td>\n",
       "      <td>-1.113357</td>\n",
       "      <td>1</td>\n",
       "    </tr>\n",
       "    <tr>\n",
       "      <th>5147</th>\n",
       "      <td>-0.005725</td>\n",
       "      <td>0.000933</td>\n",
       "      <td>-0.573242</td>\n",
       "      <td>-1.038245</td>\n",
       "      <td>0.001450</td>\n",
       "      <td>0.000973</td>\n",
       "      <td>-0.513757</td>\n",
       "      <td>-1.053956</td>\n",
       "      <td>1</td>\n",
       "    </tr>\n",
       "    <tr>\n",
       "      <th>5219</th>\n",
       "      <td>-0.005125</td>\n",
       "      <td>0.001102</td>\n",
       "      <td>-0.716371</td>\n",
       "      <td>-0.397814</td>\n",
       "      <td>0.008225</td>\n",
       "      <td>0.001048</td>\n",
       "      <td>-0.726787</td>\n",
       "      <td>-0.431989</td>\n",
       "      <td>1</td>\n",
       "    </tr>\n",
       "    <tr>\n",
       "      <th>5174</th>\n",
       "      <td>-0.006975</td>\n",
       "      <td>0.000926</td>\n",
       "      <td>-0.586095</td>\n",
       "      <td>-1.092472</td>\n",
       "      <td>-0.000175</td>\n",
       "      <td>0.000926</td>\n",
       "      <td>-0.578856</td>\n",
       "      <td>-1.138051</td>\n",
       "      <td>1</td>\n",
       "    </tr>\n",
       "    <tr>\n",
       "      <th>5192</th>\n",
       "      <td>-0.008400</td>\n",
       "      <td>0.001223</td>\n",
       "      <td>-0.567844</td>\n",
       "      <td>-0.886027</td>\n",
       "      <td>-0.024750</td>\n",
       "      <td>0.001452</td>\n",
       "      <td>-0.538448</td>\n",
       "      <td>-0.874752</td>\n",
       "      <td>1</td>\n",
       "    </tr>\n",
       "    <tr>\n",
       "      <th>5066</th>\n",
       "      <td>-0.005300</td>\n",
       "      <td>0.000946</td>\n",
       "      <td>-0.543974</td>\n",
       "      <td>-1.099840</td>\n",
       "      <td>-0.011300</td>\n",
       "      <td>0.000946</td>\n",
       "      <td>-0.543974</td>\n",
       "      <td>-1.099840</td>\n",
       "      <td>1</td>\n",
       "    </tr>\n",
       "  </tbody>\n",
       "</table>\n",
       "</div>"
      ],
      "text/plain": [
       "      mag_mean   mag_var  mag_skew  mag_kurt  mag_w_e_mean  mag_w_e_var  \\\n",
       "5012 -0.006400  0.000968 -0.691676 -0.863887     -0.000400     0.000968   \n",
       "5210 -0.007550  0.001131 -0.390459 -1.005621     -0.022950     0.001055   \n",
       "5201 -0.008150  0.000838 -0.465929 -1.004655     -0.022875     0.000847   \n",
       "5057 -0.006400  0.000968 -0.691676 -0.863887     -0.000400     0.000968   \n",
       "5021 -0.005300  0.000946 -0.543974 -1.099840      0.000700     0.000946   \n",
       "5093 -0.005050  0.001052 -0.683573 -0.919287      0.003325     0.001031   \n",
       "5003 -0.006975  0.000952 -0.602181 -0.987928     -0.012975     0.000952   \n",
       "5084 -0.006150  0.001005 -0.495720 -1.087437     -0.012200     0.001001   \n",
       "5138 -0.005225  0.001031 -0.501628 -0.989570     -0.016875     0.001012   \n",
       "5111 -0.005625  0.000902 -0.611688 -1.025145      0.002300     0.000911   \n",
       "5102 -0.006175  0.001023 -0.698673 -0.839934      0.001825     0.000955   \n",
       "5039 -0.006150  0.001005 -0.495720 -1.087437     -0.000100     0.001008   \n",
       "5030 -0.005925  0.000934 -0.593488 -0.915212      0.000075     0.000934   \n",
       "5183 -0.008575  0.001313 -0.357287 -1.009375     -0.025750     0.001363   \n",
       "5120 -0.005675  0.000906 -0.554417 -0.990547      0.001950     0.000936   \n",
       "5165 -0.005750  0.000928 -0.591323 -1.045757      0.001050     0.000942   \n",
       "5156 -0.006200  0.001008 -0.598658 -1.098246      0.001625     0.000995   \n",
       "5048 -0.006975  0.000952 -0.602181 -0.987928     -0.012975     0.000952   \n",
       "5075 -0.005925  0.000934 -0.593488 -0.915212     -0.011925     0.000934   \n",
       "5129 -0.006475  0.000941 -0.592277 -1.094963     -0.013275     0.000972   \n",
       "5147 -0.005725  0.000933 -0.573242 -1.038245      0.001450     0.000973   \n",
       "5219 -0.005125  0.001102 -0.716371 -0.397814      0.008225     0.001048   \n",
       "5174 -0.006975  0.000926 -0.586095 -1.092472     -0.000175     0.000926   \n",
       "5192 -0.008400  0.001223 -0.567844 -0.886027     -0.024750     0.001452   \n",
       "5066 -0.005300  0.000946 -0.543974 -1.099840     -0.011300     0.000946   \n",
       "\n",
       "      mag_w_e_skew  mag_w_e_kurt  Periodicity  \n",
       "5012     -0.691676     -0.863887            1  \n",
       "5210     -0.392406     -1.080180            1  \n",
       "5201     -0.426608     -1.057327            1  \n",
       "5057     -0.691676     -0.863887            1  \n",
       "5021     -0.543974     -1.099840            1  \n",
       "5093     -0.686291     -0.953607            1  \n",
       "5003     -0.602181     -0.987928            1  \n",
       "5084     -0.500716     -1.087095            1  \n",
       "5138     -0.500548     -0.989853            1  \n",
       "5111     -0.623331     -0.996666            1  \n",
       "5102     -0.676322     -0.838058            1  \n",
       "5039     -0.490381     -1.087367            1  \n",
       "5030     -0.593488     -0.915212            1  \n",
       "5183     -0.354886     -0.949386            1  \n",
       "5120     -0.523544     -0.960800            1  \n",
       "5165     -0.561464     -1.056163            1  \n",
       "5156     -0.615167     -1.090098            1  \n",
       "5048     -0.602181     -0.987928            1  \n",
       "5075     -0.593488     -0.915212            1  \n",
       "5129     -0.573636     -1.113357            1  \n",
       "5147     -0.513757     -1.053956            1  \n",
       "5219     -0.726787     -0.431989            1  \n",
       "5174     -0.578856     -1.138051            1  \n",
       "5192     -0.538448     -0.874752            1  \n",
       "5066     -0.543974     -1.099840            1  "
      ]
     },
     "execution_count": 636,
     "metadata": {},
     "output_type": "execute_result"
    }
   ],
   "source": [
    "df_3"
   ]
  },
  {
   "cell_type": "code",
   "execution_count": 637,
   "id": "dbf19f89-318d-4089-a20a-f4d00ad822f9",
   "metadata": {},
   "outputs": [],
   "source": [
    "dfn = pd.concat([df_2, df_3])"
   ]
  },
  {
   "cell_type": "code",
   "execution_count": 638,
   "id": "412644f9-31d0-411e-9432-659fa7ad681d",
   "metadata": {},
   "outputs": [],
   "source": [
    "dfn.index =  range(dfn.shape[0])"
   ]
  },
  {
   "cell_type": "code",
   "execution_count": 639,
   "id": "c768870f-a1de-468a-a17f-fffff6788885",
   "metadata": {},
   "outputs": [
    {
     "data": {
      "text/html": [
       "<div>\n",
       "<style scoped>\n",
       "    .dataframe tbody tr th:only-of-type {\n",
       "        vertical-align: middle;\n",
       "    }\n",
       "\n",
       "    .dataframe tbody tr th {\n",
       "        vertical-align: top;\n",
       "    }\n",
       "\n",
       "    .dataframe thead th {\n",
       "        text-align: right;\n",
       "    }\n",
       "</style>\n",
       "<table border=\"1\" class=\"dataframe\">\n",
       "  <thead>\n",
       "    <tr style=\"text-align: right;\">\n",
       "      <th></th>\n",
       "      <th>mag_mean</th>\n",
       "      <th>mag_var</th>\n",
       "      <th>mag_skew</th>\n",
       "      <th>mag_kurt</th>\n",
       "      <th>mag_w_e_mean</th>\n",
       "      <th>mag_w_e_var</th>\n",
       "      <th>mag_w_e_skew</th>\n",
       "      <th>mag_w_e_kurt</th>\n",
       "      <th>Periodicity</th>\n",
       "    </tr>\n",
       "  </thead>\n",
       "  <tbody>\n",
       "    <tr>\n",
       "      <th>0</th>\n",
       "      <td>-0.010900</td>\n",
       "      <td>0.000033</td>\n",
       "      <td>0.206836</td>\n",
       "      <td>-0.428178</td>\n",
       "      <td>-0.000900</td>\n",
       "      <td>0.000033</td>\n",
       "      <td>0.206836</td>\n",
       "      <td>-0.428178</td>\n",
       "      <td>0</td>\n",
       "    </tr>\n",
       "    <tr>\n",
       "      <th>1</th>\n",
       "      <td>0.102250</td>\n",
       "      <td>0.000119</td>\n",
       "      <td>0.670614</td>\n",
       "      <td>0.905965</td>\n",
       "      <td>0.114975</td>\n",
       "      <td>0.000126</td>\n",
       "      <td>0.687224</td>\n",
       "      <td>0.869170</td>\n",
       "      <td>0</td>\n",
       "    </tr>\n",
       "    <tr>\n",
       "      <th>2</th>\n",
       "      <td>-0.007825</td>\n",
       "      <td>0.000045</td>\n",
       "      <td>0.226758</td>\n",
       "      <td>0.330818</td>\n",
       "      <td>0.000175</td>\n",
       "      <td>0.000045</td>\n",
       "      <td>0.226758</td>\n",
       "      <td>0.330818</td>\n",
       "      <td>0</td>\n",
       "    </tr>\n",
       "    <tr>\n",
       "      <th>3</th>\n",
       "      <td>-0.013800</td>\n",
       "      <td>0.000014</td>\n",
       "      <td>0.604443</td>\n",
       "      <td>0.303549</td>\n",
       "      <td>-0.019800</td>\n",
       "      <td>0.000014</td>\n",
       "      <td>0.604443</td>\n",
       "      <td>0.303549</td>\n",
       "      <td>0</td>\n",
       "    </tr>\n",
       "    <tr>\n",
       "      <th>4</th>\n",
       "      <td>0.014225</td>\n",
       "      <td>0.000206</td>\n",
       "      <td>-0.092373</td>\n",
       "      <td>-0.489003</td>\n",
       "      <td>0.032625</td>\n",
       "      <td>0.000206</td>\n",
       "      <td>-0.090057</td>\n",
       "      <td>-0.504404</td>\n",
       "      <td>0</td>\n",
       "    </tr>\n",
       "    <tr>\n",
       "      <th>...</th>\n",
       "      <td>...</td>\n",
       "      <td>...</td>\n",
       "      <td>...</td>\n",
       "      <td>...</td>\n",
       "      <td>...</td>\n",
       "      <td>...</td>\n",
       "      <td>...</td>\n",
       "      <td>...</td>\n",
       "      <td>...</td>\n",
       "    </tr>\n",
       "    <tr>\n",
       "      <th>120</th>\n",
       "      <td>-0.005725</td>\n",
       "      <td>0.000933</td>\n",
       "      <td>-0.573242</td>\n",
       "      <td>-1.038245</td>\n",
       "      <td>0.001450</td>\n",
       "      <td>0.000973</td>\n",
       "      <td>-0.513757</td>\n",
       "      <td>-1.053956</td>\n",
       "      <td>1</td>\n",
       "    </tr>\n",
       "    <tr>\n",
       "      <th>121</th>\n",
       "      <td>-0.005125</td>\n",
       "      <td>0.001102</td>\n",
       "      <td>-0.716371</td>\n",
       "      <td>-0.397814</td>\n",
       "      <td>0.008225</td>\n",
       "      <td>0.001048</td>\n",
       "      <td>-0.726787</td>\n",
       "      <td>-0.431989</td>\n",
       "      <td>1</td>\n",
       "    </tr>\n",
       "    <tr>\n",
       "      <th>122</th>\n",
       "      <td>-0.006975</td>\n",
       "      <td>0.000926</td>\n",
       "      <td>-0.586095</td>\n",
       "      <td>-1.092472</td>\n",
       "      <td>-0.000175</td>\n",
       "      <td>0.000926</td>\n",
       "      <td>-0.578856</td>\n",
       "      <td>-1.138051</td>\n",
       "      <td>1</td>\n",
       "    </tr>\n",
       "    <tr>\n",
       "      <th>123</th>\n",
       "      <td>-0.008400</td>\n",
       "      <td>0.001223</td>\n",
       "      <td>-0.567844</td>\n",
       "      <td>-0.886027</td>\n",
       "      <td>-0.024750</td>\n",
       "      <td>0.001452</td>\n",
       "      <td>-0.538448</td>\n",
       "      <td>-0.874752</td>\n",
       "      <td>1</td>\n",
       "    </tr>\n",
       "    <tr>\n",
       "      <th>124</th>\n",
       "      <td>-0.005300</td>\n",
       "      <td>0.000946</td>\n",
       "      <td>-0.543974</td>\n",
       "      <td>-1.099840</td>\n",
       "      <td>-0.011300</td>\n",
       "      <td>0.000946</td>\n",
       "      <td>-0.543974</td>\n",
       "      <td>-1.099840</td>\n",
       "      <td>1</td>\n",
       "    </tr>\n",
       "  </tbody>\n",
       "</table>\n",
       "<p>125 rows × 9 columns</p>\n",
       "</div>"
      ],
      "text/plain": [
       "     mag_mean   mag_var  mag_skew  mag_kurt  mag_w_e_mean  mag_w_e_var  \\\n",
       "0   -0.010900  0.000033  0.206836 -0.428178     -0.000900     0.000033   \n",
       "1    0.102250  0.000119  0.670614  0.905965      0.114975     0.000126   \n",
       "2   -0.007825  0.000045  0.226758  0.330818      0.000175     0.000045   \n",
       "3   -0.013800  0.000014  0.604443  0.303549     -0.019800     0.000014   \n",
       "4    0.014225  0.000206 -0.092373 -0.489003      0.032625     0.000206   \n",
       "..        ...       ...       ...       ...           ...          ...   \n",
       "120 -0.005725  0.000933 -0.573242 -1.038245      0.001450     0.000973   \n",
       "121 -0.005125  0.001102 -0.716371 -0.397814      0.008225     0.001048   \n",
       "122 -0.006975  0.000926 -0.586095 -1.092472     -0.000175     0.000926   \n",
       "123 -0.008400  0.001223 -0.567844 -0.886027     -0.024750     0.001452   \n",
       "124 -0.005300  0.000946 -0.543974 -1.099840     -0.011300     0.000946   \n",
       "\n",
       "     mag_w_e_skew  mag_w_e_kurt  Periodicity  \n",
       "0        0.206836     -0.428178            0  \n",
       "1        0.687224      0.869170            0  \n",
       "2        0.226758      0.330818            0  \n",
       "3        0.604443      0.303549            0  \n",
       "4       -0.090057     -0.504404            0  \n",
       "..            ...           ...          ...  \n",
       "120     -0.513757     -1.053956            1  \n",
       "121     -0.726787     -0.431989            1  \n",
       "122     -0.578856     -1.138051            1  \n",
       "123     -0.538448     -0.874752            1  \n",
       "124     -0.543974     -1.099840            1  \n",
       "\n",
       "[125 rows x 9 columns]"
      ]
     },
     "execution_count": 639,
     "metadata": {},
     "output_type": "execute_result"
    }
   ],
   "source": [
    "dfn"
   ]
  },
  {
   "cell_type": "code",
   "execution_count": 640,
   "id": "4f68fcca-00bb-443c-9fbd-1125c25eec80",
   "metadata": {},
   "outputs": [
    {
     "data": {
      "image/png": "[encoded data removed]",
      "text/plain": [
       "<Figure size 640x480 with 1 Axes>"
      ]
     },
     "metadata": {},
     "output_type": "display_data"
    }
   ],
   "source": [
    "pie_x, pie_y = np.unique(dfn['Periodicity'], return_counts=True)\n",
    "plt.pie(pie_y, labels=pie_x, autopct = '%1.1f%%') \n",
    "plt.title('AGNs Periodicity Rate')\n",
    "plt.show()"
   ]
  },
  {
   "cell_type": "markdown",
   "id": "86048a21-3ec1-4679-99ba-3c0ad6d407a4",
   "metadata": {},
   "source": [
    "### Machine Learining Models"
   ]
  },
  {
   "cell_type": "code",
   "execution_count": 641,
   "id": "24d8f432-65e7-4bc3-bbe3-895ea481e166",
   "metadata": {},
   "outputs": [
    {
     "data": {
      "text/plain": [
       "0.9974489795918368"
      ]
     },
     "execution_count": 641,
     "metadata": {},
     "output_type": "execute_result"
    }
   ],
   "source": [
    "#Apply a Random Forest classifier with the original dataset.\n",
    "\n",
    "data2 = features_df1.copy()\n",
    "\n",
    "# Split the data into features and target\n",
    "X = data2.drop('Periodicity', axis=1)[['mag_mean', 'mag_var', 'mag_skew', 'mag_kurt']]\n",
    "y = data2['Periodicity']\n",
    "\n",
    "# Split the dataset into training and testing sets\n",
    "X2_train, X2_test, y2_train, y2_test = train_test_split(X, y, test_size=0.3, random_state=20, stratify = y)\n",
    "\n",
    "# Initialize the Random Forest Classifier\n",
    "rf_classifier2 = RandomForestClassifier(max_depth=3)\n",
    "\n",
    "# Train the model\n",
    "rf_classifier2.fit(X2_train, y2_train)\n",
    "\n",
    "# Make predictions on the test set\n",
    "y2_pred = rf_classifier2.predict(X2_test)\n",
    "\n",
    "# Evaluate the model\n",
    "accuracy_score(y2_pred,y2_test)"
   ]
  },
  {
   "cell_type": "code",
   "execution_count": 642,
   "id": "61090069-e8a7-4884-b355-750b4137d2a6",
   "metadata": {},
   "outputs": [
    {
     "data": {
      "text/plain": [
       "1.0"
      ]
     },
     "execution_count": 642,
     "metadata": {},
     "output_type": "execute_result"
    }
   ],
   "source": [
    "#Another Machine Learning model, a Random Forest classifier with an undersampling.\n",
    "\n",
    "# Split the data into features and target\n",
    "X = dfn.drop('Periodicity', axis=1)[['mag_mean', 'mag_var', 'mag_skew', 'mag_kurt']]\n",
    "y = dfn['Periodicity']\n",
    "\n",
    "# Split the dataset into training and testing sets\n",
    "X3_train, X3_test, y3_train, y3_test = train_test_split(X, y, test_size=0.2, random_state=20, stratify = y)\n",
    "\n",
    "# Initialize the Random Forest Classifier\n",
    "rf_classifier3 = RandomForestClassifier(max_depth=3)\n",
    "\n",
    "# Train the model\n",
    "rf_classifier3.fit(X3_train, y3_train)\n",
    "\n",
    "# Make predictions on the test set\n",
    "y3_pred = rf_classifier3.predict(X3_test)\n",
    "\n",
    "# Evaluate the model\n",
    "accuracy_score(y3_pred,y3_test)"
   ]
  },
  {
   "cell_type": "code",
   "execution_count": 643,
   "id": "9225ce17-88e7-408a-a455-3d5959ba0192",
   "metadata": {},
   "outputs": [
    {
     "data": {
      "text/plain": [
       "0.9996794871794872"
      ]
     },
     "execution_count": 643,
     "metadata": {},
     "output_type": "execute_result"
    }
   ],
   "source": [
    "#Another Machine Learning model, a Random Forest classifier with an OverSampling.\n",
    "\n",
    "data = features_df1.copy()\n",
    "\n",
    "# Split the data into features and target\n",
    "X = data.drop('Periodicity', axis=1)[['mag_mean', 'mag_var', 'mag_skew', 'mag_kurt']]\n",
    "y = data['Periodicity']\n",
    "\n",
    "ros = RandomOverSampler(random_state=20, sampling_strategy='minority')\n",
    "\n",
    "X_res, y_res = ros.fit_resample(X, y)\n",
    "\n",
    "# Split the dataset into training and testing sets\n",
    "X4_train, X4_test, y4_train, y4_test = train_test_split(X_res, y_res, test_size=0.3, random_state=20, stratify = y_res)\n",
    "\n",
    "# Initialize the Random Forest Classifier\n",
    "rf_classifier4 = RandomForestClassifier(max_depth=3)\n",
    "\n",
    "# Train the model\n",
    "rf_classifier4.fit(X4_train, y4_train)\n",
    "\n",
    "# Make predictions on the test set\n",
    "y4_pred = rf_classifier4.predict(X4_test)\n",
    "\n",
    "# Evaluate the model\n",
    "accuracy_score(y4_pred,y4_test)"
   ]
  },
  {
   "cell_type": "markdown",
   "id": "e18771cd-754f-49ba-8f7f-07275f687feb",
   "metadata": {},
   "source": [
    "#### We use the metrics to evaluate the model"
   ]
  },
  {
   "cell_type": "markdown",
   "id": "e89695d4-f6f8-48a5-b2e0-db649ee27629",
   "metadata": {},
   "source": [
    "Metrics for the first model"
   ]
  },
  {
   "cell_type": "code",
   "execution_count": 644,
   "id": "2efe9df5-ba3d-464c-bdfa-61385b8ed6ba",
   "metadata": {},
   "outputs": [
    {
     "data": {
      "image/png": "[encoded data removed]",
      "text/plain": [
       "<Figure size 640x480 with 2 Axes>"
      ]
     },
     "metadata": {},
     "output_type": "display_data"
    }
   ],
   "source": [
    "mc=confusion_matrix(y2_pred,y2_test)\n",
    "mc_norm = mc / np.linalg.norm(mc, axis=1, keepdims=True)\n",
    "sns.heatmap(pd.DataFrame(mc), cmap=sns.cm.rocket_r, annot=True, fmt='.5g');"
   ]
  },
  {
   "cell_type": "code",
   "execution_count": 645,
   "id": "3a4ffeca-fb25-4735-b92d-a0f52aec73ec",
   "metadata": {},
   "outputs": [
    {
     "data": {
      "text/plain": [
       "1.0"
      ]
     },
     "execution_count": 645,
     "metadata": {},
     "output_type": "execute_result"
    }
   ],
   "source": [
    "cross_val_score(rf_classifier2,X2_train,y2_train,cv=3,scoring='precision').mean()"
   ]
  },
  {
   "cell_type": "code",
   "execution_count": 646,
   "id": "afadbabf-ae34-408c-9620-a04248739dd8",
   "metadata": {},
   "outputs": [
    {
     "data": {
      "text/plain": [
       "0.8333333333333334"
      ]
     },
     "execution_count": 646,
     "metadata": {},
     "output_type": "execute_result"
    }
   ],
   "source": [
    "cross_val_score(rf_classifier2,X2_train,y2_train,cv=3,scoring='recall').mean()"
   ]
  },
  {
   "cell_type": "code",
   "execution_count": 647,
   "id": "8c9de3ae-5b5b-49be-a386-c3056d0a849c",
   "metadata": {},
   "outputs": [
    {
     "data": {
      "text/plain": [
       "0.903030303030303"
      ]
     },
     "execution_count": 647,
     "metadata": {},
     "output_type": "execute_result"
    }
   ],
   "source": [
    "cross_val_score(rf_classifier2,X2_train,y2_train,cv=3,scoring='f1').mean()"
   ]
  },
  {
   "cell_type": "markdown",
   "id": "68e3ab7e-a3a6-4905-a51f-521d613023a8",
   "metadata": {},
   "source": [
    "Metrics of second Random Forest Model"
   ]
  },
  {
   "cell_type": "code",
   "execution_count": 648,
   "id": "3260a39b-41b6-4091-b2c8-dfc86e397963",
   "metadata": {},
   "outputs": [
    {
     "data": {
      "image/png": "[encoded data removed]",
      "text/plain": [
       "<Figure size 640x480 with 2 Axes>"
      ]
     },
     "metadata": {},
     "output_type": "display_data"
    }
   ],
   "source": [
    "mc=confusion_matrix(y3_pred,y3_test)\n",
    "mc_norm = mc / np.linalg.norm(mc, axis=1, keepdims=True)\n",
    "sns.heatmap(pd.DataFrame(mc), cmap=sns.cm.rocket_r, annot=True, fmt='.5g');"
   ]
  },
  {
   "cell_type": "code",
   "execution_count": 649,
   "id": "1148994e-9df9-4c58-a900-2f2e9226f94f",
   "metadata": {},
   "outputs": [
    {
     "data": {
      "text/plain": [
       "0.8842592592592592"
      ]
     },
     "execution_count": 649,
     "metadata": {},
     "output_type": "execute_result"
    }
   ],
   "source": [
    "cross_val_score(rf_classifier3,X3_train,y3_train,cv=3,scoring='precision').mean()"
   ]
  },
  {
   "cell_type": "code",
   "execution_count": 650,
   "id": "85901488-7844-4698-a2e8-c0aa4e2003ec",
   "metadata": {},
   "outputs": [
    {
     "data": {
      "text/plain": [
       "1.0"
      ]
     },
     "execution_count": 650,
     "metadata": {},
     "output_type": "execute_result"
    }
   ],
   "source": [
    "cross_val_score(rf_classifier3,X3_train,y3_train,cv=3,scoring='recall').mean()"
   ]
  },
  {
   "cell_type": "code",
   "execution_count": 651,
   "id": "f9ffb2f8-b82a-4428-89a3-241df9d1b3e1",
   "metadata": {},
   "outputs": [
    {
     "data": {
      "text/plain": [
       "0.9583333333333334"
      ]
     },
     "execution_count": 651,
     "metadata": {},
     "output_type": "execute_result"
    }
   ],
   "source": [
    "cross_val_score(rf_classifier3,X3_train,y3_train,cv=3,scoring='f1').mean()"
   ]
  },
  {
   "cell_type": "markdown",
   "id": "f3ac902b-5345-4f9b-a818-ed0877281259",
   "metadata": {},
   "source": [
    "Metrics of the last Model"
   ]
  },
  {
   "cell_type": "code",
   "execution_count": 652,
   "id": "b1d806bd-7878-4a1a-88a6-ed0323f08dd9",
   "metadata": {},
   "outputs": [
    {
     "data": {
      "image/png": "[encoded data removed]",
      "text/plain": [
       "<Figure size 640x480 with 2 Axes>"
      ]
     },
     "metadata": {},
     "output_type": "display_data"
    }
   ],
   "source": [
    "mc=confusion_matrix(y4_pred,y4_test)\n",
    "mc_norm = mc / np.linalg.norm(mc, axis=1, keepdims=True)\n",
    "sns.heatmap(pd.DataFrame(mc), cmap=sns.cm.rocket_r, annot=True, fmt='.5g');"
   ]
  },
  {
   "cell_type": "code",
   "execution_count": 653,
   "id": "cb3d2cc8-120b-4afa-965d-8acc2f7aa95f",
   "metadata": {},
   "outputs": [
    {
     "data": {
      "text/plain": [
       "0.9986291584937349"
      ]
     },
     "execution_count": 653,
     "metadata": {},
     "output_type": "execute_result"
    }
   ],
   "source": [
    "cross_val_score(rf_classifier4,X4_train,y4_train,cv=3,scoring='precision').mean()"
   ]
  },
  {
   "cell_type": "code",
   "execution_count": 654,
   "id": "dade5cd7-1674-4697-874a-eb1b4ae9933d",
   "metadata": {},
   "outputs": [
    {
     "data": {
      "text/plain": [
       "1.0"
      ]
     },
     "execution_count": 654,
     "metadata": {},
     "output_type": "execute_result"
    }
   ],
   "source": [
    "cross_val_score(rf_classifier4,X4_train,y4_train,cv=3,scoring='recall').mean()"
   ]
  },
  {
   "cell_type": "code",
   "execution_count": 655,
   "id": "d5e6af11-dfc6-4e2a-b29d-64c98dc1009c",
   "metadata": {},
   "outputs": [
    {
     "data": {
      "text/plain": [
       "0.9995886466474703"
      ]
     },
     "execution_count": 655,
     "metadata": {},
     "output_type": "execute_result"
    }
   ],
   "source": [
    "cross_val_score(rf_classifier4,X4_train,y4_train,cv=3,scoring='f1').mean()"
   ]
  },
  {
   "cell_type": "markdown",
   "id": "12b65eb6-54e5-4d83-badf-492117723ea5",
   "metadata": {},
   "source": [
    "#### We'll try with one more model, whit an OverSampling in the undersampled dataset"
   ]
  },
  {
   "cell_type": "code",
   "execution_count": 656,
   "id": "4e6b1978-0847-404c-bb00-9d466bda9e52",
   "metadata": {},
   "outputs": [
    {
     "data": {
      "text/plain": [
       "1.0"
      ]
     },
     "execution_count": 656,
     "metadata": {},
     "output_type": "execute_result"
    }
   ],
   "source": [
    "#Another Machine Learning model, a Random Forest classifier with an undersampling.\n",
    "\n",
    "# Split the data into features and target\n",
    "X = dfn.drop('Periodicity', axis=1)[['mag_mean', 'mag_var', 'mag_skew', 'mag_kurt']]\n",
    "y = dfn['Periodicity']\n",
    "\n",
    "ros = RandomOverSampler(random_state=20, sampling_strategy='minority')\n",
    "\n",
    "X_res, y_res = ros.fit_resample(X, y)\n",
    "\n",
    "# Split the dataset into training and testing sets\n",
    "X5_train, X5_test, y5_train, y5_test = train_test_split(X_res, y_res, test_size=0.2, random_state=20, stratify = y_res)\n",
    "\n",
    "# Initialize the Random Forest Classifier\n",
    "rf_classifier5 = RandomForestClassifier(max_depth=10)\n",
    "\n",
    "# Train the model\n",
    "rf_classifier5.fit(X5_train, y5_train)\n",
    "\n",
    "# Make predictions on the test set\n",
    "y5_pred = rf_classifier5.predict(X5_test)\n",
    "\n",
    "# Evaluate the model\n",
    "accuracy_score(y5_pred,y5_test)"
   ]
  },
  {
   "cell_type": "markdown",
   "id": "cc14217e-b43a-4542-af16-36756256ea21",
   "metadata": {},
   "source": [
    "Calculate the metrics"
   ]
  },
  {
   "cell_type": "code",
   "execution_count": 657,
   "id": "90e15f97-9a51-43dd-985c-bd1ab67bb247",
   "metadata": {},
   "outputs": [
    {
     "data": {
      "image/png": "[encoded data removed]",
      "text/plain": [
       "<Figure size 640x480 with 2 Axes>"
      ]
     },
     "metadata": {},
     "output_type": "display_data"
    }
   ],
   "source": [
    "mc=confusion_matrix(y5_pred,y5_test)\n",
    "mc_norm = mc / np.linalg.norm(mc, axis=1, keepdims=True)\n",
    "sns.heatmap(pd.DataFrame(mc), cmap=sns.cm.rocket_r, annot=True, fmt='.5g');"
   ]
  },
  {
   "cell_type": "code",
   "execution_count": 658,
   "id": "1364b4d1-9f0d-4f0a-a0a5-eaf27fbfd628",
   "metadata": {},
   "outputs": [
    {
     "data": {
      "text/plain": [
       "0.9757495590828924"
      ]
     },
     "execution_count": 658,
     "metadata": {},
     "output_type": "execute_result"
    }
   ],
   "source": [
    "cross_val_score(rf_classifier5,X5_train,y5_train,cv=3,scoring='precision').mean()"
   ]
  },
  {
   "cell_type": "code",
   "execution_count": 659,
   "id": "15088fa3-739c-45bb-9f7e-3d6370875020",
   "metadata": {},
   "outputs": [
    {
     "data": {
      "text/plain": [
       "1.0"
      ]
     },
     "execution_count": 659,
     "metadata": {},
     "output_type": "execute_result"
    }
   ],
   "source": [
    "cross_val_score(rf_classifier5,X5_train,y5_train,cv=3,scoring='recall').mean()"
   ]
  },
  {
   "cell_type": "code",
   "execution_count": 660,
   "id": "221f469b-abd9-4fe5-b823-b07e6e99ef9f",
   "metadata": {},
   "outputs": [
    {
     "data": {
      "text/plain": [
       "0.9876500857632933"
      ]
     },
     "execution_count": 660,
     "metadata": {},
     "output_type": "execute_result"
    }
   ],
   "source": [
    "cross_val_score(rf_classifier5,X5_train,y5_train,cv=3,scoring='f1').mean()"
   ]
  },
  {
   "cell_type": "markdown",
   "id": "dd75c13d-5c04-49b5-8bfd-811701a9b4a6",
   "metadata": {},
   "source": [
    "#### Let's try with one last model, using only the variable AGNs for the training set."
   ]
  },
  {
   "cell_type": "code",
   "execution_count": 661,
   "id": "b0a3dc41-748c-4d87-bc08-9d53f04c94d3",
   "metadata": {},
   "outputs": [],
   "source": [
    "data_features = []\n",
    "Periodicity = []\n",
    "\n",
    "for i in range(len(dff)):\n",
    "\n",
    "    dt = dff[i]\n",
    "    star = agns(dt)[2]\n",
    "    err_star = agns(dt)[3]\n",
    "    data_features = dataframe1(dt, 9, 0, star, err_star, 4, 5, 3)\n",
    "\n",
    "    # Convert lists to a DataFrame\n",
    "    features_df2 = pd.DataFrame(data_features)\n",
    "    features_df2['Periodicity'] = Periodicity  "
   ]
  },
  {
   "cell_type": "code",
   "execution_count": 662,
   "id": "4251d35b-8a04-4d72-96b5-1aa93e3254ac",
   "metadata": {},
   "outputs": [
    {
     "data": {
      "text/html": [
       "<div>\n",
       "<style scoped>\n",
       "    .dataframe tbody tr th:only-of-type {\n",
       "        vertical-align: middle;\n",
       "    }\n",
       "\n",
       "    .dataframe tbody tr th {\n",
       "        vertical-align: top;\n",
       "    }\n",
       "\n",
       "    .dataframe thead th {\n",
       "        text-align: right;\n",
       "    }\n",
       "</style>\n",
       "<table border=\"1\" class=\"dataframe\">\n",
       "  <thead>\n",
       "    <tr style=\"text-align: right;\">\n",
       "      <th></th>\n",
       "      <th>mag_mean</th>\n",
       "      <th>mag_var</th>\n",
       "      <th>mag_skew</th>\n",
       "      <th>mag_kurt</th>\n",
       "      <th>mag_w_e_mean</th>\n",
       "      <th>mag_w_e_var</th>\n",
       "      <th>mag_w_e_skew</th>\n",
       "      <th>mag_w_e_kurt</th>\n",
       "      <th>Periodicity</th>\n",
       "    </tr>\n",
       "  </thead>\n",
       "  <tbody>\n",
       "    <tr>\n",
       "      <th>0</th>\n",
       "      <td>-0.011750</td>\n",
       "      <td>0.003535</td>\n",
       "      <td>0.088334</td>\n",
       "      <td>-1.175707</td>\n",
       "      <td>-0.005750</td>\n",
       "      <td>0.003535</td>\n",
       "      <td>0.088334</td>\n",
       "      <td>-1.175707</td>\n",
       "      <td>0</td>\n",
       "    </tr>\n",
       "    <tr>\n",
       "      <th>1</th>\n",
       "      <td>-0.011600</td>\n",
       "      <td>0.003450</td>\n",
       "      <td>0.054997</td>\n",
       "      <td>-1.173883</td>\n",
       "      <td>-0.005600</td>\n",
       "      <td>0.003450</td>\n",
       "      <td>0.054997</td>\n",
       "      <td>-1.173883</td>\n",
       "      <td>0</td>\n",
       "    </tr>\n",
       "    <tr>\n",
       "      <th>2</th>\n",
       "      <td>-0.006625</td>\n",
       "      <td>0.002225</td>\n",
       "      <td>-0.906979</td>\n",
       "      <td>-0.527377</td>\n",
       "      <td>-0.000625</td>\n",
       "      <td>0.002225</td>\n",
       "      <td>-0.906979</td>\n",
       "      <td>-0.527377</td>\n",
       "      <td>0</td>\n",
       "    </tr>\n",
       "    <tr>\n",
       "      <th>3</th>\n",
       "      <td>-0.006975</td>\n",
       "      <td>0.000952</td>\n",
       "      <td>-0.602181</td>\n",
       "      <td>-0.987928</td>\n",
       "      <td>-0.012975</td>\n",
       "      <td>0.000952</td>\n",
       "      <td>-0.602181</td>\n",
       "      <td>-0.987928</td>\n",
       "      <td>1</td>\n",
       "    </tr>\n",
       "    <tr>\n",
       "      <th>4</th>\n",
       "      <td>0.007700</td>\n",
       "      <td>0.007092</td>\n",
       "      <td>-0.257085</td>\n",
       "      <td>-1.003337</td>\n",
       "      <td>0.000625</td>\n",
       "      <td>0.007092</td>\n",
       "      <td>-0.256923</td>\n",
       "      <td>-1.005875</td>\n",
       "      <td>0</td>\n",
       "    </tr>\n",
       "    <tr>\n",
       "      <th>...</th>\n",
       "      <td>...</td>\n",
       "      <td>...</td>\n",
       "      <td>...</td>\n",
       "      <td>...</td>\n",
       "      <td>...</td>\n",
       "      <td>...</td>\n",
       "      <td>...</td>\n",
       "      <td>...</td>\n",
       "      <td>...</td>\n",
       "    </tr>\n",
       "    <tr>\n",
       "      <th>220</th>\n",
       "      <td>0.013825</td>\n",
       "      <td>0.006252</td>\n",
       "      <td>-0.131830</td>\n",
       "      <td>-1.091343</td>\n",
       "      <td>0.030025</td>\n",
       "      <td>0.006243</td>\n",
       "      <td>-0.145639</td>\n",
       "      <td>-1.101369</td>\n",
       "      <td>0</td>\n",
       "    </tr>\n",
       "    <tr>\n",
       "      <th>221</th>\n",
       "      <td>-0.012100</td>\n",
       "      <td>0.004425</td>\n",
       "      <td>-0.281331</td>\n",
       "      <td>-1.361673</td>\n",
       "      <td>0.004100</td>\n",
       "      <td>0.004470</td>\n",
       "      <td>-0.292878</td>\n",
       "      <td>-1.350930</td>\n",
       "      <td>0</td>\n",
       "    </tr>\n",
       "    <tr>\n",
       "      <th>222</th>\n",
       "      <td>0.011225</td>\n",
       "      <td>0.001518</td>\n",
       "      <td>-0.197547</td>\n",
       "      <td>0.424307</td>\n",
       "      <td>0.026825</td>\n",
       "      <td>0.001507</td>\n",
       "      <td>-0.204807</td>\n",
       "      <td>0.346040</td>\n",
       "      <td>0</td>\n",
       "    </tr>\n",
       "    <tr>\n",
       "      <th>223</th>\n",
       "      <td>-0.015050</td>\n",
       "      <td>0.001099</td>\n",
       "      <td>-0.067906</td>\n",
       "      <td>-1.155384</td>\n",
       "      <td>0.000550</td>\n",
       "      <td>0.001114</td>\n",
       "      <td>-0.062016</td>\n",
       "      <td>-1.168911</td>\n",
       "      <td>0</td>\n",
       "    </tr>\n",
       "    <tr>\n",
       "      <th>224</th>\n",
       "      <td>-0.008750</td>\n",
       "      <td>0.000337</td>\n",
       "      <td>-0.102621</td>\n",
       "      <td>-0.517691</td>\n",
       "      <td>-0.024175</td>\n",
       "      <td>0.000335</td>\n",
       "      <td>0.066657</td>\n",
       "      <td>-0.337464</td>\n",
       "      <td>0</td>\n",
       "    </tr>\n",
       "  </tbody>\n",
       "</table>\n",
       "<p>225 rows × 9 columns</p>\n",
       "</div>"
      ],
      "text/plain": [
       "     mag_mean   mag_var  mag_skew  mag_kurt  mag_w_e_mean  mag_w_e_var  \\\n",
       "0   -0.011750  0.003535  0.088334 -1.175707     -0.005750     0.003535   \n",
       "1   -0.011600  0.003450  0.054997 -1.173883     -0.005600     0.003450   \n",
       "2   -0.006625  0.002225 -0.906979 -0.527377     -0.000625     0.002225   \n",
       "3   -0.006975  0.000952 -0.602181 -0.987928     -0.012975     0.000952   \n",
       "4    0.007700  0.007092 -0.257085 -1.003337      0.000625     0.007092   \n",
       "..        ...       ...       ...       ...           ...          ...   \n",
       "220  0.013825  0.006252 -0.131830 -1.091343      0.030025     0.006243   \n",
       "221 -0.012100  0.004425 -0.281331 -1.361673      0.004100     0.004470   \n",
       "222  0.011225  0.001518 -0.197547  0.424307      0.026825     0.001507   \n",
       "223 -0.015050  0.001099 -0.067906 -1.155384      0.000550     0.001114   \n",
       "224 -0.008750  0.000337 -0.102621 -0.517691     -0.024175     0.000335   \n",
       "\n",
       "     mag_w_e_skew  mag_w_e_kurt  Periodicity  \n",
       "0        0.088334     -1.175707            0  \n",
       "1        0.054997     -1.173883            0  \n",
       "2       -0.906979     -0.527377            0  \n",
       "3       -0.602181     -0.987928            1  \n",
       "4       -0.256923     -1.005875            0  \n",
       "..            ...           ...          ...  \n",
       "220     -0.145639     -1.101369            0  \n",
       "221     -0.292878     -1.350930            0  \n",
       "222     -0.204807      0.346040            0  \n",
       "223     -0.062016     -1.168911            0  \n",
       "224      0.066657     -0.337464            0  \n",
       "\n",
       "[225 rows x 9 columns]"
      ]
     },
     "execution_count": 662,
     "metadata": {},
     "output_type": "execute_result"
    }
   ],
   "source": [
    "features_df2"
   ]
  },
  {
   "cell_type": "code",
   "execution_count": 663,
   "id": "8ce7e94e-5d42-4227-8b98-e83584110d51",
   "metadata": {},
   "outputs": [
    {
     "data": {
      "text/plain": [
       "Periodicity\n",
       "0    200\n",
       "1     25\n",
       "Name: count, dtype: int64"
      ]
     },
     "execution_count": 663,
     "metadata": {},
     "output_type": "execute_result"
    }
   ],
   "source": [
    "features_df2['Periodicity'].value_counts()"
   ]
  },
  {
   "cell_type": "code",
   "execution_count": 664,
   "id": "57494c0d-c7fb-4655-8690-bbf3d619acb6",
   "metadata": {},
   "outputs": [
    {
     "data": {
      "text/plain": [
       "0.9875"
      ]
     },
     "execution_count": 664,
     "metadata": {},
     "output_type": "execute_result"
    }
   ],
   "source": [
    "#Another Machine Learning model, a Random Forest classifier with an OverSampling.\n",
    "\n",
    "data = features_df2.copy()\n",
    "\n",
    "# Split the data into features and target\n",
    "X = data.drop('Periodicity', axis=1)[['mag_mean', 'mag_var', 'mag_skew', 'mag_kurt']]\n",
    "y = data['Periodicity']\n",
    "\n",
    "ros = RandomOverSampler(random_state=20, sampling_strategy='minority')\n",
    "\n",
    "X_res, y_res = ros.fit_resample(X, y)\n",
    "\n",
    "# Split the dataset into training and testing sets\n",
    "X6_train, X6_test, y6_train, y6_test = train_test_split(X_res, y_res, test_size=0.2, random_state=20, stratify = y_res)\n",
    "\n",
    "# Initialize the Random Forest Classifier\n",
    "rf_classifier6 = RandomForestClassifier(max_depth=3)\n",
    "\n",
    "# Train the model\n",
    "rf_classifier6.fit(X6_train, y6_train)\n",
    "\n",
    "# Make predictions on the test set\n",
    "y6_pred = rf_classifier6.predict(X6_test)\n",
    "\n",
    "# Evaluate the model\n",
    "accuracy_score(y6_pred,y6_test)"
   ]
  },
  {
   "cell_type": "code",
   "execution_count": 665,
   "id": "ab39527d-85e7-4351-8e3d-45dad79248ad",
   "metadata": {},
   "outputs": [
    {
     "data": {
      "image/png": "[encoded data removed]",
      "text/plain": [
       "<Figure size 640x480 with 2 Axes>"
      ]
     },
     "metadata": {},
     "output_type": "display_data"
    }
   ],
   "source": [
    "mc=confusion_matrix(y6_pred,y6_test)\n",
    "mc_norm = mc / np.linalg.norm(mc, axis=1, keepdims=True)\n",
    "sns.heatmap(pd.DataFrame(mc), cmap=sns.cm.rocket_r, annot=True, fmt='.5g');"
   ]
  },
  {
   "cell_type": "code",
   "execution_count": 666,
   "id": "3579e8d9-e18e-43ae-bc67-f4d9fedae9e9",
   "metadata": {},
   "outputs": [
    {
     "data": {
      "text/plain": [
       "0.9821428571428571"
      ]
     },
     "execution_count": 666,
     "metadata": {},
     "output_type": "execute_result"
    }
   ],
   "source": [
    "cross_val_score(rf_classifier6,X6_train,y6_train,cv=3,scoring='precision').mean()"
   ]
  },
  {
   "cell_type": "code",
   "execution_count": 667,
   "id": "424d0b49-436f-46c5-b343-20c5bb1f1379",
   "metadata": {},
   "outputs": [
    {
     "data": {
      "text/plain": [
       "1.0"
      ]
     },
     "execution_count": 667,
     "metadata": {},
     "output_type": "execute_result"
    }
   ],
   "source": [
    "cross_val_score(rf_classifier6,X6_train,y6_train,cv=3,scoring='recall').mean()"
   ]
  },
  {
   "cell_type": "code",
   "execution_count": 668,
   "id": "298664e9-6463-4c8c-853b-59e4f0d98f24",
   "metadata": {},
   "outputs": [
    {
     "data": {
      "text/plain": [
       "0.9878787878787879"
      ]
     },
     "execution_count": 668,
     "metadata": {},
     "output_type": "execute_result"
    }
   ],
   "source": [
    "cross_val_score(rf_classifier6,X6_train,y6_train,cv=3,scoring='f1').mean()"
   ]
  },
  {
   "cell_type": "code",
   "execution_count": 669,
   "id": "29ed6655-55ec-4a51-bfb7-241db6250ec6",
   "metadata": {},
   "outputs": [
    {
     "data": {
      "text/plain": [
       "1.0"
      ]
     },
     "execution_count": 669,
     "metadata": {},
     "output_type": "execute_result"
    }
   ],
   "source": [
    "#Precision score\n",
    "precision_score(y6_pred, y6_test)"
   ]
  },
  {
   "cell_type": "code",
   "execution_count": 670,
   "id": "2707a489-7a61-441a-9d45-8d6035abd886",
   "metadata": {},
   "outputs": [
    {
     "data": {
      "text/plain": [
       "0.9878048780487805"
      ]
     },
     "execution_count": 670,
     "metadata": {},
     "output_type": "execute_result"
    }
   ],
   "source": [
    "#ROC AUC score\n",
    "roc_auc_score(y6_pred,y6_test)"
   ]
  },
  {
   "cell_type": "code",
   "execution_count": 671,
   "id": "1a24326d-c077-40e3-b04e-4f8eba095ec3",
   "metadata": {},
   "outputs": [
    {
     "data": {
      "text/plain": [
       "1.0"
      ]
     },
     "execution_count": 671,
     "metadata": {},
     "output_type": "execute_result"
    }
   ],
   "source": [
    "#Recall score\n",
    "recall_score(y6_test, y6_pred) "
   ]
  },
  {
   "cell_type": "code",
   "execution_count": 672,
   "id": "df7c52e0-b9ff-4345-b174-adc31d8137cd",
   "metadata": {},
   "outputs": [
    {
     "data": {
      "text/plain": [
       "0.9876543209876543"
      ]
     },
     "execution_count": 672,
     "metadata": {},
     "output_type": "execute_result"
    }
   ],
   "source": [
    "#F1 score\n",
    "f1_score(y6_test, y6_pred) "
   ]
  },
  {
   "cell_type": "code",
   "execution_count": 673,
   "id": "20304a51-7cca-4143-8cd1-eab5ba243385",
   "metadata": {
    "scrolled": true
   },
   "outputs": [
    {
     "name": "stdout",
     "output_type": "stream",
     "text": [
      "              precision    recall  f1-score   support\n",
      "\n",
      "           0       1.00      0.97      0.99        40\n",
      "           1       0.98      1.00      0.99        40\n",
      "\n",
      "    accuracy                           0.99        80\n",
      "   macro avg       0.99      0.99      0.99        80\n",
      "weighted avg       0.99      0.99      0.99        80\n",
      "\n"
     ]
    }
   ],
   "source": [
    "print(classification_report(y6_test,y6_pred))"
   ]
  },
  {
   "cell_type": "markdown",
   "id": "d5f03786-2e47-4951-b006-41a494cebff4",
   "metadata": {},
   "source": [
    "#### Let's try an other classifier model, an XGBoost."
   ]
  },
  {
   "cell_type": "code",
   "execution_count": 709,
   "id": "7e624290-295c-41ee-a842-99e33111efe9",
   "metadata": {},
   "outputs": [],
   "source": [
    "# Scaling the data\n",
    "from sklearn.preprocessing import MinMaxScaler\n",
    "\n",
    "data = features_df2.copy()\n",
    "\n",
    "# Split the data into features and target\n",
    "X = data.drop('Periodicity', axis=1)[['mag_mean', 'mag_var', 'mag_skew', 'mag_kurt']]\n",
    "y = data['Periodicity']\n",
    "\n",
    "ros = RandomOverSampler(random_state=20, sampling_strategy='minority')\n",
    "\n",
    "X_res, y_res = ros.fit_resample(X, y)\n",
    "\n",
    "# Split the dataset into training and testing sets\n",
    "Xg_train, Xg_test, yg_train, yg_test = train_test_split(X_res, y_res, test_size=0.2, random_state=20, stratify = y_res)\n",
    "\n",
    "X_scaler, y_scaler = MinMaxScaler(), MinMaxScaler()\n",
    "\n",
    "# Fitting the scalers and transforming the training sets\n",
    "Xg_train = X_scaler.fit_transform(Xg_train)\n",
    "yg_train = y_scaler.fit_transform((yg_train).to_numpy().reshape(-1,1))\n",
    "\n",
    "# Transforming the test set\n",
    "Xg_test = X_scaler.transform(Xg_test)\n",
    "#yg_test = y_scaler.transform((yg_test).to_numpy().reshape(-1,1))"
   ]
  },
  {
   "cell_type": "code",
   "execution_count": 712,
   "id": "87d8d974-4885-498b-ae52-e01e2557780f",
   "metadata": {},
   "outputs": [],
   "source": [
    "#XGBoost\n",
    "\n",
    "xgbr = xgb.XGBRegressor(n_estimators=500)\n",
    "\n",
    "# Fitting XGBoost\n",
    "xgbr.fit(Xg_train, yg_train)\n",
    "\n",
    "# Predicting for the test set\n",
    "yg_pred = xgbr.predict(Xg_test)\n",
    "yg_pred = y_scaler.inverse_transform(yg_pred.reshape(-1,1))"
   ]
  },
  {
   "cell_type": "code",
   "execution_count": 713,
   "id": "089a80c1-1aa3-4966-b6a9-15eaa3bae726",
   "metadata": {},
   "outputs": [
    {
     "name": "stdout",
     "output_type": "stream",
     "text": [
      "The R2 was: 0.9968539370165822\n",
      "The RMSE was: 0.02804488805209332\n"
     ]
    }
   ],
   "source": [
    "# Metrics of the XGBoost prediction\n",
    "\n",
    "#from sklearn.metrics import mean_squared_error, r2_score\n",
    "score_xgb = r2_score(yg_test, yg_pred)\n",
    "std_xgb = np.sqrt(mean_squared_error(yg_test, yg_pred))\n",
    "print(\"The R2 was:\", score_xgb)\n",
    "print(\"The RMSE was:\", std_xgb)"
   ]
  },
  {
   "cell_type": "code",
   "execution_count": 716,
   "id": "54c9386c-3e7e-4743-8af3-03c544d69c9e",
   "metadata": {},
   "outputs": [
    {
     "data": {
      "image/png": "[encoded data removed]",
      "text/plain": [
       "<Figure size 500x500 with 1 Axes>"
      ]
     },
     "metadata": {},
     "output_type": "display_data"
    }
   ],
   "source": [
    "# Plotting the predict\n",
    "plt.figure(figsize=(5,5))\n",
    "plt.scatter(yg_pred, yg_test, s=5)\n",
    "plt.title(\"Classification Prediction\", fontsize=15)\n",
    "plt.xlabel(\"XGboost Prediction\", fontsize=15)\n",
    "plt.ylabel(\"Periodicity\", fontsize=15)\n",
    "plt.show()"
   ]
  },
  {
   "cell_type": "markdown",
   "id": "7575bdf2-81e1-458d-9ca8-870ff01c113f",
   "metadata": {},
   "source": [
    "#### Predict with the model XGBoost model"
   ]
  },
  {
   "cell_type": "code",
   "execution_count": 674,
   "id": "e1ea5590-4e6c-4417-9297-9fff23e24bc3",
   "metadata": {},
   "outputs": [
    {
     "data": {
      "text/html": [
       "<div>\n",
       "<style scoped>\n",
       "    .dataframe tbody tr th:only-of-type {\n",
       "        vertical-align: middle;\n",
       "    }\n",
       "\n",
       "    .dataframe tbody tr th {\n",
       "        vertical-align: top;\n",
       "    }\n",
       "\n",
       "    .dataframe thead th {\n",
       "        text-align: right;\n",
       "    }\n",
       "</style>\n",
       "<table border=\"1\" class=\"dataframe\">\n",
       "  <thead>\n",
       "    <tr style=\"text-align: right;\">\n",
       "      <th></th>\n",
       "      <th>mag_mean</th>\n",
       "      <th>mag_var</th>\n",
       "      <th>mag_skew</th>\n",
       "      <th>mag_kurt</th>\n",
       "      <th>AGN_n_obs</th>\n",
       "      <th>Observations</th>\n",
       "    </tr>\n",
       "  </thead>\n",
       "  <tbody>\n",
       "    <tr>\n",
       "      <th>0</th>\n",
       "      <td>0.040444</td>\n",
       "      <td>0.000665</td>\n",
       "      <td>0.501270</td>\n",
       "      <td>-0.884148</td>\n",
       "      <td>1424V-140415.csv</td>\n",
       "      <td>9</td>\n",
       "    </tr>\n",
       "    <tr>\n",
       "      <th>1</th>\n",
       "      <td>0.112933</td>\n",
       "      <td>0.000857</td>\n",
       "      <td>0.050781</td>\n",
       "      <td>-1.129494</td>\n",
       "      <td>1116V-130415.csv</td>\n",
       "      <td>15</td>\n",
       "    </tr>\n",
       "    <tr>\n",
       "      <th>2</th>\n",
       "      <td>0.227833</td>\n",
       "      <td>0.001494</td>\n",
       "      <td>0.611344</td>\n",
       "      <td>-1.191094</td>\n",
       "      <td>1116V-140415.csv</td>\n",
       "      <td>12</td>\n",
       "    </tr>\n",
       "    <tr>\n",
       "      <th>3</th>\n",
       "      <td>0.482750</td>\n",
       "      <td>0.003018</td>\n",
       "      <td>1.471751</td>\n",
       "      <td>1.302412</td>\n",
       "      <td>1510V-040419.csv</td>\n",
       "      <td>8</td>\n",
       "    </tr>\n",
       "    <tr>\n",
       "      <th>4</th>\n",
       "      <td>0.855000</td>\n",
       "      <td>0.001063</td>\n",
       "      <td>0.065795</td>\n",
       "      <td>-1.326321</td>\n",
       "      <td>0208R-130815.csv</td>\n",
       "      <td>9</td>\n",
       "    </tr>\n",
       "    <tr>\n",
       "      <th>5</th>\n",
       "      <td>1.327667</td>\n",
       "      <td>0.002670</td>\n",
       "      <td>0.494768</td>\n",
       "      <td>-1.370405</td>\n",
       "      <td>0208V-150915.csv</td>\n",
       "      <td>6</td>\n",
       "    </tr>\n",
       "    <tr>\n",
       "      <th>6</th>\n",
       "      <td>0.685889</td>\n",
       "      <td>0.000977</td>\n",
       "      <td>-0.312898</td>\n",
       "      <td>-1.128564</td>\n",
       "      <td>0208V-130815.csv</td>\n",
       "      <td>9</td>\n",
       "    </tr>\n",
       "    <tr>\n",
       "      <th>7</th>\n",
       "      <td>0.687000</td>\n",
       "      <td>0.001165</td>\n",
       "      <td>0.488886</td>\n",
       "      <td>-1.020814</td>\n",
       "      <td>2149V-120815.csv</td>\n",
       "      <td>4</td>\n",
       "    </tr>\n",
       "    <tr>\n",
       "      <th>8</th>\n",
       "      <td>0.678071</td>\n",
       "      <td>0.000681</td>\n",
       "      <td>0.542535</td>\n",
       "      <td>-0.866700</td>\n",
       "      <td>2155V-150915.csv</td>\n",
       "      <td>14</td>\n",
       "    </tr>\n",
       "  </tbody>\n",
       "</table>\n",
       "</div>"
      ],
      "text/plain": [
       "   mag_mean   mag_var  mag_skew  mag_kurt         AGN_n_obs  Observations\n",
       "0  0.040444  0.000665  0.501270 -0.884148  1424V-140415.csv             9\n",
       "1  0.112933  0.000857  0.050781 -1.129494  1116V-130415.csv            15\n",
       "2  0.227833  0.001494  0.611344 -1.191094  1116V-140415.csv            12\n",
       "3  0.482750  0.003018  1.471751  1.302412  1510V-040419.csv             8\n",
       "4  0.855000  0.001063  0.065795 -1.326321  0208R-130815.csv             9\n",
       "5  1.327667  0.002670  0.494768 -1.370405  0208V-150915.csv             6\n",
       "6  0.685889  0.000977 -0.312898 -1.128564  0208V-130815.csv             9\n",
       "7  0.687000  0.001165  0.488886 -1.020814  2149V-120815.csv             4\n",
       "8  0.678071  0.000681  0.542535 -0.866700  2155V-150915.csv            14"
      ]
     },
     "execution_count": 674,
     "metadata": {},
     "output_type": "execute_result"
    }
   ],
   "source": [
    "df_obs"
   ]
  },
  {
   "cell_type": "code",
   "execution_count": 675,
   "id": "142d50d6-9c65-4905-a7ca-2da1cf4dd020",
   "metadata": {},
   "outputs": [],
   "source": [
    "name_agn = df_obs['AGN_n_obs']\n",
    "\n",
    "obs = df_obs['Observations']"
   ]
  },
  {
   "cell_type": "code",
   "execution_count": 717,
   "id": "d9d83efd-7b26-414b-9f99-bb9cce8fd799",
   "metadata": {},
   "outputs": [
    {
     "name": "stdout",
     "output_type": "stream",
     "text": [
      "1424V-140415.csv :Classified [0] with 9 observations\n",
      "1116V-130415.csv :Classified [0] with 15 observations\n",
      "1116V-140415.csv :Classified [0] with 12 observations\n",
      "1510V-040419.csv :Classified [0] with 8 observations\n",
      "0208R-130815.csv :Classified [0] with 9 observations\n",
      "0208V-150915.csv :Classified [0] with 6 observations\n",
      "0208V-130815.csv :Classified [0] with 9 observations\n",
      "2149V-120815.csv :Classified [0] with 4 observations\n",
      "2155V-150915.csv :Classified [0] with 14 observations\n"
     ]
    }
   ],
   "source": [
    "#Predict whit the model using the variables AGNs classified before.\n",
    "\n",
    "df_obs_copy = df_obs.drop(['AGN_n_obs', 'Observations'], axis=1)\n",
    "\n",
    "for i in range(len(df_obs)):\n",
    "\n",
    "    \n",
    "    predicted_per = xgbr.predict(np.array(df_obs_copy.loc[i]).reshape(1,-1))\n",
    "\n",
    "    print(name_agn[i], ':Classified', predicted, 'with', obs[i], 'observations');\n"
   ]
  },
  {
   "cell_type": "code",
   "execution_count": 719,
   "id": "5aee5f36-ef72-4033-8a93-70cd970b73fd",
   "metadata": {
    "scrolled": true
   },
   "outputs": [
    {
     "name": "stdout",
     "output_type": "stream",
     "text": [
      "1424R-140415.csv :Classified [0] with 9 observations\n",
      "1424V-140415.csv :Classified [0] with 9 observations\n",
      "------------------------------------------------- agn_1424 is Periodic whit a probability of: 0.0 %\n",
      "0521V-111215.csv :Classified [0] with 21 observations\n",
      "0521R-111215.csv :Classified [0] with 20 observations\n",
      "------------------------------------------------- agn_0521 is Periodic whit a probability of: 0.0 %\n",
      "1116R-130415.csv :Classified [0] with 15 observations\n",
      "1116R-140415.csv :Classified [0] with 12 observations\n",
      "1116V-130415.csv :Classified [0] with 15 observations\n",
      "1116V-140415.csv :Classified [0] with 12 observations\n",
      "------------------------------------------------- agn_1116 is Periodic whit a probability of: 0.0 %\n",
      "1229V-120415.csv :Classified [0] with 13 observations\n",
      "1229R-120415.csv :Classified [0] with 13 observations\n",
      "------------------------------------------------- agn_1229 is Periodic whit a probability of: 0.0 %\n",
      "1958V-230414.csv :Classified [0] with 11 observations\n",
      "1958R-240414.csv :Classified [0] with 10 observations\n",
      "1958V-240414.csv :Classified [0] with 10 observations\n",
      "1958R-230414.csv :Classified [0] with 11 observations\n",
      "------------------------------------------------- agn_1958 is Periodic whit a probability of: 0.0 %\n",
      "1510V-120415.csv :Classified [0] with 15 observations\n",
      "1510R-080519.csv :Classified [0] with 15 observations\n",
      "1510V-080519.csv :Classified [0] with 15 observations\n",
      "1510V-040419.csv :Classified [0] with 8 observations\n",
      "1510V-130415.csv :Classified [0] with 12 observations\n",
      "1510R-070519.csv :Classified [0] with 17 observations\n",
      "1510R-090519.csv :Classified [0] with 13 observations\n",
      "1510V-090519.csv :Classified [0] with 13 observations\n",
      "1510V-060419.csv :Classified [0] with 8 observations\n",
      "1510R-130415.csv :Classified [0] with 13 observations\n",
      "1510R-050419.csv :Classified [0] with 15 observations\n",
      "1510V-100519.csv :Classified [0] with 13 observations\n",
      "1510V-050419.csv :Classified [0] with 15 observations\n",
      "1510R-100519.csv :Classified [0] with 14 observations\n",
      "1510V-070519.csv :Classified [0] with 17 observations\n",
      "1510R-060419.csv :Classified [0] with 8 observations\n",
      "1510R-070419.csv :Classified [0] with 12 observations\n",
      "1510V-070419.csv :Classified [0] with 12 observations\n",
      "1510R-140415.csv :Classified [0] with 12 observations\n",
      "1510R-120415.csv :Classified [0] with 15 observations\n",
      "1510V-140415.csv :Classified [0] with 12 observations\n",
      "1510R-040419.csv :Classified [0] with 7 observations\n",
      "------------------------------------------------- agn_1510 is Periodic whit a probability of: 0.0 %\n",
      "1256R-230414.csv :Classified [0] with 7 observations\n",
      "1256V-230414.csv :Classified [0] with 7 observations\n",
      "------------------------------------------------- agn_1256 is Periodic whit a probability of: 0.0 %\n",
      "0208R-130815.csv :Classified [0] with 9 observations\n",
      "0208R-150915.csv :Classified [0] with 6 observations\n",
      "0208V-170915.csv :Classified [0] with 8 observations\n",
      "0208V-150915.csv :Classified [0] with 6 observations\n",
      "0208R-170915.csv :Classified [0] with 8 observations\n",
      "0208V-130815.csv :Classified [0] with 9 observations\n",
      "------------------------------------------------- agn_0208 is Periodic whit a probability of: 0.0 %\n",
      "2005R-250819.csv :Classified [0] with 25 observations\n",
      "2005R-100519.csv :Classified [0] with 8 observations\n",
      "2005R-240819.csv :Classified [0] with 26 observations\n",
      "2005V-230819.csv :Classified [0] with 21 observations\n",
      "2005R-230819.csv :Classified [0] with 22 observations\n",
      "2005R-010919.csv :Classified [0] with 22 observations\n",
      "2005R-260819.csv :Classified [0] with 26 observations\n",
      "2005V-010919.csv :Classified [0] with 22 observations\n",
      "2005V-120815.csv :Classified [0] with 24 observations\n",
      "2005R-020919.csv :Classified [0] with 23 observations\n",
      "2005R-030919.csv :Classified [0] with 24 observations\n",
      "2005V-090519.csv :Classified [0] with 7 observations\n",
      "2005V-030919.csv :Classified [0] with 24 observations\n",
      "2005R-310819.csv :Classified [0] with 22 observations\n",
      "2005V-310819.csv :Classified [0] with 22 observations\n",
      "2005V-100519.csv :Classified [0] with 8 observations\n",
      "2005V-260819.csv :Classified [0] with 26 observations\n",
      "2005R-120815.csv :Classified [0] with 25 observations\n",
      "2005V-250819.csv :Classified [0] with 24 observations\n",
      "2005R-090519.csv :Classified [0] with 7 observations\n",
      "2005V-020919.csv :Classified [0] with 23 observations\n",
      "2005V-240819.csv :Classified [0] with 26 observations\n",
      "------------------------------------------------- agn_2005 is Periodic whit a probability of: 0.0 %\n",
      "1917R-250414.csv :Classified [0] with 13 observations\n",
      "1917V-260414.csv :Classified [0] with 10 observations\n",
      "1917R-260414.csv :Classified [0] with 11 observations\n",
      "1917V-250414.csv :Classified [0] with 13 observations\n",
      "------------------------------------------------- agn_1917 is Periodic whit a probability of: 0.0 %\n",
      "2310V-170915.csv :Classified [0] with 11 observations\n",
      "2310R-170915.csv :Classified [0] with 11 observations\n",
      "------------------------------------------------- agn_2310 is Periodic whit a probability of: 0.0 %\n",
      "0847R-270414.csv :Classified [0] with 7 observations\n",
      "0847V-220414.csv :Classified [0] with 12 observations\n",
      "0847V-260414.csv :Classified [0] with 3 observations\n",
      "0847R-250414.csv :Classified [0] with 5 observations\n",
      "0847V-270414.csv :Classified [0] with 7 observations\n",
      "0847R-220414.csv :Classified [0] with 12 observations\n",
      "0847R-260414.csv :Classified [0] with 3 observations\n",
      "0847V-250414.csv :Classified [0] with 5 observations\n",
      "0847V-240414.csv :Classified [0] with 5 observations\n",
      "0847V-230414.csv :Classified [0] with 3 observations\n",
      "------------------------------------------------- agn_0847 is Periodic whit a probability of: 0.0 %\n",
      "1127V-100415.csv :Classified [0] with 15 observations\n",
      "1127R-120415.csv :Classified [0] with 9 observations\n",
      "1127R-100415.csv :Classified [0] with 15 observations\n",
      "1127V-120415.csv :Classified [0] with 9 observations\n",
      "------------------------------------------------- agn_1127 is Periodic whit a probability of: 0.0 %\n",
      "0414V-281116.csv :Classified [0] with 12 observations\n",
      "0414R-271116.csv :Classified [0] with 13 observations\n",
      "0414V-271116.csv :Classified [0] with 13 observations\n",
      "0414R-281116.csv :Classified [0] with 11 observations\n",
      "------------------------------------------------- agn_0414 is Periodic whit a probability of: 0.0 %\n",
      "1443V-250414.csv :Classified [0] with 25 observations\n",
      "1443R-270414.csv :Classified [0] with 14 observations\n",
      "1443V-240414.csv :Classified [0] with 43 observations\n",
      "1443R-250414.csv :Classified [0] with 25 observations\n",
      "1443R-240414.csv :Classified [0] with 43 observations\n",
      "1443V-270414.csv :Classified [0] with 15 observations\n",
      "------------------------------------------------- agn_1443 is Periodic whit a probability of: 0.0 %\n",
      "2149V-120815.csv :Classified [0] with 4 observations\n",
      "2149V-170915.csv :Classified [0] with 5 observations\n",
      "2149R-120815.csv :Classified [0] with 3 observations\n",
      "2149R-170915.csv :Classified [0] with 5 observations\n",
      "------------------------------------------------- agn_2149 is Periodic whit a probability of: 0.0 %\n",
      "2126R-170915.csv :Classified [0] with 12 observations\n",
      "2126V-170915.csv :Classified [0] with 12 observations\n",
      "2126R-150915.csv :Classified [0] with 14 observations\n",
      "2126V-150915.csv :Classified [0] with 14 observations\n",
      "------------------------------------------------- agn_2126 is Periodic whit a probability of: 0.0 %\n",
      "2155R-150915.csv :Classified [0] with 14 observations\n",
      "2155V-130815.csv :Classified [0] with 19 observations\n",
      "2155R-130815.csv :Classified [0] with 19 observations\n",
      "2155V-150915.csv :Classified [0] with 14 observations\n",
      "------------------------------------------------- agn_2155 is Periodic whit a probability of: 0.0 %\n"
     ]
    }
   ],
   "source": [
    "#we go through all the subdirectories corresponding to each AGN and in each one all the files with different observations and we make a classification for each observation.\n",
    "\n",
    "path = '/home/anakin/Documents/Tesis/Codigo/AGNs/' #path to main directory\n",
    "filelist = os.listdir(path)\n",
    "df_obs_p = []\n",
    "names1 = []\n",
    "k=0\n",
    "#Make empty list to store all paths to subdirectories in.\n",
    "path2 = []\n",
    "for x in filelist:\n",
    "    if x.startswith('agn'):\n",
    "        path2.append(path + x+ '/')\n",
    "\n",
    "for i in path2:\n",
    "    filelist2 = os.listdir(i)\n",
    "    c=0\n",
    "    p=0\n",
    "    for j in filelist2:\n",
    "        if j.endswith('.csv'):\n",
    "            file = pd.read_csv(i+j, dtype=np.float64, na_values='INDEF')\n",
    "            long= len(file['D1'])\n",
    "\n",
    "            data_features_obs = []\n",
    "\n",
    "            features_obs = dataframe_obs(file)[0]\n",
    "\n",
    "            # Store the features \n",
    "            data_features_obs.append(features_obs) \n",
    "                \n",
    "            # Convert lists to a DataFrame\n",
    "            features_df_per = pd.DataFrame(data_features_obs)\n",
    "\n",
    "            # Predict with the model\n",
    "            predicted_per = xgbr.predict(features_df_per)\n",
    "    \n",
    "            print(j, ':Classified', predicted, 'with', long, 'observations')\n",
    "\n",
    "            c+=1\n",
    "            if predicted == 1:\n",
    "                \n",
    "                df_obs_p.append(features_obs)\n",
    "                names1.append(j)\n",
    "\n",
    "                p+=1\n",
    "                \n",
    "    prob = p/c*100\n",
    "\n",
    "    print('-------------------------------------------------',names_agns[k], 'is Periodic whit a probability of:', prob, '%')\n",
    "    k+=1\n",
    "\n",
    "# Convert lists to a DataFrame\n",
    "df_obs_p = pd.DataFrame(df_obs_p)\n",
    "df_obs_p['AGN_n_obs'] = names1\n",
    "\n",
    " # Save the DataFrame to a CSV file\n",
    "df_obs_p.to_csv('observations_AGNs.csv', index=False)"
   ]
  },
  {
   "cell_type": "markdown",
   "id": "52f3cd9f-32bc-424f-9d3c-1bd79debe767",
   "metadata": {},
   "source": [
    "#### Predict with the model Random Forest model"
   ]
  },
  {
   "cell_type": "code",
   "execution_count": 718,
   "id": "23099e82-53e5-45b4-a1de-c9ceaa54b6b1",
   "metadata": {},
   "outputs": [
    {
     "name": "stdout",
     "output_type": "stream",
     "text": [
      "1424V-140415.csv :Classified [0] with 9 observations\n",
      "1116V-130415.csv :Classified [0] with 15 observations\n",
      "1116V-140415.csv :Classified [0] with 12 observations\n",
      "1510V-040419.csv :Classified [0] with 8 observations\n",
      "0208R-130815.csv :Classified [0] with 9 observations\n",
      "0208V-150915.csv :Classified [0] with 6 observations\n",
      "0208V-130815.csv :Classified [0] with 9 observations\n",
      "2149V-120815.csv :Classified [0] with 4 observations\n",
      "2155V-150915.csv :Classified [0] with 14 observations\n"
     ]
    }
   ],
   "source": [
    "#Predict whit the model using the variables AGNs classified before.\n",
    "\n",
    "warnings.filterwarnings(\"ignore\")\n",
    "\n",
    "df_obs_copy = df_obs.drop(['AGN_n_obs', 'Observations'], axis=1)\n",
    "\n",
    "for i in range(len(df_obs)):\n",
    "\n",
    "    \n",
    "    predicted_per = rf_classifier6.predict(np.array(df_obs_copy.loc[i]).reshape(1,-1))\n",
    "\n",
    "    print(name_agn[i], ':Classified', predicted, 'with', obs[i], 'observations');\n",
    "\n",
    "    "
   ]
  },
  {
   "cell_type": "code",
   "execution_count": 677,
   "id": "3bcef387-4a3c-4514-80e2-19eb3b4b9b6a",
   "metadata": {
    "scrolled": true
   },
   "outputs": [
    {
     "name": "stdout",
     "output_type": "stream",
     "text": [
      "1424R-140415.csv :Classified [0] with 9 observations\n",
      "1424V-140415.csv :Classified [0] with 9 observations\n",
      "------------------------------------------------- agn_1424 is Periodic whit a probability of: 0.0 %\n",
      "0521V-111215.csv :Classified [0] with 21 observations\n",
      "0521R-111215.csv :Classified [0] with 20 observations\n",
      "------------------------------------------------- agn_0521 is Periodic whit a probability of: 0.0 %\n",
      "1116R-130415.csv :Classified [0] with 15 observations\n",
      "1116R-140415.csv :Classified [0] with 12 observations\n",
      "1116V-130415.csv :Classified [0] with 15 observations\n",
      "1116V-140415.csv :Classified [0] with 12 observations\n",
      "------------------------------------------------- agn_1116 is Periodic whit a probability of: 0.0 %\n",
      "1229V-120415.csv :Classified [0] with 13 observations\n",
      "1229R-120415.csv :Classified [0] with 13 observations\n",
      "------------------------------------------------- agn_1229 is Periodic whit a probability of: 0.0 %\n",
      "1958V-230414.csv :Classified [0] with 11 observations\n",
      "1958R-240414.csv :Classified [0] with 10 observations\n",
      "1958V-240414.csv :Classified [0] with 10 observations\n",
      "1958R-230414.csv :Classified [0] with 11 observations\n",
      "------------------------------------------------- agn_1958 is Periodic whit a probability of: 0.0 %\n",
      "1510V-120415.csv :Classified [0] with 15 observations\n",
      "1510R-080519.csv :Classified [0] with 15 observations\n",
      "1510V-080519.csv :Classified [0] with 15 observations\n",
      "1510V-040419.csv :Classified [0] with 8 observations\n",
      "1510V-130415.csv :Classified [0] with 12 observations\n",
      "1510R-070519.csv :Classified [0] with 17 observations\n",
      "1510R-090519.csv :Classified [0] with 13 observations\n",
      "1510V-090519.csv :Classified [0] with 13 observations\n",
      "1510V-060419.csv :Classified [0] with 8 observations\n",
      "1510R-130415.csv :Classified [0] with 13 observations\n",
      "1510R-050419.csv :Classified [0] with 15 observations\n",
      "1510V-100519.csv :Classified [0] with 13 observations\n",
      "1510V-050419.csv :Classified [0] with 15 observations\n",
      "1510R-100519.csv :Classified [0] with 14 observations\n",
      "1510V-070519.csv :Classified [0] with 17 observations\n",
      "1510R-060419.csv :Classified [0] with 8 observations\n",
      "1510R-070419.csv :Classified [0] with 12 observations\n",
      "1510V-070419.csv :Classified [0] with 12 observations\n",
      "1510R-140415.csv :Classified [0] with 12 observations\n",
      "1510R-120415.csv :Classified [0] with 15 observations\n",
      "1510V-140415.csv :Classified [0] with 12 observations\n",
      "1510R-040419.csv :Classified [0] with 7 observations\n",
      "------------------------------------------------- agn_1510 is Periodic whit a probability of: 0.0 %\n",
      "1256R-230414.csv :Classified [0] with 7 observations\n",
      "1256V-230414.csv :Classified [0] with 7 observations\n",
      "------------------------------------------------- agn_1256 is Periodic whit a probability of: 0.0 %\n",
      "0208R-130815.csv :Classified [0] with 9 observations\n",
      "0208R-150915.csv :Classified [0] with 6 observations\n",
      "0208V-170915.csv :Classified [0] with 8 observations\n",
      "0208V-150915.csv :Classified [0] with 6 observations\n",
      "0208R-170915.csv :Classified [0] with 8 observations\n",
      "0208V-130815.csv :Classified [0] with 9 observations\n",
      "------------------------------------------------- agn_0208 is Periodic whit a probability of: 0.0 %\n",
      "2005R-250819.csv :Classified [0] with 25 observations\n",
      "2005R-100519.csv :Classified [0] with 8 observations\n",
      "2005R-240819.csv :Classified [0] with 26 observations\n",
      "2005V-230819.csv :Classified [0] with 21 observations\n",
      "2005R-230819.csv :Classified [0] with 22 observations\n",
      "2005R-010919.csv :Classified [0] with 22 observations\n",
      "2005R-260819.csv :Classified [0] with 26 observations\n",
      "2005V-010919.csv :Classified [0] with 22 observations\n",
      "2005V-120815.csv :Classified [0] with 24 observations\n",
      "2005R-020919.csv :Classified [0] with 23 observations\n",
      "2005R-030919.csv :Classified [0] with 24 observations\n",
      "2005V-090519.csv :Classified [0] with 7 observations\n",
      "2005V-030919.csv :Classified [0] with 24 observations\n",
      "2005R-310819.csv :Classified [0] with 22 observations\n",
      "2005V-310819.csv :Classified [0] with 22 observations\n",
      "2005V-100519.csv :Classified [0] with 8 observations\n",
      "2005V-260819.csv :Classified [0] with 26 observations\n",
      "2005R-120815.csv :Classified [0] with 25 observations\n",
      "2005V-250819.csv :Classified [0] with 24 observations\n",
      "2005R-090519.csv :Classified [0] with 7 observations\n",
      "2005V-020919.csv :Classified [0] with 23 observations\n",
      "2005V-240819.csv :Classified [0] with 26 observations\n",
      "------------------------------------------------- agn_2005 is Periodic whit a probability of: 0.0 %\n",
      "1917R-250414.csv :Classified [0] with 13 observations\n",
      "1917V-260414.csv :Classified [0] with 10 observations\n",
      "1917R-260414.csv :Classified [0] with 11 observations\n",
      "1917V-250414.csv :Classified [0] with 13 observations\n",
      "------------------------------------------------- agn_1917 is Periodic whit a probability of: 0.0 %\n",
      "2310V-170915.csv :Classified [0] with 11 observations\n",
      "2310R-170915.csv :Classified [0] with 11 observations\n",
      "------------------------------------------------- agn_2310 is Periodic whit a probability of: 0.0 %\n",
      "0847R-270414.csv :Classified [0] with 7 observations\n",
      "0847V-220414.csv :Classified [0] with 12 observations\n",
      "0847V-260414.csv :Classified [0] with 3 observations\n",
      "0847R-250414.csv :Classified [0] with 5 observations\n",
      "0847V-270414.csv :Classified [0] with 7 observations\n",
      "0847R-220414.csv :Classified [0] with 12 observations\n",
      "0847R-260414.csv :Classified [0] with 3 observations\n",
      "0847V-250414.csv :Classified [0] with 5 observations\n",
      "0847V-240414.csv :Classified [0] with 5 observations\n",
      "0847V-230414.csv :Classified [0] with 3 observations\n",
      "------------------------------------------------- agn_0847 is Periodic whit a probability of: 0.0 %\n",
      "1127V-100415.csv :Classified [0] with 15 observations\n",
      "1127R-120415.csv :Classified [0] with 9 observations\n",
      "1127R-100415.csv :Classified [0] with 15 observations\n",
      "1127V-120415.csv :Classified [0] with 9 observations\n",
      "------------------------------------------------- agn_1127 is Periodic whit a probability of: 0.0 %\n",
      "0414V-281116.csv :Classified [0] with 12 observations\n",
      "0414R-271116.csv :Classified [0] with 13 observations\n",
      "0414V-271116.csv :Classified [0] with 13 observations\n",
      "0414R-281116.csv :Classified [0] with 11 observations\n",
      "------------------------------------------------- agn_0414 is Periodic whit a probability of: 0.0 %\n",
      "1443V-250414.csv :Classified [0] with 25 observations\n",
      "1443R-270414.csv :Classified [0] with 14 observations\n",
      "1443V-240414.csv :Classified [0] with 43 observations\n",
      "1443R-250414.csv :Classified [0] with 25 observations\n",
      "1443R-240414.csv :Classified [0] with 43 observations\n",
      "1443V-270414.csv :Classified [0] with 15 observations\n",
      "------------------------------------------------- agn_1443 is Periodic whit a probability of: 0.0 %\n",
      "2149V-120815.csv :Classified [0] with 4 observations\n",
      "2149V-170915.csv :Classified [0] with 5 observations\n",
      "2149R-120815.csv :Classified [0] with 3 observations\n",
      "2149R-170915.csv :Classified [0] with 5 observations\n",
      "------------------------------------------------- agn_2149 is Periodic whit a probability of: 0.0 %\n",
      "2126R-170915.csv :Classified [0] with 12 observations\n",
      "2126V-170915.csv :Classified [0] with 12 observations\n",
      "2126R-150915.csv :Classified [0] with 14 observations\n",
      "2126V-150915.csv :Classified [0] with 14 observations\n",
      "------------------------------------------------- agn_2126 is Periodic whit a probability of: 0.0 %\n",
      "2155R-150915.csv :Classified [0] with 14 observations\n",
      "2155V-130815.csv :Classified [0] with 19 observations\n",
      "2155R-130815.csv :Classified [0] with 19 observations\n",
      "2155V-150915.csv :Classified [0] with 14 observations\n",
      "------------------------------------------------- agn_2155 is Periodic whit a probability of: 0.0 %\n"
     ]
    }
   ],
   "source": [
    "#we go through all the subdirectories corresponding to each AGN and in each one all the files with different observations and we make a classification for each observation.\n",
    "\n",
    "path = '/home/anakin/Documents/Tesis/Codigo/AGNs/' #path to main directory\n",
    "filelist = os.listdir(path)\n",
    "df_obs_p = []\n",
    "names1 = []\n",
    "k=0\n",
    "#Make empty list to store all paths to subdirectories in.\n",
    "path2 = []\n",
    "for x in filelist:\n",
    "    if x.startswith('agn'):\n",
    "        path2.append(path + x+ '/')\n",
    "\n",
    "for i in path2:\n",
    "    filelist2 = os.listdir(i)\n",
    "    c=0\n",
    "    p=0\n",
    "    for j in filelist2:\n",
    "        if j.endswith('.csv'):\n",
    "            file = pd.read_csv(i+j, dtype=np.float64, na_values='INDEF')\n",
    "            long= len(file['D1'])\n",
    "\n",
    "            data_features_obs = []\n",
    "\n",
    "            features_obs = dataframe_obs(file)[0]\n",
    "\n",
    "            # Store the features \n",
    "            data_features_obs.append(features_obs) \n",
    "                \n",
    "            # Convert lists to a DataFrame\n",
    "            features_df_per = pd.DataFrame(data_features_obs)\n",
    "\n",
    "            # Predict with the model\n",
    "            predicted_per = rf_classifier6.predict(features_df_per)\n",
    "    \n",
    "            print(j, ':Classified', predicted, 'with', long, 'observations')\n",
    "\n",
    "            c+=1\n",
    "            if predicted == 1:\n",
    "                \n",
    "                df_obs_p.append(features_obs)\n",
    "                names1.append(j)\n",
    "\n",
    "                p+=1\n",
    "                \n",
    "    prob = p/c*100\n",
    "\n",
    "    print('-------------------------------------------------',names_agns[k], 'is Periodic whit a probability of:', prob, '%')\n",
    "    k+=1\n",
    "\n",
    "# Convert lists to a DataFrame\n",
    "df_obs_p = pd.DataFrame(df_obs_p)\n",
    "df_obs_p['AGN_n_obs'] = names1\n",
    "\n",
    " # Save the DataFrame to a CSV file\n",
    "df_obs_p.to_csv('observations_AGNs.csv', index=False)"
   ]
  },
  {
   "cell_type": "code",
   "execution_count": 678,
   "id": "4a8d8230-a921-4469-8875-9f27d4dcb8ca",
   "metadata": {},
   "outputs": [
    {
     "data": {
      "text/html": [
       "<div>\n",
       "<style scoped>\n",
       "    .dataframe tbody tr th:only-of-type {\n",
       "        vertical-align: middle;\n",
       "    }\n",
       "\n",
       "    .dataframe tbody tr th {\n",
       "        vertical-align: top;\n",
       "    }\n",
       "\n",
       "    .dataframe thead th {\n",
       "        text-align: right;\n",
       "    }\n",
       "</style>\n",
       "<table border=\"1\" class=\"dataframe\">\n",
       "  <thead>\n",
       "    <tr style=\"text-align: right;\">\n",
       "      <th></th>\n",
       "      <th>AGN_n_obs</th>\n",
       "    </tr>\n",
       "  </thead>\n",
       "  <tbody>\n",
       "  </tbody>\n",
       "</table>\n",
       "</div>"
      ],
      "text/plain": [
       "Empty DataFrame\n",
       "Columns: [AGN_n_obs]\n",
       "Index: []"
      ]
     },
     "execution_count": 678,
     "metadata": {},
     "output_type": "execute_result"
    }
   ],
   "source": [
    "df_obs_p"
   ]
  },
  {
   "cell_type": "markdown",
   "id": "72ede0cf-da19-455d-a1d9-6f33f9bf4148",
   "metadata": {},
   "source": [
    "#### One more time, we'll create another model using the magnitudes with erros variables. We do this to verify if the observationals errors are sufficiently significant to change our predictions."
   ]
  },
  {
   "cell_type": "code",
   "execution_count": 679,
   "id": "3a77c8db-3db0-4d94-8750-c98ef5f43daf",
   "metadata": {},
   "outputs": [
    {
     "data": {
      "text/plain": [
       "0.9875"
      ]
     },
     "execution_count": 679,
     "metadata": {},
     "output_type": "execute_result"
    }
   ],
   "source": [
    "#Another Machine Learning model, a Random Forest classifier with an OverSampling.\n",
    "\n",
    "data = features_df2.copy()\n",
    "\n",
    "# Split the data into features and target\n",
    "X = data.drop('Periodicity', axis=1)[['mag_w_e_mean', 'mag_w_e_var', 'mag_w_e_skew', 'mag_w_e_kurt']]\n",
    "y = data['Periodicity']\n",
    "\n",
    "ros = RandomOverSampler(random_state=20, sampling_strategy='minority')\n",
    "\n",
    "X_res, y_res = ros.fit_resample(X, y)\n",
    "\n",
    "# Split the dataset into training and testing sets\n",
    "X00_train, X00_test, y00_train, y00_test = train_test_split(X_res, y_res, test_size=0.2, random_state=20, stratify = y_res)\n",
    "\n",
    "# Initialize the Random Forest Classifier\n",
    "rf_classifier00 = RandomForestClassifier(max_depth=3)\n",
    "\n",
    "# Train the model\n",
    "rf_classifier00.fit(X00_train, y00_train)\n",
    "\n",
    "# Make predictions on the test set\n",
    "y00_pred = rf_classifier00.predict(X00_test)\n",
    "\n",
    "# Evaluate the model\n",
    "accuracy_score(y00_pred,y00_test)"
   ]
  },
  {
   "cell_type": "code",
   "execution_count": 680,
   "id": "2c81eab6-7b7d-4a8d-bcef-1f0552a5f3d2",
   "metadata": {},
   "outputs": [
    {
     "data": {
      "image/png": "[encoded data removed]",
      "text/plain": [
       "<Figure size 640x480 with 2 Axes>"
      ]
     },
     "metadata": {},
     "output_type": "display_data"
    }
   ],
   "source": [
    "mc=confusion_matrix(y00_pred,y00_test)\n",
    "mc_norm = mc / np.linalg.norm(mc, axis=1, keepdims=True)\n",
    "sns.heatmap(pd.DataFrame(mc), cmap=sns.cm.rocket_r, annot=True, fmt='.5g');"
   ]
  },
  {
   "cell_type": "code",
   "execution_count": 681,
   "id": "374f9379-5579-4f16-a023-1a43383e7492",
   "metadata": {},
   "outputs": [
    {
     "data": {
      "text/plain": [
       "0.9705475810738968"
      ]
     },
     "execution_count": 681,
     "metadata": {},
     "output_type": "execute_result"
    }
   ],
   "source": [
    "cross_val_score(rf_classifier00,X00_train,y00_train,cv=3,scoring='precision').mean()"
   ]
  },
  {
   "cell_type": "code",
   "execution_count": 682,
   "id": "9023aad4-a69d-47ed-a017-32e5766207bb",
   "metadata": {},
   "outputs": [
    {
     "data": {
      "text/plain": [
       "1.0"
      ]
     },
     "execution_count": 682,
     "metadata": {},
     "output_type": "execute_result"
    }
   ],
   "source": [
    "cross_val_score(rf_classifier00,X00_train,y00_train,cv=3,scoring='recall').mean()"
   ]
  },
  {
   "cell_type": "code",
   "execution_count": 683,
   "id": "1b3268a2-6982-45fb-99f7-5e617e0b1938",
   "metadata": {},
   "outputs": [
    {
     "data": {
      "text/plain": [
       "0.984984984984985"
      ]
     },
     "execution_count": 683,
     "metadata": {},
     "output_type": "execute_result"
    }
   ],
   "source": [
    "cross_val_score(rf_classifier00,X00_train,y00_train,cv=3,scoring='f1').mean()"
   ]
  },
  {
   "cell_type": "code",
   "execution_count": 684,
   "id": "dec84e70-493c-44f1-b67c-7e5592f5d923",
   "metadata": {},
   "outputs": [
    {
     "data": {
      "text/plain": [
       "1.0"
      ]
     },
     "execution_count": 684,
     "metadata": {},
     "output_type": "execute_result"
    }
   ],
   "source": [
    "#Precision score\n",
    "precision_score(y00_pred, y00_test)"
   ]
  },
  {
   "cell_type": "code",
   "execution_count": 685,
   "id": "4e495641-fc6c-4150-b686-836439b65be9",
   "metadata": {},
   "outputs": [
    {
     "data": {
      "text/plain": [
       "0.9878048780487805"
      ]
     },
     "execution_count": 685,
     "metadata": {},
     "output_type": "execute_result"
    }
   ],
   "source": [
    "#ROC AUC score\n",
    "roc_auc_score(y00_pred,y00_test)"
   ]
  },
  {
   "cell_type": "code",
   "execution_count": 686,
   "id": "3a6697e2-0046-4177-863b-22e8e8becb25",
   "metadata": {},
   "outputs": [
    {
     "data": {
      "text/plain": [
       "1.0"
      ]
     },
     "execution_count": 686,
     "metadata": {},
     "output_type": "execute_result"
    }
   ],
   "source": [
    "#Recall score\n",
    "recall_score(y00_test, y00_pred) "
   ]
  },
  {
   "cell_type": "code",
   "execution_count": 687,
   "id": "5280e707-e7c6-4e44-b86d-28a6efd28a18",
   "metadata": {},
   "outputs": [
    {
     "data": {
      "text/plain": [
       "0.9876543209876543"
      ]
     },
     "execution_count": 687,
     "metadata": {},
     "output_type": "execute_result"
    }
   ],
   "source": [
    "#F1 score\n",
    "f1_score(y00_test, y00_pred) "
   ]
  },
  {
   "cell_type": "code",
   "execution_count": 688,
   "id": "24608122-a974-49ba-b97d-f1561dd6d547",
   "metadata": {},
   "outputs": [
    {
     "name": "stdout",
     "output_type": "stream",
     "text": [
      "              precision    recall  f1-score   support\n",
      "\n",
      "           0       1.00      0.97      0.99        40\n",
      "           1       0.98      1.00      0.99        40\n",
      "\n",
      "    accuracy                           0.99        80\n",
      "   macro avg       0.99      0.99      0.99        80\n",
      "weighted avg       0.99      0.99      0.99        80\n",
      "\n"
     ]
    }
   ],
   "source": [
    "print(classification_report(y00_test,y00_pred))"
   ]
  },
  {
   "cell_type": "code",
   "execution_count": 689,
   "id": "360f4d88-7133-484c-be4e-c821730db2b9",
   "metadata": {
    "scrolled": true
   },
   "outputs": [
    {
     "name": "stdout",
     "output_type": "stream",
     "text": [
      "1424R-140415.csv :Classified [0] with 9 observations\n",
      "1424V-140415.csv :Classified [0] with 9 observations\n",
      "------------------------------------------------- agn_1424 is Periodic whit a probability of: 0.0 %\n",
      "0521V-111215.csv :Classified [0] with 21 observations\n",
      "0521R-111215.csv :Classified [0] with 20 observations\n",
      "------------------------------------------------- agn_0521 is Periodic whit a probability of: 0.0 %\n",
      "1116R-130415.csv :Classified [0] with 15 observations\n",
      "1116R-140415.csv :Classified [0] with 12 observations\n",
      "1116V-130415.csv :Classified [0] with 15 observations\n",
      "1116V-140415.csv :Classified [0] with 12 observations\n",
      "------------------------------------------------- agn_1116 is Periodic whit a probability of: 0.0 %\n",
      "1229V-120415.csv :Classified [0] with 13 observations\n",
      "1229R-120415.csv :Classified [0] with 13 observations\n",
      "------------------------------------------------- agn_1229 is Periodic whit a probability of: 0.0 %\n",
      "1958V-230414.csv :Classified [0] with 11 observations\n",
      "1958R-240414.csv :Classified [0] with 10 observations\n",
      "1958V-240414.csv :Classified [0] with 10 observations\n",
      "1958R-230414.csv :Classified [0] with 11 observations\n",
      "------------------------------------------------- agn_1958 is Periodic whit a probability of: 0.0 %\n",
      "1510V-120415.csv :Classified [0] with 15 observations\n",
      "1510R-080519.csv :Classified [0] with 15 observations\n",
      "1510V-080519.csv :Classified [0] with 15 observations\n",
      "1510V-040419.csv :Classified [0] with 8 observations\n",
      "1510V-130415.csv :Classified [0] with 12 observations\n",
      "1510R-070519.csv :Classified [0] with 17 observations\n",
      "1510R-090519.csv :Classified [0] with 13 observations\n",
      "1510V-090519.csv :Classified [0] with 13 observations\n",
      "1510V-060419.csv :Classified [0] with 8 observations\n",
      "1510R-130415.csv :Classified [0] with 13 observations\n",
      "1510R-050419.csv :Classified [0] with 15 observations\n",
      "1510V-100519.csv :Classified [0] with 13 observations\n",
      "1510V-050419.csv :Classified [0] with 15 observations\n",
      "1510R-100519.csv :Classified [0] with 14 observations\n",
      "1510V-070519.csv :Classified [0] with 17 observations\n",
      "1510R-060419.csv :Classified [0] with 8 observations\n",
      "1510R-070419.csv :Classified [0] with 12 observations\n",
      "1510V-070419.csv :Classified [0] with 12 observations\n",
      "1510R-140415.csv :Classified [0] with 12 observations\n",
      "1510R-120415.csv :Classified [0] with 15 observations\n",
      "1510V-140415.csv :Classified [0] with 12 observations\n",
      "1510R-040419.csv :Classified [0] with 7 observations\n",
      "------------------------------------------------- agn_1510 is Periodic whit a probability of: 0.0 %\n",
      "1256R-230414.csv :Classified [0] with 7 observations\n",
      "1256V-230414.csv :Classified [0] with 7 observations\n",
      "------------------------------------------------- agn_1256 is Periodic whit a probability of: 0.0 %\n",
      "0208R-130815.csv :Classified [0] with 9 observations\n",
      "0208R-150915.csv :Classified [0] with 6 observations\n",
      "0208V-170915.csv :Classified [0] with 8 observations\n",
      "0208V-150915.csv :Classified [0] with 6 observations\n",
      "0208R-170915.csv :Classified [0] with 8 observations\n",
      "0208V-130815.csv :Classified [0] with 9 observations\n",
      "------------------------------------------------- agn_0208 is Periodic whit a probability of: 0.0 %\n",
      "2005R-250819.csv :Classified [0] with 25 observations\n",
      "2005R-100519.csv :Classified [0] with 8 observations\n",
      "2005R-240819.csv :Classified [0] with 26 observations\n",
      "2005V-230819.csv :Classified [0] with 21 observations\n",
      "2005R-230819.csv :Classified [0] with 22 observations\n",
      "2005R-010919.csv :Classified [0] with 22 observations\n",
      "2005R-260819.csv :Classified [0] with 26 observations\n",
      "2005V-010919.csv :Classified [0] with 22 observations\n",
      "2005V-120815.csv :Classified [0] with 24 observations\n",
      "2005R-020919.csv :Classified [0] with 23 observations\n",
      "2005R-030919.csv :Classified [0] with 24 observations\n",
      "2005V-090519.csv :Classified [0] with 7 observations\n",
      "2005V-030919.csv :Classified [0] with 24 observations\n",
      "2005R-310819.csv :Classified [0] with 22 observations\n",
      "2005V-310819.csv :Classified [0] with 22 observations\n",
      "2005V-100519.csv :Classified [0] with 8 observations\n",
      "2005V-260819.csv :Classified [0] with 26 observations\n",
      "2005R-120815.csv :Classified [0] with 25 observations\n",
      "2005V-250819.csv :Classified [0] with 24 observations\n",
      "2005R-090519.csv :Classified [0] with 7 observations\n",
      "2005V-020919.csv :Classified [0] with 23 observations\n",
      "2005V-240819.csv :Classified [0] with 26 observations\n",
      "------------------------------------------------- agn_2005 is Periodic whit a probability of: 0.0 %\n",
      "1917R-250414.csv :Classified [0] with 13 observations\n",
      "1917V-260414.csv :Classified [0] with 10 observations\n",
      "1917R-260414.csv :Classified [0] with 11 observations\n",
      "1917V-250414.csv :Classified [0] with 13 observations\n",
      "------------------------------------------------- agn_1917 is Periodic whit a probability of: 0.0 %\n",
      "2310V-170915.csv :Classified [0] with 11 observations\n",
      "2310R-170915.csv :Classified [0] with 11 observations\n",
      "------------------------------------------------- agn_2310 is Periodic whit a probability of: 0.0 %\n",
      "0847R-270414.csv :Classified [0] with 7 observations\n",
      "0847V-220414.csv :Classified [0] with 12 observations\n",
      "0847V-260414.csv :Classified [0] with 3 observations\n",
      "0847R-250414.csv :Classified [0] with 5 observations\n",
      "0847V-270414.csv :Classified [0] with 7 observations\n",
      "0847R-220414.csv :Classified [0] with 12 observations\n",
      "0847R-260414.csv :Classified [0] with 3 observations\n",
      "0847V-250414.csv :Classified [0] with 5 observations\n",
      "0847V-240414.csv :Classified [0] with 5 observations\n",
      "0847V-230414.csv :Classified [0] with 3 observations\n",
      "------------------------------------------------- agn_0847 is Periodic whit a probability of: 0.0 %\n",
      "1127V-100415.csv :Classified [0] with 15 observations\n",
      "1127R-120415.csv :Classified [0] with 9 observations\n",
      "1127R-100415.csv :Classified [0] with 15 observations\n",
      "1127V-120415.csv :Classified [0] with 9 observations\n",
      "------------------------------------------------- agn_1127 is Periodic whit a probability of: 0.0 %\n",
      "0414V-281116.csv :Classified [0] with 12 observations\n",
      "0414R-271116.csv :Classified [0] with 13 observations\n",
      "0414V-271116.csv :Classified [0] with 13 observations\n",
      "0414R-281116.csv :Classified [0] with 11 observations\n",
      "------------------------------------------------- agn_0414 is Periodic whit a probability of: 0.0 %\n",
      "1443V-250414.csv :Classified [0] with 25 observations\n",
      "1443R-270414.csv :Classified [0] with 14 observations\n",
      "1443V-240414.csv :Classified [0] with 43 observations\n",
      "1443R-250414.csv :Classified [0] with 25 observations\n",
      "1443R-240414.csv :Classified [0] with 43 observations\n",
      "1443V-270414.csv :Classified [0] with 15 observations\n",
      "------------------------------------------------- agn_1443 is Periodic whit a probability of: 0.0 %\n",
      "2149V-120815.csv :Classified [0] with 4 observations\n",
      "2149V-170915.csv :Classified [0] with 5 observations\n",
      "2149R-120815.csv :Classified [0] with 3 observations\n",
      "2149R-170915.csv :Classified [0] with 5 observations\n",
      "------------------------------------------------- agn_2149 is Periodic whit a probability of: 0.0 %\n",
      "2126R-170915.csv :Classified [0] with 12 observations\n",
      "2126V-170915.csv :Classified [0] with 12 observations\n",
      "2126R-150915.csv :Classified [0] with 14 observations\n",
      "2126V-150915.csv :Classified [0] with 14 observations\n",
      "------------------------------------------------- agn_2126 is Periodic whit a probability of: 0.0 %\n",
      "2155R-150915.csv :Classified [0] with 14 observations\n",
      "2155V-130815.csv :Classified [0] with 19 observations\n",
      "2155R-130815.csv :Classified [0] with 19 observations\n",
      "2155V-150915.csv :Classified [0] with 14 observations\n",
      "------------------------------------------------- agn_2155 is Periodic whit a probability of: 0.0 %\n"
     ]
    }
   ],
   "source": [
    "#we go through all the subdirectories corresponding to each AGN and in each one all the files with different observations and we make a classification for each observation.\n",
    "\n",
    "path = '/home/anakin/Documents/Tesis/Codigo/AGNs/' #path to main directory\n",
    "filelist = os.listdir(path)\n",
    "df_obs_p_err = []\n",
    "names1 = []\n",
    "k=0\n",
    "#Make empty list to store all paths to subdirectories in.\n",
    "path2 = []\n",
    "for x in filelist:\n",
    "    if x.startswith('agn'):\n",
    "        path2.append(path + x+ '/')\n",
    "\n",
    "for i in path2:\n",
    "    filelist2 = os.listdir(i)\n",
    "    c=0\n",
    "    p=0\n",
    "    for j in filelist2:\n",
    "        if j.endswith('.csv'):\n",
    "            file = pd.read_csv(i+j, dtype=np.float64, na_values='INDEF')\n",
    "            long= len(file['D1'])\n",
    "\n",
    "            data_features_obs = []\n",
    "\n",
    "            features_obs = dataframe_obs(file)[1]\n",
    "\n",
    "            # Store the features \n",
    "            data_features_obs.append(features_obs) \n",
    "                \n",
    "            # Convert lists to a DataFrame\n",
    "            features_df_per = pd.DataFrame(data_features_obs)\n",
    "\n",
    "            # Predict with the model\n",
    "            predicted_per = rf_classifier00.predict(features_df_per)\n",
    "    \n",
    "            print(j, ':Classified', predicted, 'with', long, 'observations')\n",
    "\n",
    "            c+=1\n",
    "            if predicted == 1:\n",
    "                \n",
    "                df_obs_p_err.append(features_obs)\n",
    "                names1.append(j)\n",
    "\n",
    "                p+=1\n",
    "                \n",
    "    prob = p/c*100\n",
    "\n",
    "    print('-------------------------------------------------',names_agns[k], 'is Periodic whit a probability of:', prob, '%')\n",
    "    k+=1\n",
    "\n",
    "# Convert lists to a DataFrame\n",
    "df_obs_p_err = pd.DataFrame(df_obs_p_err)\n",
    "df_obs_p_err['AGN_n_obs'] = names1\n",
    "\n",
    " # Save the DataFrame to a CSV file\n",
    "df_obs_p_err.to_csv('observations_AGNs.csv', index=False)"
   ]
  },
  {
   "cell_type": "code",
   "execution_count": 690,
   "id": "f6c8002f-90ad-47c8-8db6-9e0b1d113ad5",
   "metadata": {},
   "outputs": [
    {
     "data": {
      "text/html": [
       "<div>\n",
       "<style scoped>\n",
       "    .dataframe tbody tr th:only-of-type {\n",
       "        vertical-align: middle;\n",
       "    }\n",
       "\n",
       "    .dataframe tbody tr th {\n",
       "        vertical-align: top;\n",
       "    }\n",
       "\n",
       "    .dataframe thead th {\n",
       "        text-align: right;\n",
       "    }\n",
       "</style>\n",
       "<table border=\"1\" class=\"dataframe\">\n",
       "  <thead>\n",
       "    <tr style=\"text-align: right;\">\n",
       "      <th></th>\n",
       "      <th>AGN_n_obs</th>\n",
       "    </tr>\n",
       "  </thead>\n",
       "  <tbody>\n",
       "  </tbody>\n",
       "</table>\n",
       "</div>"
      ],
      "text/plain": [
       "Empty DataFrame\n",
       "Columns: [AGN_n_obs]\n",
       "Index: []"
      ]
     },
     "execution_count": 690,
     "metadata": {},
     "output_type": "execute_result"
    }
   ],
   "source": [
    "df_obs_p"
   ]
  },
  {
   "cell_type": "code",
   "execution_count": 691,
   "id": "afc765d2-8960-4910-b6fd-6ab8529084a3",
   "metadata": {},
   "outputs": [
    {
     "data": {
      "text/html": [
       "<div>\n",
       "<style scoped>\n",
       "    .dataframe tbody tr th:only-of-type {\n",
       "        vertical-align: middle;\n",
       "    }\n",
       "\n",
       "    .dataframe tbody tr th {\n",
       "        vertical-align: top;\n",
       "    }\n",
       "\n",
       "    .dataframe thead th {\n",
       "        text-align: right;\n",
       "    }\n",
       "</style>\n",
       "<table border=\"1\" class=\"dataframe\">\n",
       "  <thead>\n",
       "    <tr style=\"text-align: right;\">\n",
       "      <th></th>\n",
       "      <th>AGN_n_obs</th>\n",
       "    </tr>\n",
       "  </thead>\n",
       "  <tbody>\n",
       "  </tbody>\n",
       "</table>\n",
       "</div>"
      ],
      "text/plain": [
       "Empty DataFrame\n",
       "Columns: [AGN_n_obs]\n",
       "Index: []"
      ]
     },
     "execution_count": 691,
     "metadata": {},
     "output_type": "execute_result"
    }
   ],
   "source": [
    "df_obs_p_err"
   ]
  }
 ],
 "metadata": {
  "kernelspec": {
   "display_name": "Python 3 (ipykernel)",
   "language": "python",
   "name": "python3"
  },
  "language_info": {
   "codemirror_mode": {
    "name": "ipython",
    "version": 3
   },
   "file_extension": ".py",
   "mimetype": "text/x-python",
   "name": "python",
   "nbconvert_exporter": "python",
   "pygments_lexer": "ipython3",
   "version": "3.10.12"
  }
 },
 "nbformat": 4,
 "nbformat_minor": 5
}
